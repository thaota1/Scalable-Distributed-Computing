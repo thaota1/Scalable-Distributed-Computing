{
  "cells": [
    {
      "cell_type": "markdown",
      "metadata": {
        "id": "NNiUan1EoX3p"
      },
      "source": [
        "1) Create an iterator that takes in a list and when iterated over, it returns the information in a reverse order.\n",
        "\n",
        "Hint: When accepting arguments into an iterator, you need to use the init method, as well as iter and next. The call below should result in `5, 4, 3, 2, 1`."
      ]
    },
    {
      "cell_type": "code",
      "execution_count": 1,
      "metadata": {
        "id": "-6cp8DwaoXXF"
      },
      "outputs": [
        {
          "name": "stdout",
          "output_type": "stream",
          "text": [
            "5 4 3 2 1 "
          ]
        }
      ],
      "source": [
        "class rev_iter:\n",
        "    def __init__(self):\n",
        "        self.nums = [1, 2, 3, 4, 5]\n",
        "        self.index = len(self.nums) - 1\n",
        "\n",
        "    def __iter__(self):\n",
        "        return self\n",
        "\n",
        "    def __next__(self):\n",
        "        if 0 <= self.index < len(self.nums):\n",
        "            count = self.nums[self.index]\n",
        "            self.index -= 1\n",
        "            return count\n",
        "        else:\n",
        "            raise StopIteration\n",
        "\n",
        "for i in rev_iter():\n",
        "    print(i, end = ' ')"
      ]
    },
    {
      "cell_type": "markdown",
      "metadata": {
        "id": "BVQ72glfoutf"
      },
      "source": [
        "2) Create a generator that acts like the range function, except it yields a squared number every time. The result of the call below should be `0, 1, 4, 16`."
      ]
    },
    {
      "cell_type": "code",
      "execution_count": 2,
      "metadata": {
        "id": "owVC8_w3ou6G"
      },
      "outputs": [
        {
          "name": "stdout",
          "output_type": "stream",
          "text": [
            "0 1 4 9 16 "
          ]
        }
      ],
      "source": [
        "def squared(n):\n",
        "    for i in range(n + 1):\n",
        "        yield i**2\n",
        "        \n",
        "for x in squared(4):\n",
        "    print(x, end = ' ' )"
      ]
    },
    {
      "cell_type": "markdown",
      "metadata": {
        "id": "WCEoyR5arJoQ"
      },
      "source": [
        "3) Develop a function to compute the finonacci series based on `generator`."
      ]
    },
    {
      "cell_type": "code",
      "execution_count": 3,
      "metadata": {
        "id": "HmLc2GfnrJ-z"
      },
      "outputs": [
        {
          "name": "stdout",
          "output_type": "stream",
          "text": [
            "0 1 1 2 "
          ]
        }
      ],
      "source": [
        "def fib():\n",
        "    a,b = 0,1 \n",
        "    while True:\n",
        "        yield a \n",
        "        a,b = b, a+b\n",
        "n= int(input('input the number to generate:'))\n",
        "##Test\n",
        "fib1 = fib ()\n",
        "for _ in range(n):\n",
        "    print(next(fib1), end= ' ')"
      ]
    },
    {
      "cell_type": "markdown",
      "metadata": {
        "id": "xcWeSZiBtLqQ"
      },
      "source": [
        "4) Define a class with a generator which can iterate the numbers, which are divisible by 7, between a given range 0 and n."
      ]
    },
    {
      "cell_type": "code",
      "execution_count": 4,
      "metadata": {},
      "outputs": [
        {
          "name": "stdout",
          "output_type": "stream",
          "text": [
            "[0, 7, 14, 21, 28, 35, 42, 49, 56, 63, 70, 77, 84, 91, 98, 105, 112, 119, 126, 133, 140, 147]\n"
          ]
        }
      ],
      "source": [
        "class Divisible:\n",
        "\n",
        "    def div_check(n):\n",
        "        for i in range(n):\n",
        "            if i % 7 == 0:\n",
        "                yield i\n",
        "divisible = Divisible()\n",
        "n = int(input('input number:'))\n",
        "list_check = [i for i in range(0, n) if (i % 7 == 0)]\n",
        "print(list_check)\n"
      ]
    },
    {
      "cell_type": "markdown",
      "metadata": {
        "id": "FP-BaKVRth4D"
      },
      "source": [
        "5) Define a class named `American` and its subclass `NewYorker`.\n",
        "\n",
        "Hints:\n",
        "\n",
        "Use class `Subclass(ParentClass)` to define a subclass.\n"
      ]
    },
    {
      "cell_type": "code",
      "execution_count": 5,
      "metadata": {
        "id": "2TJTrB99tiRV"
      },
      "outputs": [
        {
          "name": "stdout",
          "output_type": "stream",
          "text": [
            "<__main__.American object at 0x00000265875ACA30>\n",
            "<__main__.NewYorker object at 0x00000265875AD030>\n"
          ]
        }
      ],
      "source": [
        "class American():\n",
        "    pass\n",
        "\n",
        "class NewYorker(American):\n",
        "    pass\n",
        "##Test\n",
        "american = American()\n",
        "newyorker = NewYorker()\n",
        "\n",
        "print(american)\n",
        "print(newyorker)"
      ]
    },
    {
      "cell_type": "markdown",
      "metadata": {
        "id": "Wd7B_CeVt01b"
      },
      "source": [
        "6) Define a class named `Circle` which can be constructed by a radius. The `Circle` class has a method which can compute the area."
      ]
    },
    {
      "cell_type": "code",
      "execution_count": 6,
      "metadata": {
        "id": "iQaFglGpt1Au"
      },
      "outputs": [
        {
          "name": "stdout",
          "output_type": "stream",
          "text": [
            "153.9384\n"
          ]
        }
      ],
      "source": [
        "class Circle():\n",
        "    def __init__(self,r):\n",
        "        self.radius = r\n",
        "\n",
        "    def area(self):\n",
        "        return 3.1416*(self.radius**2)\n",
        "\n",
        "##Test\n",
        "circle = Circle(7)\n",
        "print(circle.area())"
      ]
    },
    {
      "cell_type": "markdown",
      "metadata": {
        "id": "c9MY9pyKuELX"
      },
      "source": [
        "7) Define a class named `Rectangle` which can be constructed by a `length` and `width`. The `Rectangle` class has a method which can compute the area."
      ]
    },
    {
      "cell_type": "code",
      "execution_count": 7,
      "metadata": {
        "id": "36Hyr-tguEba"
      },
      "outputs": [
        {
          "name": "stdout",
          "output_type": "stream",
          "text": [
            "8\n"
          ]
        }
      ],
      "source": [
        "class Rectangle():\n",
        "    def __init__(self,l,w):\n",
        "        self.length = l\n",
        "        self.width = w\n",
        "\n",
        "    def area(self):\n",
        "        return self.length*self.width\n",
        "\n",
        "##Test\n",
        "rect = Rectangle(2,4)\n",
        "print(rect.area())"
      ]
    },
    {
      "cell_type": "markdown",
      "metadata": {
        "id": "5NAboKzEudPA"
      },
      "source": [
        "8) Define a class Person and its two child classes: `Male` and `Female`. All classes have a method `getGender` which can print `Male` for `Male` class and `Female` for `Female` class."
      ]
    },
    {
      "cell_type": "code",
      "execution_count": 8,
      "metadata": {
        "id": "nppOgy02udbI"
      },
      "outputs": [
        {
          "name": "stdout",
          "output_type": "stream",
          "text": [
            "Male\n",
            "Female\n"
          ]
        }
      ],
      "source": [
        "class Person(object):\n",
        "    def getGender( self ):\n",
        "        return \"Unknown\"\n",
        "\n",
        "class Male( Person ):\n",
        "    def getGender( self ):\n",
        "        return \"Male\"\n",
        "\n",
        "class Female( Person ):\n",
        "    def getGender( self ):\n",
        "        return \"Female\"\n",
        "##Test\n",
        "aMale = Male()\n",
        "aFemale= Female()\n",
        "print (aMale.getGender())\n",
        "print (aFemale.getGender())"
      ]
    }
  ],
  "metadata": {
    "colab": {
      "provenance": []
    },
    "kernelspec": {
      "display_name": "Python 3",
      "name": "python3"
    },
    "language_info": {
      "codemirror_mode": {
        "name": "ipython",
        "version": 3
      },
      "file_extension": ".py",
      "mimetype": "text/x-python",
      "name": "python",
      "nbconvert_exporter": "python",
      "pygments_lexer": "ipython3",
      "version": "3.10.11"
    }
  },
  "nbformat": 4,
  "nbformat_minor": 0
}
