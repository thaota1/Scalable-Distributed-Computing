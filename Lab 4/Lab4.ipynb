{
  "cells": [
    {
      "cell_type": "markdown",
      "metadata": {
        "id": "roAyNwmf67Cl"
      },
      "source": [
        "## Exercise 1\n",
        "Write a function to compute the below formualation with the use of map function\n",
        "\\begin{equation}\n",
        "x^2 + y^2 - r^2\n",
        "\\end{equation}\n",
        "\n",
        "then, print out the values of the equation at these below values of $x$, $y$ and $z$\n",
        "```\n",
        "x = [1,2,3,4,5,6]\n",
        "y = [2,3,4,5,6,7]\n",
        "r = [1,1,3,3,4,5]\n",
        "\n",
        "```"
      ]
    },
    {
      "cell_type": "code",
      "execution_count": 7,
      "metadata": {},
      "outputs": [
        {
          "name": "stdout",
          "output_type": "stream",
          "text": [
            "for x=1, y=2, r=1, result = 4\n",
            "for x=2, y=3, r=1, result = 12\n",
            "for x=3, y=4, r=3, result = 16\n",
            "for x=4, y=5, r=3, result = 32\n",
            "for x=5, y=6, r=4, result = 45\n",
            "for x=6, y=7, r=5, result = 60\n"
          ]
        }
      ],
      "source": [
        "def compute(x, y, r):\n",
        "    return x**2 + y**2 - r**2\n",
        "\n",
        "x = [1, 2, 3, 4, 5, 6]\n",
        "y = [2, 3, 4, 5, 6, 7]\n",
        "r = [1, 1, 3, 3, 4, 5]\n",
        "\n",
        "a = list(map(compute, x, y, r))\n",
        "\n",
        "for i in range(len(x)):\n",
        "    print(f\"for x={x[i]}, y={y[i]}, r={r[i]}, result = {a[i]}\")\n"
      ]
    },
    {
      "cell_type": "markdown",
      "metadata": {
        "id": "jbbvCewW-Zib"
      },
      "source": [
        "## Exercise 2\n",
        "\n",
        "Write a function that take input as a list of words and return to a list of integers representing the lengths of the correponding words.\n",
        "\n",
        "Write it in three different ways:\n",
        "1. using a for-loop,\n",
        "2. using function `map()`, and\n",
        "3. using list comprehensions."
      ]
    },
    {
      "cell_type": "code",
      "execution_count": 8,
      "metadata": {},
      "outputs": [],
      "source": [
        "#1\n",
        "def for_loop_func(word_list):\n",
        "    x = []\n",
        "    for word in word_list:\n",
        "        x.append(len(word))\n",
        "    return x\n",
        "#2\n",
        "def map_func(word_list):\n",
        "    return list(map(len, word_list))\n",
        "#3\n",
        "def list_comprehension_func(word_list):\n",
        "    return [len(word) for word in word_list]"
      ]
    },
    {
      "cell_type": "code",
      "execution_count": 9,
      "metadata": {},
      "outputs": [
        {
          "name": "stdout",
          "output_type": "stream",
          "text": [
            "[3, 4, 5, 5, 5, 4, 10]\n",
            "[3, 4, 5, 5, 5, 4, 10]\n",
            "[3, 4, 5, 5, 5, 4, 10]\n"
          ]
        }
      ],
      "source": [
        "word_list = [\"car\", \"bike\", \"plane\", \"train\", \"truck\", \"boat\", \"helicopter\"]\n",
        "print(for_loop_func(word_list))\n",
        "print(map_func(word_list))\n",
        "print(list_comprehension_func(word_list))"
      ]
    },
    {
      "cell_type": "markdown",
      "metadata": {
        "id": "wJwBpx3CB6Mz"
      },
      "source": [
        "## Exercise 3\n",
        "\n",
        "Implement a program to make a list whose elements are double string of a string `re` (i.e., `rere`), where `re` is the first two characters of approriate elements in this list:\n",
        "\n",
        "`['real', 'rock', 'realize', 'rocket', 'red', 'eraser' , '7', 8 , 9, 10]`."
      ]
    },
    {
      "cell_type": "code",
      "execution_count": 10,
      "metadata": {
        "id": "TvyLK6aekEq6"
      },
      "outputs": [
        {
          "name": "stdout",
          "output_type": "stream",
          "text": [
            "['rere', 'roro', 'rere', 'roro', 'rere', 'erer']\n"
          ]
        }
      ],
      "source": [
        "def double_strings(lst):\n",
        "    result = []\n",
        "\n",
        "    for item in lst:\n",
        "        if isinstance(item, str) and len(item) >= 2:\n",
        "            re = item[:2]\n",
        "            result.append(re * 2)\n",
        "\n",
        "    return result\n",
        "\n",
        "x1 = ['real', 'rock', 'realize', 'rocket', 'red', 'eraser', '7', 8, 9, 10]\n",
        "x = double_strings(x1)\n",
        "\n",
        "print(x)\n"
      ]
    },
    {
      "cell_type": "markdown",
      "metadata": {
        "id": "FmUuMocREUy4"
      },
      "source": [
        "## Exercise 4\n",
        "\n",
        "Write a function `max_in_list()` that takes a list of numbers and returns the largest one using `reduce()` in lib `functools`"
      ]
    },
    {
      "cell_type": "code",
      "execution_count": 11,
      "metadata": {},
      "outputs": [
        {
          "name": "stdout",
          "output_type": "stream",
          "text": [
            "the maximum number: 87.5\n"
          ]
        }
      ],
      "source": [
        "from functools import reduce\n",
        "\n",
        "def max_in_list(numbers):\n",
        "    if not numbers:\n",
        "        raise ValueError(\"wrong imput\")\n",
        "\n",
        "    return reduce(lambda x, y: x if x > y \n",
        "                                 else y, numbers)\n",
        "\n",
        "# Example:\n",
        "numbers = [3,5,2,5,8,2,5,3,77,22,87.5,84]\n",
        "maximum = max_in_list(numbers)\n",
        "print(\"the maximum number:\", maximum)\n"
      ]
    },
    {
      "cell_type": "markdown",
      "metadata": {
        "id": "HH2WAgksg9wM"
      },
      "source": [
        "## Exercise 5\n",
        "\n",
        "Using Python `map` to write a Python program to triple all numbers of a given list of integers."
      ]
    },
    {
      "cell_type": "code",
      "execution_count": 12,
      "metadata": {
        "id": "4FUQmmUylEbl"
      },
      "outputs": [
        {
          "name": "stdout",
          "output_type": "stream",
          "text": [
            "first list: [3, 5, 2, 5, 8, 2, 5, 3, 77, 22, 87.5, 84]\n",
            "list after triple: [9, 15, 6, 15, 24, 6, 15, 9, 231, 66, 262.5, 252]\n"
          ]
        }
      ],
      "source": [
        "def triple(lst):\n",
        "    return lst * 3 \n",
        "\n",
        "x = [3,5,2,5,8,2,5,3,77,22,87.5,84]\n",
        "after_triple = list(map(triple,x))\n",
        "\n",
        "print('first list:', x)\n",
        "print('list after triple:',after_triple)"
      ]
    }
  ],
  "metadata": {
    "colab": {
      "provenance": []
    },
    "kernelspec": {
      "display_name": "Python 3",
      "name": "python3"
    },
    "language_info": {
      "codemirror_mode": {
        "name": "ipython",
        "version": 3
      },
      "file_extension": ".py",
      "mimetype": "text/x-python",
      "name": "python",
      "nbconvert_exporter": "python",
      "pygments_lexer": "ipython3",
      "version": "3.11.2"
    }
  },
  "nbformat": 4,
  "nbformat_minor": 0
}
