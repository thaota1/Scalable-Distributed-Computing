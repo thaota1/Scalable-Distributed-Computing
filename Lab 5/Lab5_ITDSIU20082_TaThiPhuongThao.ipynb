{
  "nbformat": 4,
  "nbformat_minor": 0,
  "metadata": {
    "colab": {
      "provenance": []
    },
    "kernelspec": {
      "name": "python3",
      "display_name": "Python 3"
    },
    "language_info": {
      "name": "python"
    }
  },
  "cells": [
    {
      "cell_type": "markdown",
      "source": [
        "I. Revise the session of using map/reduce in Hadoop."
      ],
      "metadata": {
        "id": "qDbNqtoWhuDy"
      }
    },
    {
      "cell_type": "markdown",
      "source": [
        "II. Write `mapper.py` and `reducer.py` in these below cases, then run map/reduce in Hadoop system as in the lecture you're given.\n"
      ],
      "metadata": {
        "id": "IhAbBn1Mh6km"
      }
    },
    {
      "cell_type": "markdown",
      "source": [
        "1. The data `purchases.txt` is about the purchasing information of a store.\n",
        "```\n",
        "2012-01-01\t09:00\tSan Jose\tMen's Clothing\t214.05\tAmex\n",
        "2012-01-01\t09:00\tFort Worth\tWomen's Clothing\t153.57\tVisa\n",
        "2012-01-01\t09:00\tSan Diego\tMusic\t66.08\tCash\n",
        "2012-01-01\t09:00\tPittsburgh\tPet Supplies\t493.51\tDiscover\n",
        "...\n",
        "```\n",
        "You are required to write `mapper.py` and `reducer.py` to summary the item and the cost as follow:\n",
        "```\n",
        "Men's Clothing \t214.05\n",
        "Men's Clothing \t214.05\n",
        "Women's Clothing \t153.57\n",
        "Women's Clothing \t153.57\n",
        "Music \t66.08\n",
        "Music \t66.08\n",
        "Pet Supplies \t493.51\n",
        "Pet Supplies \t493.51\n",
        "Children's Clothing \t235.63\n",
        "Children's Clothing \t235.63\n",
        "...\n",
        "```\n",
        "Note: Run below code to get the data:\n",
        "```python\n",
        "!wget -q http://content.udacity-data.com/courses/ud617/purchases.txt.gz\n",
        "!gunzip purchases.txt.gz\n",
        "```"
      ],
      "metadata": {
        "id": "-t3Tm87niixw"
      }
    },
    {
      "cell_type": "code",
      "source": [
        "!apt-get install openjdk-8-jdk-headless -qq > /dev/null\n",
        "!wget -q http://archive.apache.org/dist/spark/spark-3.1.1/spark-3.1.1-bin-hadoop3.2.tgz\n",
        "!tar xf spark-3.1.1-bin-hadoop3.2.tgz\n",
        "!pip install -q findspark\n",
        "import os\n",
        "os.environ[\"JAVA_HOME\"] = \"/usr/lib/jvm/java-8-openjdk-amd64\"\n",
        "os.environ[\"SPARK_HOME\"] = \"/content/spark-3.1.1-bin-hadoop3.2\"\n",
        "import findspark\n",
        "findspark.init()"
      ],
      "metadata": {
        "id": "MCSwy4-0gXTn"
      },
      "execution_count": 16,
      "outputs": []
    },
    {
      "cell_type": "code",
      "source": [
        "!wget -q http://content.udacity-data.com/courses/ud617/purchases.txt.gz\n",
        "!gunzip purchases.txt.gz"
      ],
      "metadata": {
        "colab": {
          "base_uri": "https://localhost:8080/"
        },
        "id": "DazXFauJdOEO",
        "outputId": "b4f79a33-dcf0-4d91-c681-be12cb1d4ebb"
      },
      "execution_count": 5,
      "outputs": [
        {
          "output_type": "stream",
          "name": "stdout",
          "text": [
            "gzip: purchases.txt already exists; do you wish to overwrite (y or n)? y\n"
          ]
        }
      ]
    },
    {
      "cell_type": "code",
      "source": [
        "import sys\n",
        "for line in sys.stdin:\n",
        "    line = line.strip()\n",
        "    fields = line.split(\"\\t\")\n",
        "    category = fields[3]\n",
        "    cost = float(fields[4])\n",
        "    print(f\"{category}\\t{cost}\")\n"
      ],
      "metadata": {
        "id": "3VhDksKidg4J"
      },
      "execution_count": 17,
      "outputs": []
    },
    {
      "cell_type": "code",
      "source": [
        "import sys\n",
        "\n",
        "current_category = None\n",
        "current_total_cost = 0.0\n",
        "for line in sys.stdin:\n",
        "    line = line.strip()\n",
        "    category, cost_str = line.split(\"\\t\")\n",
        "    cost = float(cost_str)\n",
        "\n",
        "    if current_category != category:\n",
        "        if current_category is not None:\n",
        "            print(f\"{current_category}\\t{current_total_cost}\")\n",
        "        current_category = category\n",
        "        current_total_cost = 0.0\n",
        "    current_total_cost += cost\n",
        "if current_category is not None:\n",
        "    print(f\"{current_category}\\t{current_total_cost}\")\n"
      ],
      "metadata": {
        "id": "WNWYWh3rdkjv"
      },
      "execution_count": 18,
      "outputs": []
    },
    {
      "cell_type": "markdown",
      "source": [
        "2. This case is required to return the cost of the item that is most expensive, for each location for the data `example.txt` attached in BB.\n",
        "```\n",
        "Atlanta     189.22\n",
        "Aurora  82.38\n",
        "Austin  48.09\n",
        "Birmingham  1.64\n",
        "Boston  397.21\n",
        "Buffalo     386.56\n",
        "Chicago     431.73\n",
        "...\n",
        "```"
      ],
      "metadata": {
        "id": "YhDFEL6okPPG"
      }
    },
    {
      "cell_type": "code",
      "source": [
        "from google.colab import files\n",
        "files.upload()"
      ],
      "metadata": {
        "colab": {
          "base_uri": "https://localhost:8080/",
          "height": 298
        },
        "id": "7vstog9VgfND",
        "outputId": "91dc3652-6f01-4f6b-d3d5-718ae28acf40"
      },
      "execution_count": 19,
      "outputs": [
        {
          "output_type": "display_data",
          "data": {
            "text/plain": [
              "<IPython.core.display.HTML object>"
            ],
            "text/html": [
              "\n",
              "     <input type=\"file\" id=\"files-d192558f-2cf9-422a-858c-976a774ad232\" name=\"files[]\" multiple disabled\n",
              "        style=\"border:none\" />\n",
              "     <output id=\"result-d192558f-2cf9-422a-858c-976a774ad232\">\n",
              "      Upload widget is only available when the cell has been executed in the\n",
              "      current browser session. Please rerun this cell to enable.\n",
              "      </output>\n",
              "      <script>// Copyright 2017 Google LLC\n",
              "//\n",
              "// Licensed under the Apache License, Version 2.0 (the \"License\");\n",
              "// you may not use this file except in compliance with the License.\n",
              "// You may obtain a copy of the License at\n",
              "//\n",
              "//      http://www.apache.org/licenses/LICENSE-2.0\n",
              "//\n",
              "// Unless required by applicable law or agreed to in writing, software\n",
              "// distributed under the License is distributed on an \"AS IS\" BASIS,\n",
              "// WITHOUT WARRANTIES OR CONDITIONS OF ANY KIND, either express or implied.\n",
              "// See the License for the specific language governing permissions and\n",
              "// limitations under the License.\n",
              "\n",
              "/**\n",
              " * @fileoverview Helpers for google.colab Python module.\n",
              " */\n",
              "(function(scope) {\n",
              "function span(text, styleAttributes = {}) {\n",
              "  const element = document.createElement('span');\n",
              "  element.textContent = text;\n",
              "  for (const key of Object.keys(styleAttributes)) {\n",
              "    element.style[key] = styleAttributes[key];\n",
              "  }\n",
              "  return element;\n",
              "}\n",
              "\n",
              "// Max number of bytes which will be uploaded at a time.\n",
              "const MAX_PAYLOAD_SIZE = 100 * 1024;\n",
              "\n",
              "function _uploadFiles(inputId, outputId) {\n",
              "  const steps = uploadFilesStep(inputId, outputId);\n",
              "  const outputElement = document.getElementById(outputId);\n",
              "  // Cache steps on the outputElement to make it available for the next call\n",
              "  // to uploadFilesContinue from Python.\n",
              "  outputElement.steps = steps;\n",
              "\n",
              "  return _uploadFilesContinue(outputId);\n",
              "}\n",
              "\n",
              "// This is roughly an async generator (not supported in the browser yet),\n",
              "// where there are multiple asynchronous steps and the Python side is going\n",
              "// to poll for completion of each step.\n",
              "// This uses a Promise to block the python side on completion of each step,\n",
              "// then passes the result of the previous step as the input to the next step.\n",
              "function _uploadFilesContinue(outputId) {\n",
              "  const outputElement = document.getElementById(outputId);\n",
              "  const steps = outputElement.steps;\n",
              "\n",
              "  const next = steps.next(outputElement.lastPromiseValue);\n",
              "  return Promise.resolve(next.value.promise).then((value) => {\n",
              "    // Cache the last promise value to make it available to the next\n",
              "    // step of the generator.\n",
              "    outputElement.lastPromiseValue = value;\n",
              "    return next.value.response;\n",
              "  });\n",
              "}\n",
              "\n",
              "/**\n",
              " * Generator function which is called between each async step of the upload\n",
              " * process.\n",
              " * @param {string} inputId Element ID of the input file picker element.\n",
              " * @param {string} outputId Element ID of the output display.\n",
              " * @return {!Iterable<!Object>} Iterable of next steps.\n",
              " */\n",
              "function* uploadFilesStep(inputId, outputId) {\n",
              "  const inputElement = document.getElementById(inputId);\n",
              "  inputElement.disabled = false;\n",
              "\n",
              "  const outputElement = document.getElementById(outputId);\n",
              "  outputElement.innerHTML = '';\n",
              "\n",
              "  const pickedPromise = new Promise((resolve) => {\n",
              "    inputElement.addEventListener('change', (e) => {\n",
              "      resolve(e.target.files);\n",
              "    });\n",
              "  });\n",
              "\n",
              "  const cancel = document.createElement('button');\n",
              "  inputElement.parentElement.appendChild(cancel);\n",
              "  cancel.textContent = 'Cancel upload';\n",
              "  const cancelPromise = new Promise((resolve) => {\n",
              "    cancel.onclick = () => {\n",
              "      resolve(null);\n",
              "    };\n",
              "  });\n",
              "\n",
              "  // Wait for the user to pick the files.\n",
              "  const files = yield {\n",
              "    promise: Promise.race([pickedPromise, cancelPromise]),\n",
              "    response: {\n",
              "      action: 'starting',\n",
              "    }\n",
              "  };\n",
              "\n",
              "  cancel.remove();\n",
              "\n",
              "  // Disable the input element since further picks are not allowed.\n",
              "  inputElement.disabled = true;\n",
              "\n",
              "  if (!files) {\n",
              "    return {\n",
              "      response: {\n",
              "        action: 'complete',\n",
              "      }\n",
              "    };\n",
              "  }\n",
              "\n",
              "  for (const file of files) {\n",
              "    const li = document.createElement('li');\n",
              "    li.append(span(file.name, {fontWeight: 'bold'}));\n",
              "    li.append(span(\n",
              "        `(${file.type || 'n/a'}) - ${file.size} bytes, ` +\n",
              "        `last modified: ${\n",
              "            file.lastModifiedDate ? file.lastModifiedDate.toLocaleDateString() :\n",
              "                                    'n/a'} - `));\n",
              "    const percent = span('0% done');\n",
              "    li.appendChild(percent);\n",
              "\n",
              "    outputElement.appendChild(li);\n",
              "\n",
              "    const fileDataPromise = new Promise((resolve) => {\n",
              "      const reader = new FileReader();\n",
              "      reader.onload = (e) => {\n",
              "        resolve(e.target.result);\n",
              "      };\n",
              "      reader.readAsArrayBuffer(file);\n",
              "    });\n",
              "    // Wait for the data to be ready.\n",
              "    let fileData = yield {\n",
              "      promise: fileDataPromise,\n",
              "      response: {\n",
              "        action: 'continue',\n",
              "      }\n",
              "    };\n",
              "\n",
              "    // Use a chunked sending to avoid message size limits. See b/62115660.\n",
              "    let position = 0;\n",
              "    do {\n",
              "      const length = Math.min(fileData.byteLength - position, MAX_PAYLOAD_SIZE);\n",
              "      const chunk = new Uint8Array(fileData, position, length);\n",
              "      position += length;\n",
              "\n",
              "      const base64 = btoa(String.fromCharCode.apply(null, chunk));\n",
              "      yield {\n",
              "        response: {\n",
              "          action: 'append',\n",
              "          file: file.name,\n",
              "          data: base64,\n",
              "        },\n",
              "      };\n",
              "\n",
              "      let percentDone = fileData.byteLength === 0 ?\n",
              "          100 :\n",
              "          Math.round((position / fileData.byteLength) * 100);\n",
              "      percent.textContent = `${percentDone}% done`;\n",
              "\n",
              "    } while (position < fileData.byteLength);\n",
              "  }\n",
              "\n",
              "  // All done.\n",
              "  yield {\n",
              "    response: {\n",
              "      action: 'complete',\n",
              "    }\n",
              "  };\n",
              "}\n",
              "\n",
              "scope.google = scope.google || {};\n",
              "scope.google.colab = scope.google.colab || {};\n",
              "scope.google.colab._files = {\n",
              "  _uploadFiles,\n",
              "  _uploadFilesContinue,\n",
              "};\n",
              "})(self);\n",
              "</script> "
            ]
          },
          "metadata": {}
        },
        {
          "output_type": "stream",
          "name": "stdout",
          "text": [
            "Saving example.txt to example.txt\n"
          ]
        },
        {
          "output_type": "execute_result",
          "data": {
            "text/plain": [
              "{'example.txt': b\"2012-07-16\\t15:43\\tLas Vegas\\tMen's Clothing\\t208.97\\tVisa\\n2012-06-11\\t16:17\\tMiami\\tCrafts\\t84.11\\tAmex\\n2012-10-17\\t15:30\\tTucson\\tCrafts\\t489.93\\tCash\\n2012-10-25\\t15:01\\tSan Francisco\\tMen's Clothing\\t388.3\\tVisa\\n2012-07-13\\t09:01\\tDallas\\tConsumer Electronics\\t145.63\\tCash\\n2012-11-06\\t13:02\\tTampa\\tGarden\\t353.23\\tMasterCard\\n2012-09-07\\t12:58\\tWashington\\tWomen's Clothing\\t481.31\\tMasterCard\\n2012-08-05\\t16:34\\tSan Jose\\tDVDs\\t492.8\\tDiscover\\n2012-04-22\\t13:12\\tNewark\\tConsumer Electronics\\t410.37\\tVisa\\n2012-10-19\\t11:35\\tMemphis\\tGarden\\t354.44\\tDiscover\\n2012-10-10\\t13:17\\tJersey City\\tBooks\\t369.07\\tAmex\\n2012-04-27\\t11:54\\tPlano\\tWomen's Clothing\\t4.65\\tCash\\n2012-08-28\\t14:56\\tBuffalo\\tVideo Games\\t337.35\\tDiscover\\n2012-09-17\\t13:09\\tLouisville\\tMusic\\t213.64\\tDiscover\\n2012-02-24\\t12:05\\tMiami\\tWomen's Clothing\\t154.64\\tCash\\n2012-01-02\\t10:04\\tLos\\tAngeles Pet Supplies\\t164.5\\tDiscover\\n2012-11-15\\t15:46\\tBirmingham\\tMen's Clothing\\t1.64\\tCash\\n2012-03-16\\t11:18\\tMesa\\tToys\\t13.79\\tVisa\\n2012-06-25\\t10:05\\tWichita\\tConsumer Electronics\\t158.25\\tAmex\\n2012-04-05\\t17:03\\tIndianapolis\\tPet Supplies\\t152.77\\tAmex\\n2012-11-08\\t15:19\\tSan Bernardino\\tVideo Games\\t332.43\\tDiscover\\n2012-08-08\\t10:09\\tIndianapolis\\tHealth and Beauty\\t464.36\\tAmex\\n2012-03-02\\t09:25\\tStockton\\tMen's Clothing\\t180.61\\tDiscover\\n2012-02-27\\t16:12\\tAustin\\tHealth and Beauty\\t48.09\\tVisa\\n2012-12-29\\t16:56\\tBuffalo\\tGarden\\t386.56\\tAmex\\n2012-03-20\\t09:02\\tSanta Ana\\tBooks\\t2.75\\tAmex\\n2012-10-30\\t11:52\\tGilbert\\tDVDs\\t11.31\\tAmex\\n2012-02-03\\t11:02\\tNew York\\tDVDs\\t221.35\\tVisa\\n2012-07-26\\t16:16\\tCorpus Christi\\tHealth and Beauty\\t157.91\\tAmex\\n2012-07-20\\t11:46\\tRiverside\\tVideo Games\\t349.41\\tVisa\\n2012-10-04\\t12:25\\tChicago\\tChildren's Clothing\\t364.53\\tMasterCard\\n2012-02-04\\t11:53\\tFremont\\tVideo Games\\t404.17\\tCash\\n2012-05-31\\t14:43\\tRochester\\tVideo Games\\t460.39\\tAmex\\n2012-05-25\\t16:11\\tRaleigh\\tComputers\\t61.22\\tMasterCard\\n2012-05-11\\t12:39\\tChicago\\tPet Supplies\\t431.73\\tCash\\n2012-04-07\\t11:39\\tCincinnati\\tComputers\\t288.32\\tDiscover\\n2012-04-18\\t16:57\\tRochester\\tConsumer Electronics\\t342.62\\tAmex\\n2012-12-19\\t10:12\\tPittsburgh\\tBooks\\t498.29\\tCash\\n2012-01-21\\t14:50\\tRochester\\tCameras\\t485.71\\tMasterCard\\n2012-11-15\\t09:23\\tGlendale\\tVideo Games\\t14.09\\tAmex\\n2012-01-07\\t14:20\\tCincinnati\\tCrafts\\t1.41\\tAmex\\n2012-10-20\\t14:53\\tIrvine\\tVideo Games\\t15.19\\tDiscover\\n2012-03-04\\t12:11\\tBoston\\tVideo Games\\t397.21\\tVisa\\n2012-01-11\\t09:04\\tScottsdale\\tGarden\\t214.32\\tDiscover\\n2012-08-11\\t10:57\\tAtlanta\\tGarden\\t189.22\\tVisa\\n2012-05-22\\t13:08\\tCincinnati\\tMen's Clothing\\t443.78\\tVisa\\n2012-01-11\\t17:20\\tLubbock\\tGarden\\t27.68\\tCash\\n2012-01-16\\t13:31\\tCincinnati\\tCameras\\t129.6\\tCash\\n2012-02-10\\t10:39\\tSanta Ana\\tComputers\\t282.13\\tMasterCard\\n2012-03-22\\t09:57\\tAurora\\tDVDs\\t82.38\\tDiscover\\n\"}"
            ]
          },
          "metadata": {},
          "execution_count": 19
        }
      ]
    },
    {
      "cell_type": "code",
      "source": [
        "import sys\n",
        "most_expensive = {}\n",
        "for line in sys.stdin:\n",
        "    line = line.strip()\n",
        "    fields = line.split('\\t')\n",
        "    if len(fields) == 6:\n",
        "        date, time, location, category, cost, payment = fields\n",
        "        cost = float(cost)\n",
        "        if location not in most_expensive or cost > most_expensive[location][1]:\n",
        "            most_expensive[location] = (category, cost)\n",
        "\n",
        "for location, (category, cost) in most_expensive.items():\n",
        "    print(f\"{location}\\t{cost}\")\n"
      ],
      "metadata": {
        "id": "4nuC_jpJh4r6"
      },
      "execution_count": 21,
      "outputs": []
    },
    {
      "cell_type": "code",
      "source": [
        "import sys\n",
        "current_location = None\n",
        "max_cost = 0.0\n",
        "\n",
        "for line in sys.stdin:\n",
        "    line = line.strip()\n",
        "    location, cost = line.split('\\t', 1)\n",
        "    cost = float(cost)\n",
        "    if current_location == location:\n",
        "        if cost > max_cost:\n",
        "            max_cost = cost\n",
        "    else:\n",
        "        if current_location:\n",
        "            print(f\"{current_location}\\t{max_cost}\")\n",
        "        current_location = location\n",
        "        max_cost = cost\n",
        "if current_location:\n",
        "    print(f\"{current_location}\\t{max_cost}\")\n"
      ],
      "metadata": {
        "id": "2cKNoADWgDPV"
      },
      "execution_count": 22,
      "outputs": []
    }
  ]
}