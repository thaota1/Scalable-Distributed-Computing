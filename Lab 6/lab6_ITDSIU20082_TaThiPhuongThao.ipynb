{
  "nbformat": 4,
  "nbformat_minor": 0,
  "metadata": {
    "colab": {
      "provenance": []
    },
    "kernelspec": {
      "name": "python3",
      "display_name": "Python 3"
    },
    "language_info": {
      "name": "python"
    }
  },
  "cells": [
    {
      "cell_type": "markdown",
      "source": [
        "## Exercise I\n",
        "\n",
        "The input is a textual csv file containing the daily value of PM10 for a set of sensors, and in each line of the files has the following format:\n",
        "```sensorId,date,PM10 value (μg/m3)\\n```\n",
        "\n",
        "Here is the example of data:\n",
        "```\n",
        "s1,2016-01-01,20.5\n",
        "s2,2016-01-01,30.1\n",
        "s1,2016-01-02,60.2\n",
        "s2,2016-01-02,20.4\n",
        "s1,2016-01-03,55.5\n",
        "s2,2016-01-03,52.5\n",
        "```\n",
        "\n",
        "You're required to use pyspark to load the file, filter the values and use map/reduce code idea to give the output. The output is a line for each sensor on the standard output.\n",
        "Each line contains a `sensorId` and the list of `dates` with a PM10 values greater than 50 for that sensor. The example output:\n",
        "```\n",
        "(s1, [2016-01-02, 2016-01-03])\n",
        "(s2, [2016-01-03])\n",
        "```\n",
        "\n"
      ],
      "metadata": {
        "id": "8H58RnChZq0b"
      }
    },
    {
      "cell_type": "code",
      "source": [
        "!apt-get install openjdk-8-jdk-headless -qq > /dev/null\n",
        "!wget -q http://archive.apache.org/dist/spark/spark-3.1.1/spark-3.1.1-bin-hadoop3.2.tgz\n",
        "!tar xf spark-3.1.1-bin-hadoop3.2.tgz\n",
        "!pip install -q findspark\n",
        "import os\n",
        "os.environ[\"JAVA_HOME\"] = \"/usr/lib/jvm/java-8-openjdk-amd64\"\n",
        "os.environ[\"SPARK_HOME\"] = \"/content/spark-3.1.1-bin-hadoop3.2\"\n",
        "import findspark\n",
        "findspark.init()"
      ],
      "metadata": {
        "id": "nD_Lxyc0mNfv"
      },
      "execution_count": 2,
      "outputs": []
    },
    {
      "cell_type": "code",
      "source": [
        "from pyspark.sql import SparkSession\n",
        "from pyspark.sql import functions as F\n",
        "spark = SparkSession.builder.appName(\"PM10Analysis\").getOrCreate()"
      ],
      "metadata": {
        "id": "jE3J1ED_mpFV"
      },
      "execution_count": 4,
      "outputs": []
    },
    {
      "cell_type": "code",
      "source": [
        "from google.colab import files\n",
        "files.upload()"
      ],
      "metadata": {
        "id": "Xi-SRqZMmcGf",
        "outputId": "bee8f393-49d0-4b91-96a9-9acf20b64477",
        "colab": {
          "base_uri": "https://localhost:8080/",
          "height": 160
        }
      },
      "execution_count": 5,
      "outputs": [
        {
          "output_type": "display_data",
          "data": {
            "text/plain": [
              "<IPython.core.display.HTML object>"
            ],
            "text/html": [
              "\n",
              "     <input type=\"file\" id=\"files-2bbea3ef-8305-4afd-9d94-094d12ec6e7d\" name=\"files[]\" multiple disabled\n",
              "        style=\"border:none\" />\n",
              "     <output id=\"result-2bbea3ef-8305-4afd-9d94-094d12ec6e7d\">\n",
              "      Upload widget is only available when the cell has been executed in the\n",
              "      current browser session. Please rerun this cell to enable.\n",
              "      </output>\n",
              "      <script>// Copyright 2017 Google LLC\n",
              "//\n",
              "// Licensed under the Apache License, Version 2.0 (the \"License\");\n",
              "// you may not use this file except in compliance with the License.\n",
              "// You may obtain a copy of the License at\n",
              "//\n",
              "//      http://www.apache.org/licenses/LICENSE-2.0\n",
              "//\n",
              "// Unless required by applicable law or agreed to in writing, software\n",
              "// distributed under the License is distributed on an \"AS IS\" BASIS,\n",
              "// WITHOUT WARRANTIES OR CONDITIONS OF ANY KIND, either express or implied.\n",
              "// See the License for the specific language governing permissions and\n",
              "// limitations under the License.\n",
              "\n",
              "/**\n",
              " * @fileoverview Helpers for google.colab Python module.\n",
              " */\n",
              "(function(scope) {\n",
              "function span(text, styleAttributes = {}) {\n",
              "  const element = document.createElement('span');\n",
              "  element.textContent = text;\n",
              "  for (const key of Object.keys(styleAttributes)) {\n",
              "    element.style[key] = styleAttributes[key];\n",
              "  }\n",
              "  return element;\n",
              "}\n",
              "\n",
              "// Max number of bytes which will be uploaded at a time.\n",
              "const MAX_PAYLOAD_SIZE = 100 * 1024;\n",
              "\n",
              "function _uploadFiles(inputId, outputId) {\n",
              "  const steps = uploadFilesStep(inputId, outputId);\n",
              "  const outputElement = document.getElementById(outputId);\n",
              "  // Cache steps on the outputElement to make it available for the next call\n",
              "  // to uploadFilesContinue from Python.\n",
              "  outputElement.steps = steps;\n",
              "\n",
              "  return _uploadFilesContinue(outputId);\n",
              "}\n",
              "\n",
              "// This is roughly an async generator (not supported in the browser yet),\n",
              "// where there are multiple asynchronous steps and the Python side is going\n",
              "// to poll for completion of each step.\n",
              "// This uses a Promise to block the python side on completion of each step,\n",
              "// then passes the result of the previous step as the input to the next step.\n",
              "function _uploadFilesContinue(outputId) {\n",
              "  const outputElement = document.getElementById(outputId);\n",
              "  const steps = outputElement.steps;\n",
              "\n",
              "  const next = steps.next(outputElement.lastPromiseValue);\n",
              "  return Promise.resolve(next.value.promise).then((value) => {\n",
              "    // Cache the last promise value to make it available to the next\n",
              "    // step of the generator.\n",
              "    outputElement.lastPromiseValue = value;\n",
              "    return next.value.response;\n",
              "  });\n",
              "}\n",
              "\n",
              "/**\n",
              " * Generator function which is called between each async step of the upload\n",
              " * process.\n",
              " * @param {string} inputId Element ID of the input file picker element.\n",
              " * @param {string} outputId Element ID of the output display.\n",
              " * @return {!Iterable<!Object>} Iterable of next steps.\n",
              " */\n",
              "function* uploadFilesStep(inputId, outputId) {\n",
              "  const inputElement = document.getElementById(inputId);\n",
              "  inputElement.disabled = false;\n",
              "\n",
              "  const outputElement = document.getElementById(outputId);\n",
              "  outputElement.innerHTML = '';\n",
              "\n",
              "  const pickedPromise = new Promise((resolve) => {\n",
              "    inputElement.addEventListener('change', (e) => {\n",
              "      resolve(e.target.files);\n",
              "    });\n",
              "  });\n",
              "\n",
              "  const cancel = document.createElement('button');\n",
              "  inputElement.parentElement.appendChild(cancel);\n",
              "  cancel.textContent = 'Cancel upload';\n",
              "  const cancelPromise = new Promise((resolve) => {\n",
              "    cancel.onclick = () => {\n",
              "      resolve(null);\n",
              "    };\n",
              "  });\n",
              "\n",
              "  // Wait for the user to pick the files.\n",
              "  const files = yield {\n",
              "    promise: Promise.race([pickedPromise, cancelPromise]),\n",
              "    response: {\n",
              "      action: 'starting',\n",
              "    }\n",
              "  };\n",
              "\n",
              "  cancel.remove();\n",
              "\n",
              "  // Disable the input element since further picks are not allowed.\n",
              "  inputElement.disabled = true;\n",
              "\n",
              "  if (!files) {\n",
              "    return {\n",
              "      response: {\n",
              "        action: 'complete',\n",
              "      }\n",
              "    };\n",
              "  }\n",
              "\n",
              "  for (const file of files) {\n",
              "    const li = document.createElement('li');\n",
              "    li.append(span(file.name, {fontWeight: 'bold'}));\n",
              "    li.append(span(\n",
              "        `(${file.type || 'n/a'}) - ${file.size} bytes, ` +\n",
              "        `last modified: ${\n",
              "            file.lastModifiedDate ? file.lastModifiedDate.toLocaleDateString() :\n",
              "                                    'n/a'} - `));\n",
              "    const percent = span('0% done');\n",
              "    li.appendChild(percent);\n",
              "\n",
              "    outputElement.appendChild(li);\n",
              "\n",
              "    const fileDataPromise = new Promise((resolve) => {\n",
              "      const reader = new FileReader();\n",
              "      reader.onload = (e) => {\n",
              "        resolve(e.target.result);\n",
              "      };\n",
              "      reader.readAsArrayBuffer(file);\n",
              "    });\n",
              "    // Wait for the data to be ready.\n",
              "    let fileData = yield {\n",
              "      promise: fileDataPromise,\n",
              "      response: {\n",
              "        action: 'continue',\n",
              "      }\n",
              "    };\n",
              "\n",
              "    // Use a chunked sending to avoid message size limits. See b/62115660.\n",
              "    let position = 0;\n",
              "    do {\n",
              "      const length = Math.min(fileData.byteLength - position, MAX_PAYLOAD_SIZE);\n",
              "      const chunk = new Uint8Array(fileData, position, length);\n",
              "      position += length;\n",
              "\n",
              "      const base64 = btoa(String.fromCharCode.apply(null, chunk));\n",
              "      yield {\n",
              "        response: {\n",
              "          action: 'append',\n",
              "          file: file.name,\n",
              "          data: base64,\n",
              "        },\n",
              "      };\n",
              "\n",
              "      let percentDone = fileData.byteLength === 0 ?\n",
              "          100 :\n",
              "          Math.round((position / fileData.byteLength) * 100);\n",
              "      percent.textContent = `${percentDone}% done`;\n",
              "\n",
              "    } while (position < fileData.byteLength);\n",
              "  }\n",
              "\n",
              "  // All done.\n",
              "  yield {\n",
              "    response: {\n",
              "      action: 'complete',\n",
              "    }\n",
              "  };\n",
              "}\n",
              "\n",
              "scope.google = scope.google || {};\n",
              "scope.google.colab = scope.google.colab || {};\n",
              "scope.google.colab._files = {\n",
              "  _uploadFiles,\n",
              "  _uploadFilesContinue,\n",
              "};\n",
              "})(self);\n",
              "</script> "
            ]
          },
          "metadata": {}
        },
        {
          "output_type": "stream",
          "name": "stdout",
          "text": [
            "Saving person.csv to person.csv\n",
            "Saving sensor.csv to sensor.csv\n"
          ]
        },
        {
          "output_type": "execute_result",
          "data": {
            "text/plain": [
              "{'person.csv': b'name,surname,age\\r\\nPaolo,Garza,42\\r\\nLuca,Boccia,41\\r\\nMaura,Bianchi,16\\r\\nAlice,Cochi,17\\r\\nLaura,Latini,28\\r\\nPaula,Zachini,19\\r\\nCarta,Cianci,29\\r\\nRita,Lisatini,31',\n",
              " 'sensor.csv': b's1,2016-01-01,20.5\\r\\ns2,2016-01-01,30.1\\r\\ns1,2016-01-02,60.2\\r\\ns2,2016-01-02,20.4\\r\\ns1,2016-01-03,55.5\\r\\ns2,2016-01-03,52.5\\r\\ns1,2016-01-04,55.6\\r\\ns2,2016-01-04,49.7\\r\\ns3,2016-01-05,50.8\\r\\ns4,2016-01-05,53.9\\r\\ns3,2016-01-06,57.10\\r\\ns4,2016-01-06,54.11\\r\\ns1,2016-01-07,51.12\\r\\ns2,2016-01-07,53.13\\r\\ns3,2016-01-08,62.14\\r\\ns4,2016-01-08,42.15\\r\\ns2,2016-01-09,62.16\\r\\ns3,2016-01-09,55.17\\r\\ns4,2016-01-10,56.18'}"
            ]
          },
          "metadata": {},
          "execution_count": 5
        }
      ]
    },
    {
      "cell_type": "code",
      "source": [
        "df1 = spark.read.csv('/content/sensor.csv', inferSchema=True, header=True)\n",
        "df2 = spark.read.csv('/content/person.csv', inferSchema=True, header=True)\n",
        "\n",
        "df1.show()\n",
        "df2.show()"
      ],
      "metadata": {
        "id": "buD7JPFfmwYV",
        "outputId": "166858d9-719e-44b7-c06e-965c25f0ec9a",
        "colab": {
          "base_uri": "https://localhost:8080/"
        }
      },
      "execution_count": 17,
      "outputs": [
        {
          "output_type": "stream",
          "name": "stdout",
          "text": [
            "+---+----------+-----+\n",
            "| s1|2016-01-01| 20.5|\n",
            "+---+----------+-----+\n",
            "| s2|2016-01-01| 30.1|\n",
            "| s1|2016-01-02| 60.2|\n",
            "| s2|2016-01-02| 20.4|\n",
            "| s1|2016-01-03| 55.5|\n",
            "| s2|2016-01-03| 52.5|\n",
            "| s1|2016-01-04| 55.6|\n",
            "| s2|2016-01-04| 49.7|\n",
            "| s3|2016-01-05| 50.8|\n",
            "| s4|2016-01-05| 53.9|\n",
            "| s3|2016-01-06| 57.1|\n",
            "| s4|2016-01-06|54.11|\n",
            "| s1|2016-01-07|51.12|\n",
            "| s2|2016-01-07|53.13|\n",
            "| s3|2016-01-08|62.14|\n",
            "| s4|2016-01-08|42.15|\n",
            "| s2|2016-01-09|62.16|\n",
            "| s3|2016-01-09|55.17|\n",
            "| s4|2016-01-10|56.18|\n",
            "+---+----------+-----+\n",
            "\n",
            "+-----+--------+---+\n",
            "| name| surname|age|\n",
            "+-----+--------+---+\n",
            "|Paolo|   Garza| 42|\n",
            "| Luca|  Boccia| 41|\n",
            "|Maura| Bianchi| 16|\n",
            "|Alice|   Cochi| 17|\n",
            "|Laura|  Latini| 28|\n",
            "|Paula| Zachini| 19|\n",
            "|Carta|  Cianci| 29|\n",
            "| Rita|Lisatini| 31|\n",
            "+-----+--------+---+\n",
            "\n"
          ]
        }
      ]
    },
    {
      "cell_type": "code",
      "source": [
        "df1 = df1.toDF(\"sensorId\", \"date\", \"pm10_value\")\n",
        "df1.show()"
      ],
      "metadata": {
        "id": "_dDfiaUOnciQ",
        "outputId": "79dce42e-68dc-4e9c-bd51-822d4c38a62b",
        "colab": {
          "base_uri": "https://localhost:8080/"
        }
      },
      "execution_count": 25,
      "outputs": [
        {
          "output_type": "stream",
          "name": "stdout",
          "text": [
            "+--------+----------+----------+\n",
            "|sensorId|      date|pm10_value|\n",
            "+--------+----------+----------+\n",
            "|      s2|2016-01-01|      30.1|\n",
            "|      s1|2016-01-02|      60.2|\n",
            "|      s2|2016-01-02|      20.4|\n",
            "|      s1|2016-01-03|      55.5|\n",
            "|      s2|2016-01-03|      52.5|\n",
            "|      s1|2016-01-04|      55.6|\n",
            "|      s2|2016-01-04|      49.7|\n",
            "|      s3|2016-01-05|      50.8|\n",
            "|      s4|2016-01-05|      53.9|\n",
            "|      s3|2016-01-06|      57.1|\n",
            "|      s4|2016-01-06|     54.11|\n",
            "|      s1|2016-01-07|     51.12|\n",
            "|      s2|2016-01-07|     53.13|\n",
            "|      s3|2016-01-08|     62.14|\n",
            "|      s4|2016-01-08|     42.15|\n",
            "|      s2|2016-01-09|     62.16|\n",
            "|      s3|2016-01-09|     55.17|\n",
            "|      s4|2016-01-10|     56.18|\n",
            "+--------+----------+----------+\n",
            "\n"
          ]
        }
      ]
    },
    {
      "cell_type": "code",
      "source": [
        "filtered_df1 = df1.filter(df1[\"pm10_value\"] > 50)\n",
        "\n",
        "## Group by sensorId and collect the dates with PM10 values > 50\n",
        "result_df1 = (\n",
        "    filtered_df1\n",
        "    .groupBy(\"sensorId\")\n",
        "    .agg(F.collect_list(\"date\").alias(\"dates_with_high_pm10\"))\n",
        ")\n",
        "\n",
        "## Show the result for PM10 data\n",
        "print(\"PM10 Data Result:\")\n",
        "result_df1.show(truncate=False)\n",
        "\n",
        "## individuals with age > 20\n",
        "filtered_df2 = df2.filter(df2[\"age\"] > 20)\n",
        "\n",
        "## Show the result for personal information\n",
        "print(\"Filtered Personal Information Result:\")\n",
        "filtered_df2.show(truncate=False)"
      ],
      "metadata": {
        "id": "Uy9Xag1JpCpY",
        "outputId": "34eba6a4-4afd-4a1d-d645-15de21eb9eee",
        "colab": {
          "base_uri": "https://localhost:8080/"
        }
      },
      "execution_count": 28,
      "outputs": [
        {
          "output_type": "stream",
          "name": "stdout",
          "text": [
            "PM10 Data Result:\n",
            "+--------+------------------------------------------------+\n",
            "|sensorId|dates_with_high_pm10                            |\n",
            "+--------+------------------------------------------------+\n",
            "|s4      |[2016-01-05, 2016-01-06, 2016-01-10]            |\n",
            "|s2      |[2016-01-03, 2016-01-07, 2016-01-09]            |\n",
            "|s3      |[2016-01-05, 2016-01-06, 2016-01-08, 2016-01-09]|\n",
            "|s1      |[2016-01-02, 2016-01-03, 2016-01-04, 2016-01-07]|\n",
            "+--------+------------------------------------------------+\n",
            "\n",
            "Filtered Personal Information Result:\n",
            "+-----+--------+---+\n",
            "|name |surname |age|\n",
            "+-----+--------+---+\n",
            "|Paolo|Garza   |42 |\n",
            "|Luca |Boccia  |41 |\n",
            "|Laura|Latini  |28 |\n",
            "|Carta|Cianci  |29 |\n",
            "|Rita |Lisatini|31 |\n",
            "+-----+--------+---+\n",
            "\n"
          ]
        }
      ]
    },
    {
      "cell_type": "markdown",
      "source": [
        "## Exercise II\n",
        "\n",
        "Using the same data of the Exercise I, you're required to get the output: sensors ordered by the number of critical days. Each line of the output contains the number of days with a PM10 values greater than 50 for a sensor `s` and the `sensorId` of sensor `s`.\n",
        "\n",
        "The example of the output:\n",
        "```\n",
        "2, s1\n",
        "1, s2\n",
        "```\n",
        "\n"
      ],
      "metadata": {
        "id": "Jgu0vQKVbqDf"
      }
    },
    {
      "cell_type": "code",
      "source": [
        "critical_days_count = (\n",
        "    filtered_df1\n",
        "    .groupBy(\"sensorId\")\n",
        "    .agg(F.count(\"date\").alias(\"critical_days_count\")))\n",
        "ordered_result = critical_days_count.orderBy(F.desc(\"critical_days_count\"))\n",
        "\n",
        "\n",
        "## Show the result\n",
        "ordered_result.show(truncate=False)"
      ],
      "metadata": {
        "id": "ks446LF9pqTt",
        "outputId": "05e1b167-a6c9-4665-b747-2b3e2d47116b",
        "colab": {
          "base_uri": "https://localhost:8080/"
        }
      },
      "execution_count": 29,
      "outputs": [
        {
          "output_type": "stream",
          "name": "stdout",
          "text": [
            "+--------+-------------------+\n",
            "|sensorId|critical_days_count|\n",
            "+--------+-------------------+\n",
            "|s1      |4                  |\n",
            "|s3      |4                  |\n",
            "|s4      |3                  |\n",
            "|s2      |3                  |\n",
            "+--------+-------------------+\n",
            "\n"
          ]
        }
      ]
    },
    {
      "cell_type": "markdown",
      "source": [
        "## Exercise III\n",
        "\n",
        "In this exercise, you're given an input: A CSV file containing a list of profiles\n",
        "\n",
        "- Header: `name,age,gender`\n",
        "- Each line of the file contains the information about one user\n",
        "\n",
        "The example of input data\n",
        "```\n",
        "name,surname,age\n",
        "Paolo,Garza,42\n",
        "Luca,Boccia,41\n",
        "Maura,Bianchi,16\n",
        "```\n",
        "\n",
        "You're required to use pyspark to load and analyze the data to achieve the output: A CSV file containing one line for each profile. The original age attribute is substituted with a new attributed called rangeage of type String.\n",
        "```\n",
        "rangeage = \"[\" + (age/10)*10 + \"-\" + (age/10)*10+9 + \"]\"\n",
        "```\n",
        "\n",
        "\n",
        "\n"
      ],
      "metadata": {
        "id": "ADGjGNWKePfN"
      }
    },
    {
      "cell_type": "code",
      "source": [
        "df2.show()"
      ],
      "metadata": {
        "id": "igKez2B6aPe0",
        "outputId": "e8d22d24-8edf-4e61-f03d-82e86556cdfa",
        "colab": {
          "base_uri": "https://localhost:8080/"
        }
      },
      "execution_count": 30,
      "outputs": [
        {
          "output_type": "stream",
          "name": "stdout",
          "text": [
            "+-----+--------+---+\n",
            "| name| surname|age|\n",
            "+-----+--------+---+\n",
            "|Paolo|   Garza| 42|\n",
            "| Luca|  Boccia| 41|\n",
            "|Maura| Bianchi| 16|\n",
            "|Alice|   Cochi| 17|\n",
            "|Laura|  Latini| 28|\n",
            "|Paula| Zachini| 19|\n",
            "|Carta|  Cianci| 29|\n",
            "| Rita|Lisatini| 31|\n",
            "+-----+--------+---+\n",
            "\n"
          ]
        }
      ]
    },
    {
      "cell_type": "code",
      "source": [
        "df2 = df2.withColumn(\"rangeage\", F.concat(\n",
        "    F.lit(\"[\"),\n",
        "    ((F.col(\"age\") / 10) * 10).cast(\"int\").cast(\"string\"),\n",
        "    F.lit(\"-\"),\n",
        "    (((F.col(\"age\") / 10) * 10) + 9).cast(\"int\").cast(\"string\"),\n",
        "    F.lit(\"]\")\n",
        "))\n",
        "\n",
        "## Result for personal information with the new column\n",
        "print(\"Personal Information Result with rangeage:\")\n",
        "df2.show(truncate=False)\n"
      ],
      "metadata": {
        "id": "7w_OIkIkqCvk",
        "outputId": "120d510d-ef37-4ccf-9c02-419dea2b5c28",
        "colab": {
          "base_uri": "https://localhost:8080/"
        }
      },
      "execution_count": 32,
      "outputs": [
        {
          "output_type": "stream",
          "name": "stdout",
          "text": [
            "Personal Information Result with rangeage:\n",
            "+-----+--------+---+--------+\n",
            "|name |surname |age|rangeage|\n",
            "+-----+--------+---+--------+\n",
            "|Paolo|Garza   |42 |[42-51] |\n",
            "|Luca |Boccia  |41 |[41-50] |\n",
            "|Maura|Bianchi |16 |[16-25] |\n",
            "|Alice|Cochi   |17 |[17-26] |\n",
            "|Laura|Latini  |28 |[28-37] |\n",
            "|Paula|Zachini |19 |[19-28] |\n",
            "|Carta|Cianci  |29 |[29-38] |\n",
            "|Rita |Lisatini|31 |[31-40] |\n",
            "+-----+--------+---+--------+\n",
            "\n"
          ]
        }
      ]
    }
  ]
}