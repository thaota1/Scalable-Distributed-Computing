{
  "cells": [
    {
      "cell_type": "markdown",
      "metadata": {
        "id": "OVdiLg30cEv3"
      },
      "source": [
        "## Spark DataFrame"
      ]
    },
    {
      "cell_type": "code",
      "source": [
        "!apt-get install openjdk-8-jdk-headless -qq > /dev/null\n",
        "!wget -q http://archive.apache.org/dist/spark/spark-3.1.1/spark-3.1.1-bin-hadoop3.2.tgz\n",
        "!tar xf spark-3.1.1-bin-hadoop3.2.tgz\n",
        "!pip install -q findspark\n",
        "import os\n",
        "os.environ[\"JAVA_HOME\"] = \"/usr/lib/jvm/java-8-openjdk-amd64\"\n",
        "os.environ[\"SPARK_HOME\"] = \"/content/spark-3.1.1-bin-hadoop3.2\"\n",
        "import findspark\n",
        "findspark.init()"
      ],
      "metadata": {
        "id": "8e7mYrD8rfTy"
      },
      "execution_count": 1,
      "outputs": []
    },
    {
      "cell_type": "code",
      "source": [
        "from google.colab import files\n",
        "files.upload()"
      ],
      "metadata": {
        "id": "A60oQnmbrof9",
        "outputId": "c95d80c3-251d-42c0-ad01-3cbeed84c63c",
        "colab": {
          "base_uri": "https://localhost:8080/",
          "height": 90
        }
      },
      "execution_count": 2,
      "outputs": [
        {
          "output_type": "display_data",
          "data": {
            "text/plain": [
              "<IPython.core.display.HTML object>"
            ],
            "text/html": [
              "\n",
              "     <input type=\"file\" id=\"files-a4dd9676-8b36-46fb-8ae1-29d820c7b228\" name=\"files[]\" multiple disabled\n",
              "        style=\"border:none\" />\n",
              "     <output id=\"result-a4dd9676-8b36-46fb-8ae1-29d820c7b228\">\n",
              "      Upload widget is only available when the cell has been executed in the\n",
              "      current browser session. Please rerun this cell to enable.\n",
              "      </output>\n",
              "      <script>// Copyright 2017 Google LLC\n",
              "//\n",
              "// Licensed under the Apache License, Version 2.0 (the \"License\");\n",
              "// you may not use this file except in compliance with the License.\n",
              "// You may obtain a copy of the License at\n",
              "//\n",
              "//      http://www.apache.org/licenses/LICENSE-2.0\n",
              "//\n",
              "// Unless required by applicable law or agreed to in writing, software\n",
              "// distributed under the License is distributed on an \"AS IS\" BASIS,\n",
              "// WITHOUT WARRANTIES OR CONDITIONS OF ANY KIND, either express or implied.\n",
              "// See the License for the specific language governing permissions and\n",
              "// limitations under the License.\n",
              "\n",
              "/**\n",
              " * @fileoverview Helpers for google.colab Python module.\n",
              " */\n",
              "(function(scope) {\n",
              "function span(text, styleAttributes = {}) {\n",
              "  const element = document.createElement('span');\n",
              "  element.textContent = text;\n",
              "  for (const key of Object.keys(styleAttributes)) {\n",
              "    element.style[key] = styleAttributes[key];\n",
              "  }\n",
              "  return element;\n",
              "}\n",
              "\n",
              "// Max number of bytes which will be uploaded at a time.\n",
              "const MAX_PAYLOAD_SIZE = 100 * 1024;\n",
              "\n",
              "function _uploadFiles(inputId, outputId) {\n",
              "  const steps = uploadFilesStep(inputId, outputId);\n",
              "  const outputElement = document.getElementById(outputId);\n",
              "  // Cache steps on the outputElement to make it available for the next call\n",
              "  // to uploadFilesContinue from Python.\n",
              "  outputElement.steps = steps;\n",
              "\n",
              "  return _uploadFilesContinue(outputId);\n",
              "}\n",
              "\n",
              "// This is roughly an async generator (not supported in the browser yet),\n",
              "// where there are multiple asynchronous steps and the Python side is going\n",
              "// to poll for completion of each step.\n",
              "// This uses a Promise to block the python side on completion of each step,\n",
              "// then passes the result of the previous step as the input to the next step.\n",
              "function _uploadFilesContinue(outputId) {\n",
              "  const outputElement = document.getElementById(outputId);\n",
              "  const steps = outputElement.steps;\n",
              "\n",
              "  const next = steps.next(outputElement.lastPromiseValue);\n",
              "  return Promise.resolve(next.value.promise).then((value) => {\n",
              "    // Cache the last promise value to make it available to the next\n",
              "    // step of the generator.\n",
              "    outputElement.lastPromiseValue = value;\n",
              "    return next.value.response;\n",
              "  });\n",
              "}\n",
              "\n",
              "/**\n",
              " * Generator function which is called between each async step of the upload\n",
              " * process.\n",
              " * @param {string} inputId Element ID of the input file picker element.\n",
              " * @param {string} outputId Element ID of the output display.\n",
              " * @return {!Iterable<!Object>} Iterable of next steps.\n",
              " */\n",
              "function* uploadFilesStep(inputId, outputId) {\n",
              "  const inputElement = document.getElementById(inputId);\n",
              "  inputElement.disabled = false;\n",
              "\n",
              "  const outputElement = document.getElementById(outputId);\n",
              "  outputElement.innerHTML = '';\n",
              "\n",
              "  const pickedPromise = new Promise((resolve) => {\n",
              "    inputElement.addEventListener('change', (e) => {\n",
              "      resolve(e.target.files);\n",
              "    });\n",
              "  });\n",
              "\n",
              "  const cancel = document.createElement('button');\n",
              "  inputElement.parentElement.appendChild(cancel);\n",
              "  cancel.textContent = 'Cancel upload';\n",
              "  const cancelPromise = new Promise((resolve) => {\n",
              "    cancel.onclick = () => {\n",
              "      resolve(null);\n",
              "    };\n",
              "  });\n",
              "\n",
              "  // Wait for the user to pick the files.\n",
              "  const files = yield {\n",
              "    promise: Promise.race([pickedPromise, cancelPromise]),\n",
              "    response: {\n",
              "      action: 'starting',\n",
              "    }\n",
              "  };\n",
              "\n",
              "  cancel.remove();\n",
              "\n",
              "  // Disable the input element since further picks are not allowed.\n",
              "  inputElement.disabled = true;\n",
              "\n",
              "  if (!files) {\n",
              "    return {\n",
              "      response: {\n",
              "        action: 'complete',\n",
              "      }\n",
              "    };\n",
              "  }\n",
              "\n",
              "  for (const file of files) {\n",
              "    const li = document.createElement('li');\n",
              "    li.append(span(file.name, {fontWeight: 'bold'}));\n",
              "    li.append(span(\n",
              "        `(${file.type || 'n/a'}) - ${file.size} bytes, ` +\n",
              "        `last modified: ${\n",
              "            file.lastModifiedDate ? file.lastModifiedDate.toLocaleDateString() :\n",
              "                                    'n/a'} - `));\n",
              "    const percent = span('0% done');\n",
              "    li.appendChild(percent);\n",
              "\n",
              "    outputElement.appendChild(li);\n",
              "\n",
              "    const fileDataPromise = new Promise((resolve) => {\n",
              "      const reader = new FileReader();\n",
              "      reader.onload = (e) => {\n",
              "        resolve(e.target.result);\n",
              "      };\n",
              "      reader.readAsArrayBuffer(file);\n",
              "    });\n",
              "    // Wait for the data to be ready.\n",
              "    let fileData = yield {\n",
              "      promise: fileDataPromise,\n",
              "      response: {\n",
              "        action: 'continue',\n",
              "      }\n",
              "    };\n",
              "\n",
              "    // Use a chunked sending to avoid message size limits. See b/62115660.\n",
              "    let position = 0;\n",
              "    do {\n",
              "      const length = Math.min(fileData.byteLength - position, MAX_PAYLOAD_SIZE);\n",
              "      const chunk = new Uint8Array(fileData, position, length);\n",
              "      position += length;\n",
              "\n",
              "      const base64 = btoa(String.fromCharCode.apply(null, chunk));\n",
              "      yield {\n",
              "        response: {\n",
              "          action: 'append',\n",
              "          file: file.name,\n",
              "          data: base64,\n",
              "        },\n",
              "      };\n",
              "\n",
              "      let percentDone = fileData.byteLength === 0 ?\n",
              "          100 :\n",
              "          Math.round((position / fileData.byteLength) * 100);\n",
              "      percent.textContent = `${percentDone}% done`;\n",
              "\n",
              "    } while (position < fileData.byteLength);\n",
              "  }\n",
              "\n",
              "  // All done.\n",
              "  yield {\n",
              "    response: {\n",
              "      action: 'complete',\n",
              "    }\n",
              "  };\n",
              "}\n",
              "\n",
              "scope.google = scope.google || {};\n",
              "scope.google.colab = scope.google.colab || {};\n",
              "scope.google.colab._files = {\n",
              "  _uploadFiles,\n",
              "  _uploadFilesContinue,\n",
              "};\n",
              "})(self);\n",
              "</script> "
            ]
          },
          "metadata": {}
        },
        {
          "output_type": "stream",
          "name": "stdout",
          "text": [
            "Saving people.json to people.json\n"
          ]
        },
        {
          "output_type": "execute_result",
          "data": {
            "text/plain": [
              "{'people.json': b'{\"name\":\"Michael\"}\\n{\"name\":\"Andy\", \"age\":30}\\n{\"name\":\"Justin\", \"age\":19}\\n'}"
            ]
          },
          "metadata": {},
          "execution_count": 2
        }
      ]
    },
    {
      "cell_type": "code",
      "execution_count": 9,
      "metadata": {
        "id": "3QfBMv1PcEv9",
        "outputId": "ef4a8097-9922-4524-b30b-261448d153c3",
        "colab": {
          "base_uri": "https://localhost:8080/"
        }
      },
      "outputs": [
        {
          "output_type": "stream",
          "name": "stdout",
          "text": [
            "+----+-------+\n",
            "|age |name   |\n",
            "+----+-------+\n",
            "|null|Michael|\n",
            "|30  |Andy   |\n",
            "|19  |Justin |\n",
            "+----+-------+\n",
            "\n"
          ]
        }
      ],
      "source": [
        "# Read `people.json`\n",
        "from pyspark.sql import SparkSession\n",
        "spark = SparkSession.builder.appName(\"ReadJson\").getOrCreate()\n",
        "json_file_path = \"people.json\"\n",
        "df = spark.read.json(json_file_path)\n",
        "\n",
        "df.show(truncate=False)"
      ]
    },
    {
      "cell_type": "code",
      "execution_count": 12,
      "metadata": {
        "id": "utXwatuqcEv-",
        "outputId": "a79a8513-1470-4feb-a0f1-b05bf1b5b254",
        "colab": {
          "base_uri": "https://localhost:8080/"
        }
      },
      "outputs": [
        {
          "output_type": "stream",
          "name": "stdout",
          "text": [
            "+----+-------+\n",
            "| age|   name|\n",
            "+----+-------+\n",
            "|null|Michael|\n",
            "|  30|   Andy|\n",
            "|  19| Justin|\n",
            "+----+-------+\n",
            "\n"
          ]
        }
      ],
      "source": [
        "# Show head\n",
        "df.show(5)"
      ]
    },
    {
      "cell_type": "code",
      "execution_count": 14,
      "metadata": {
        "id": "0kiz_X2ccEv_",
        "outputId": "a0a472ba-0f23-4f68-e9ee-61eb46626346",
        "colab": {
          "base_uri": "https://localhost:8080/"
        }
      },
      "outputs": [
        {
          "output_type": "stream",
          "name": "stdout",
          "text": [
            "root\n",
            " |-- age: long (nullable = true)\n",
            " |-- name: string (nullable = true)\n",
            "\n"
          ]
        }
      ],
      "source": [
        "# Show schema\n",
        "df.printSchema()\n"
      ]
    },
    {
      "cell_type": "code",
      "execution_count": 15,
      "metadata": {
        "id": "dtJtf2sMcEv_",
        "outputId": "1940186a-8fbb-442e-cf37-18d0d24a6ea0",
        "colab": {
          "base_uri": "https://localhost:8080/"
        }
      },
      "outputs": [
        {
          "output_type": "execute_result",
          "data": {
            "text/plain": [
              "['age', 'name']"
            ]
          },
          "metadata": {},
          "execution_count": 15
        }
      ],
      "source": [
        "# Show column\n",
        "df.columns"
      ]
    },
    {
      "cell_type": "code",
      "execution_count": 16,
      "metadata": {
        "id": "NiW4UoJLcEwA",
        "outputId": "aa70a7a7-fcc2-49ac-d0b3-ed26ea1f8c8c",
        "colab": {
          "base_uri": "https://localhost:8080/"
        }
      },
      "outputs": [
        {
          "output_type": "execute_result",
          "data": {
            "text/plain": [
              "DataFrame[summary: string, age: string, name: string]"
            ]
          },
          "metadata": {},
          "execution_count": 16
        }
      ],
      "source": [
        "# Describe\n",
        "df.describe()"
      ]
    },
    {
      "cell_type": "code",
      "execution_count": 17,
      "metadata": {
        "id": "BpiGzJNgcEwA",
        "outputId": "04241e45-ae7a-414f-d8ac-66c95388a57d",
        "colab": {
          "base_uri": "https://localhost:8080/"
        }
      },
      "outputs": [
        {
          "output_type": "stream",
          "name": "stdout",
          "text": [
            "+-------+------------------+-------+\n",
            "|summary|               age|   name|\n",
            "+-------+------------------+-------+\n",
            "|  count|                 2|      3|\n",
            "|   mean|              24.5|   null|\n",
            "| stddev|7.7781745930520225|   null|\n",
            "|    min|                19|   Andy|\n",
            "|    max|                30|Michael|\n",
            "+-------+------------------+-------+\n",
            "\n"
          ]
        }
      ],
      "source": [
        "# Describe and show\n",
        "df.describe().show()\n"
      ]
    },
    {
      "cell_type": "code",
      "execution_count": 63,
      "metadata": {
        "collapsed": true,
        "id": "gxOkAqAGcEwA"
      },
      "outputs": [],
      "source": [
        "from pyspark.sql.types import (StructField, StringType,\n",
        "                               IntegerType, StructType)"
      ]
    },
    {
      "cell_type": "code",
      "execution_count": 64,
      "metadata": {
        "collapsed": true,
        "id": "5ZCmodkecEwB"
      },
      "outputs": [],
      "source": [
        "#age: name of variable, type of variable, True/False: if it can contain null\n",
        "data_schema = [StructField('age', IntegerType(), True),\n",
        "               StructField('name', StringType(), True)]"
      ]
    },
    {
      "cell_type": "code",
      "execution_count": 65,
      "metadata": {
        "id": "RKbQXU6jcEwB",
        "outputId": "19e3fd2c-ab27-4a65-b930-db4c85876ab1",
        "colab": {
          "base_uri": "https://localhost:8080/"
        }
      },
      "outputs": [
        {
          "output_type": "execute_result",
          "data": {
            "text/plain": [
              "[StructField(age,IntegerType,true), StructField(name,StringType,true)]"
            ]
          },
          "metadata": {},
          "execution_count": 65
        }
      ],
      "source": [
        "data_schema"
      ]
    },
    {
      "cell_type": "code",
      "execution_count": 66,
      "metadata": {
        "collapsed": true,
        "id": "jqrUtNz_cEwB"
      },
      "outputs": [],
      "source": [
        "final_struc = StructType(fields=data_schema)"
      ]
    },
    {
      "cell_type": "code",
      "execution_count": 67,
      "metadata": {
        "id": "3ybvLzyUcEwB",
        "outputId": "ec5ea8d8-e37f-4b2c-e6d0-279257e90641",
        "colab": {
          "base_uri": "https://localhost:8080/"
        }
      },
      "outputs": [
        {
          "output_type": "execute_result",
          "data": {
            "text/plain": [
              "StructType(List(StructField(age,IntegerType,true),StructField(name,StringType,true)))"
            ]
          },
          "metadata": {},
          "execution_count": 67
        }
      ],
      "source": [
        "final_struc"
      ]
    },
    {
      "cell_type": "code",
      "execution_count": 68,
      "metadata": {
        "collapsed": true,
        "id": "eRfxrvbucEwB"
      },
      "outputs": [],
      "source": [
        "df = spark.read.json('people.json', schema=final_struc)"
      ]
    },
    {
      "cell_type": "code",
      "execution_count": 69,
      "metadata": {
        "id": "6L-7UqsscEwB",
        "outputId": "881b3aff-b430-4457-b030-b8b6dd16101c",
        "colab": {
          "base_uri": "https://localhost:8080/"
        }
      },
      "outputs": [
        {
          "output_type": "stream",
          "name": "stdout",
          "text": [
            "root\n",
            " |-- age: integer (nullable = true)\n",
            " |-- name: string (nullable = true)\n",
            "\n"
          ]
        }
      ],
      "source": [
        "df.printSchema()\n",
        "#Now it has corrected the age as integer instead of long"
      ]
    },
    {
      "cell_type": "code",
      "execution_count": 70,
      "metadata": {
        "id": "EyUVHmVLcEwB",
        "outputId": "a349391c-a2b4-4ed3-8ec5-6bcad6070fb6",
        "colab": {
          "base_uri": "https://localhost:8080/"
        }
      },
      "outputs": [
        {
          "output_type": "stream",
          "name": "stdout",
          "text": [
            "+----+-------+\n",
            "| age|   name|\n",
            "+----+-------+\n",
            "|null|Michael|\n",
            "|  30|   Andy|\n",
            "|  19| Justin|\n",
            "+----+-------+\n",
            "\n"
          ]
        }
      ],
      "source": [
        "df.show()"
      ]
    },
    {
      "cell_type": "code",
      "execution_count": 71,
      "metadata": {
        "id": "eLdCe51zcEwC",
        "outputId": "082935a0-20e0-4a62-c6df-329b383b0547",
        "colab": {
          "base_uri": "https://localhost:8080/"
        }
      },
      "outputs": [
        {
          "output_type": "execute_result",
          "data": {
            "text/plain": [
              "Column<'age'>"
            ]
          },
          "metadata": {},
          "execution_count": 71
        }
      ],
      "source": [
        "df['age']"
      ]
    },
    {
      "cell_type": "code",
      "execution_count": 72,
      "metadata": {
        "id": "BkHpo-AbcEwC",
        "outputId": "f76007f2-4575-4a09-d1be-a56044390f15",
        "colab": {
          "base_uri": "https://localhost:8080/"
        }
      },
      "outputs": [
        {
          "output_type": "execute_result",
          "data": {
            "text/plain": [
              "pyspark.sql.column.Column"
            ]
          },
          "metadata": {},
          "execution_count": 72
        }
      ],
      "source": [
        "type(df['age'])"
      ]
    },
    {
      "cell_type": "code",
      "execution_count": 73,
      "metadata": {
        "id": "mzhnZoOscEwC",
        "outputId": "f4220337-b0f2-4261-83a0-9549924fe5f9",
        "colab": {
          "base_uri": "https://localhost:8080/"
        }
      },
      "outputs": [
        {
          "output_type": "execute_result",
          "data": {
            "text/plain": [
              "DataFrame[age: int]"
            ]
          },
          "metadata": {},
          "execution_count": 73
        }
      ],
      "source": [
        "#If you want to select a dataframe column\n",
        "df.select('age')"
      ]
    },
    {
      "cell_type": "code",
      "execution_count": 74,
      "metadata": {
        "id": "RYvCt7lOcEwC",
        "outputId": "b8039315-3880-45eb-ee90-cc1b521a5cd1",
        "colab": {
          "base_uri": "https://localhost:8080/"
        }
      },
      "outputs": [
        {
          "output_type": "stream",
          "name": "stdout",
          "text": [
            "+----+\n",
            "| age|\n",
            "+----+\n",
            "|null|\n",
            "|  30|\n",
            "|  19|\n",
            "+----+\n",
            "\n"
          ]
        }
      ],
      "source": [
        "#If you want to view the results of dataframe column\n",
        "df.select('age').show()"
      ]
    },
    {
      "cell_type": "code",
      "execution_count": 75,
      "metadata": {
        "id": "PAXO1BWvcEwC",
        "outputId": "7578d1f3-5b60-4d51-b286-0e758f18517f",
        "colab": {
          "base_uri": "https://localhost:8080/"
        }
      },
      "outputs": [
        {
          "output_type": "execute_result",
          "data": {
            "text/plain": [
              "[Row(age=None, name='Michael'), Row(age=30, name='Andy')]"
            ]
          },
          "metadata": {},
          "execution_count": 75
        }
      ],
      "source": [
        "#If you want to view selected rows of dataframe\n",
        "df.head(2)"
      ]
    },
    {
      "cell_type": "code",
      "execution_count": 76,
      "metadata": {
        "id": "74We5srmcEwC",
        "outputId": "e28b6dc7-ea18-48e0-9299-7d541d690ef0",
        "colab": {
          "base_uri": "https://localhost:8080/"
        }
      },
      "outputs": [
        {
          "output_type": "execute_result",
          "data": {
            "text/plain": [
              "Row(age=None, name='Michael')"
            ]
          },
          "metadata": {},
          "execution_count": 76
        }
      ],
      "source": [
        "df.head(2)[0]"
      ]
    },
    {
      "cell_type": "code",
      "execution_count": 77,
      "metadata": {
        "id": "R-7kT9nlcEwC",
        "outputId": "cd8f33bd-4986-4871-d128-01a633244457",
        "colab": {
          "base_uri": "https://localhost:8080/",
          "height": 35
        }
      },
      "outputs": [
        {
          "output_type": "execute_result",
          "data": {
            "text/plain": [
              "'Michael'"
            ],
            "application/vnd.google.colaboratory.intrinsic+json": {
              "type": "string"
            }
          },
          "metadata": {},
          "execution_count": 77
        }
      ],
      "source": [
        "df.head(2)[0]['name']"
      ]
    },
    {
      "cell_type": "code",
      "execution_count": 78,
      "metadata": {
        "id": "RWLMNZ9acEwD",
        "outputId": "9a87df0d-e192-41a0-e0bd-27a7f64412aa",
        "colab": {
          "base_uri": "https://localhost:8080/"
        }
      },
      "outputs": [
        {
          "output_type": "execute_result",
          "data": {
            "text/plain": [
              "pyspark.sql.types.Row"
            ]
          },
          "metadata": {},
          "execution_count": 78
        }
      ],
      "source": [
        "type(df.head(2)[0])"
      ]
    },
    {
      "cell_type": "code",
      "execution_count": 79,
      "metadata": {
        "id": "tJuMjbG1cEwD",
        "outputId": "2ff56ba2-68b9-49cf-ea67-05c2038318f0",
        "colab": {
          "base_uri": "https://localhost:8080/"
        }
      },
      "outputs": [
        {
          "output_type": "execute_result",
          "data": {
            "text/plain": [
              "str"
            ]
          },
          "metadata": {},
          "execution_count": 79
        }
      ],
      "source": [
        "type(df.head(2)[0]['name'])"
      ]
    },
    {
      "cell_type": "code",
      "execution_count": null,
      "metadata": {
        "collapsed": true,
        "id": "cOv7EJZxcEwD"
      },
      "outputs": [],
      "source": [
        "##The reason there are so many datatypes and objects in Spark because of its ability\n",
        "#to read from a distributed source and map that out to compute"
      ]
    },
    {
      "cell_type": "code",
      "execution_count": 80,
      "metadata": {
        "id": "7Pq35u-9cEwD",
        "outputId": "19786e4c-da6f-48e6-9ccb-b567322f4b71",
        "colab": {
          "base_uri": "https://localhost:8080/"
        }
      },
      "outputs": [
        {
          "output_type": "execute_result",
          "data": {
            "text/plain": [
              "DataFrame[age: int]"
            ]
          },
          "metadata": {},
          "execution_count": 80
        }
      ],
      "source": [
        "#selecting multiple columns\n",
        "df.select('age')"
      ]
    },
    {
      "cell_type": "code",
      "execution_count": 81,
      "metadata": {
        "id": "75mRaBxicEwD",
        "outputId": "c4b9de15-455d-4999-f41b-026b12974e2a",
        "colab": {
          "base_uri": "https://localhost:8080/"
        }
      },
      "outputs": [
        {
          "output_type": "stream",
          "name": "stdout",
          "text": [
            "+----+-------+\n",
            "| age|   name|\n",
            "+----+-------+\n",
            "|null|Michael|\n",
            "|  30|   Andy|\n",
            "|  19| Justin|\n",
            "+----+-------+\n",
            "\n"
          ]
        }
      ],
      "source": [
        "# Show the dataframe\n",
        "df.show()"
      ]
    },
    {
      "cell_type": "code",
      "execution_count": 82,
      "metadata": {
        "id": "YAkl11l0cEwD",
        "outputId": "bf8b0330-cf5b-4d36-b181-b3c4550b9750",
        "colab": {
          "base_uri": "https://localhost:8080/"
        }
      },
      "outputs": [
        {
          "output_type": "stream",
          "name": "stdout",
          "text": [
            "+----+-------+------+\n",
            "| age|   name|newAge|\n",
            "+----+-------+------+\n",
            "|null|Michael|  null|\n",
            "|  30|   Andy|    30|\n",
            "|  19| Justin|    19|\n",
            "+----+-------+------+\n",
            "\n"
          ]
        }
      ],
      "source": [
        "#Creating new columns `newAge`\n",
        "from pyspark.sql.functions import col\n",
        "df1 = df.withColumn(\"newAge\", col('age'))\n",
        "df1.show()"
      ]
    },
    {
      "cell_type": "code",
      "execution_count": 84,
      "metadata": {
        "id": "H_btrvu7cEwD",
        "outputId": "66e8d76b-227b-4352-f5fc-6faccf862262",
        "colab": {
          "base_uri": "https://localhost:8080/"
        }
      },
      "outputs": [
        {
          "output_type": "stream",
          "name": "stdout",
          "text": [
            "+----+-------+---------+\n",
            "| age|   name|doubleAge|\n",
            "+----+-------+---------+\n",
            "|null|Michael|     null|\n",
            "|  30|   Andy|       60|\n",
            "|  19| Justin|       38|\n",
            "+----+-------+---------+\n",
            "\n"
          ]
        }
      ],
      "source": [
        "#Creating new columns `doubleAge`\n",
        "df2 = df.withColumn(\"doubleAge\", col('age') *2)\n",
        "df2.show()\n"
      ]
    },
    {
      "cell_type": "code",
      "execution_count": null,
      "metadata": {
        "collapsed": true,
        "id": "Xm4adc3KcEwD"
      },
      "outputs": [],
      "source": [
        "#The above operations are not inplace so everytime you make\n",
        "#any changes you have to save them to a new variable"
      ]
    },
    {
      "cell_type": "code",
      "execution_count": 85,
      "metadata": {
        "id": "FYyL7L0EcEwE",
        "outputId": "45c76c12-329a-4e17-dd35-f855a5bc49d6",
        "colab": {
          "base_uri": "https://localhost:8080/"
        }
      },
      "outputs": [
        {
          "output_type": "stream",
          "name": "stdout",
          "text": [
            "+----------+-------+\n",
            "|my_new_age|   name|\n",
            "+----------+-------+\n",
            "|      null|Michael|\n",
            "|        30|   Andy|\n",
            "|        19| Justin|\n",
            "+----------+-------+\n",
            "\n"
          ]
        }
      ],
      "source": [
        "#Renaming a column 'age' by 'my_new_age'\n",
        "df3 =df.withColumnRenamed(\"age\", \"my_new_age\")\n",
        "df3.show()"
      ]
    },
    {
      "cell_type": "markdown",
      "metadata": {
        "id": "dSNrLlylcEwE"
      },
      "source": [
        "## Working with Spark SQL queries"
      ]
    },
    {
      "cell_type": "code",
      "execution_count": 86,
      "metadata": {
        "collapsed": true,
        "id": "f_gGHgWUcEwE"
      },
      "outputs": [],
      "source": [
        "#In order to work with SQL queries we need to register spark\n",
        "#As a temporary SQL view\n",
        "#We do CreateOrReplace incase we have already existing view it replaces\n",
        "\n",
        "df.createOrReplaceTempView('people')"
      ]
    },
    {
      "cell_type": "code",
      "execution_count": 87,
      "metadata": {
        "collapsed": true,
        "id": "mRTwfosvcEwE"
      },
      "outputs": [],
      "source": [
        "#Now you can pass direct SQL queries\n",
        "results = spark.sql(\"SELECT * FROM people\")"
      ]
    },
    {
      "cell_type": "code",
      "execution_count": 88,
      "metadata": {
        "id": "_KcPuqTCcEwE",
        "outputId": "42d2a6f8-db62-4ad3-834f-f91ce4081699",
        "colab": {
          "base_uri": "https://localhost:8080/"
        }
      },
      "outputs": [
        {
          "output_type": "stream",
          "name": "stdout",
          "text": [
            "+----+-------+\n",
            "| age|   name|\n",
            "+----+-------+\n",
            "|null|Michael|\n",
            "|  30|   Andy|\n",
            "|  19| Justin|\n",
            "+----+-------+\n",
            "\n"
          ]
        }
      ],
      "source": [
        "results.show()"
      ]
    },
    {
      "cell_type": "code",
      "execution_count": 90,
      "metadata": {
        "collapsed": true,
        "id": "cW7oqPrPcEwF"
      },
      "outputs": [],
      "source": [
        "# Select people with age = 30\n",
        "df4 = df.filter(df[\"age\"] == 30)"
      ]
    },
    {
      "cell_type": "code",
      "execution_count": 91,
      "metadata": {
        "id": "PUl0IS-YcEwL",
        "outputId": "bcbda8af-4006-4d4a-befb-550ffa699984",
        "colab": {
          "base_uri": "https://localhost:8080/"
        }
      },
      "outputs": [
        {
          "output_type": "stream",
          "name": "stdout",
          "text": [
            "+---+----+\n",
            "|age|name|\n",
            "+---+----+\n",
            "| 30|Andy|\n",
            "+---+----+\n",
            "\n"
          ]
        }
      ],
      "source": [
        "# Show\n",
        "df4.show()"
      ]
    },
    {
      "cell_type": "markdown",
      "metadata": {
        "id": "nJr9YfzscEwM"
      },
      "source": [
        "## Working with JSON, CSV and other formats"
      ]
    },
    {
      "cell_type": "code",
      "execution_count": 92,
      "metadata": {
        "collapsed": true,
        "id": "B4z-Fy4BcEwM"
      },
      "outputs": [],
      "source": [
        "from pyspark.sql import SparkSession"
      ]
    },
    {
      "cell_type": "code",
      "execution_count": 93,
      "metadata": {
        "collapsed": true,
        "id": "ATvcHdWdcEwM"
      },
      "outputs": [],
      "source": [
        "spark = SparkSession.builder.appName('ops').getOrCreate()"
      ]
    },
    {
      "cell_type": "code",
      "source": [
        "from google.colab import files\n",
        "files.upload()"
      ],
      "metadata": {
        "id": "ai5GN8pUv7fa",
        "outputId": "ba33cf9a-7988-4102-f13f-1286a6ec91ec",
        "colab": {
          "base_uri": "https://localhost:8080/",
          "height": 1000
        }
      },
      "execution_count": 94,
      "outputs": [
        {
          "output_type": "display_data",
          "data": {
            "text/plain": [
              "<IPython.core.display.HTML object>"
            ],
            "text/html": [
              "\n",
              "     <input type=\"file\" id=\"files-2f341251-dabb-4f76-a490-5830d5f71257\" name=\"files[]\" multiple disabled\n",
              "        style=\"border:none\" />\n",
              "     <output id=\"result-2f341251-dabb-4f76-a490-5830d5f71257\">\n",
              "      Upload widget is only available when the cell has been executed in the\n",
              "      current browser session. Please rerun this cell to enable.\n",
              "      </output>\n",
              "      <script>// Copyright 2017 Google LLC\n",
              "//\n",
              "// Licensed under the Apache License, Version 2.0 (the \"License\");\n",
              "// you may not use this file except in compliance with the License.\n",
              "// You may obtain a copy of the License at\n",
              "//\n",
              "//      http://www.apache.org/licenses/LICENSE-2.0\n",
              "//\n",
              "// Unless required by applicable law or agreed to in writing, software\n",
              "// distributed under the License is distributed on an \"AS IS\" BASIS,\n",
              "// WITHOUT WARRANTIES OR CONDITIONS OF ANY KIND, either express or implied.\n",
              "// See the License for the specific language governing permissions and\n",
              "// limitations under the License.\n",
              "\n",
              "/**\n",
              " * @fileoverview Helpers for google.colab Python module.\n",
              " */\n",
              "(function(scope) {\n",
              "function span(text, styleAttributes = {}) {\n",
              "  const element = document.createElement('span');\n",
              "  element.textContent = text;\n",
              "  for (const key of Object.keys(styleAttributes)) {\n",
              "    element.style[key] = styleAttributes[key];\n",
              "  }\n",
              "  return element;\n",
              "}\n",
              "\n",
              "// Max number of bytes which will be uploaded at a time.\n",
              "const MAX_PAYLOAD_SIZE = 100 * 1024;\n",
              "\n",
              "function _uploadFiles(inputId, outputId) {\n",
              "  const steps = uploadFilesStep(inputId, outputId);\n",
              "  const outputElement = document.getElementById(outputId);\n",
              "  // Cache steps on the outputElement to make it available for the next call\n",
              "  // to uploadFilesContinue from Python.\n",
              "  outputElement.steps = steps;\n",
              "\n",
              "  return _uploadFilesContinue(outputId);\n",
              "}\n",
              "\n",
              "// This is roughly an async generator (not supported in the browser yet),\n",
              "// where there are multiple asynchronous steps and the Python side is going\n",
              "// to poll for completion of each step.\n",
              "// This uses a Promise to block the python side on completion of each step,\n",
              "// then passes the result of the previous step as the input to the next step.\n",
              "function _uploadFilesContinue(outputId) {\n",
              "  const outputElement = document.getElementById(outputId);\n",
              "  const steps = outputElement.steps;\n",
              "\n",
              "  const next = steps.next(outputElement.lastPromiseValue);\n",
              "  return Promise.resolve(next.value.promise).then((value) => {\n",
              "    // Cache the last promise value to make it available to the next\n",
              "    // step of the generator.\n",
              "    outputElement.lastPromiseValue = value;\n",
              "    return next.value.response;\n",
              "  });\n",
              "}\n",
              "\n",
              "/**\n",
              " * Generator function which is called between each async step of the upload\n",
              " * process.\n",
              " * @param {string} inputId Element ID of the input file picker element.\n",
              " * @param {string} outputId Element ID of the output display.\n",
              " * @return {!Iterable<!Object>} Iterable of next steps.\n",
              " */\n",
              "function* uploadFilesStep(inputId, outputId) {\n",
              "  const inputElement = document.getElementById(inputId);\n",
              "  inputElement.disabled = false;\n",
              "\n",
              "  const outputElement = document.getElementById(outputId);\n",
              "  outputElement.innerHTML = '';\n",
              "\n",
              "  const pickedPromise = new Promise((resolve) => {\n",
              "    inputElement.addEventListener('change', (e) => {\n",
              "      resolve(e.target.files);\n",
              "    });\n",
              "  });\n",
              "\n",
              "  const cancel = document.createElement('button');\n",
              "  inputElement.parentElement.appendChild(cancel);\n",
              "  cancel.textContent = 'Cancel upload';\n",
              "  const cancelPromise = new Promise((resolve) => {\n",
              "    cancel.onclick = () => {\n",
              "      resolve(null);\n",
              "    };\n",
              "  });\n",
              "\n",
              "  // Wait for the user to pick the files.\n",
              "  const files = yield {\n",
              "    promise: Promise.race([pickedPromise, cancelPromise]),\n",
              "    response: {\n",
              "      action: 'starting',\n",
              "    }\n",
              "  };\n",
              "\n",
              "  cancel.remove();\n",
              "\n",
              "  // Disable the input element since further picks are not allowed.\n",
              "  inputElement.disabled = true;\n",
              "\n",
              "  if (!files) {\n",
              "    return {\n",
              "      response: {\n",
              "        action: 'complete',\n",
              "      }\n",
              "    };\n",
              "  }\n",
              "\n",
              "  for (const file of files) {\n",
              "    const li = document.createElement('li');\n",
              "    li.append(span(file.name, {fontWeight: 'bold'}));\n",
              "    li.append(span(\n",
              "        `(${file.type || 'n/a'}) - ${file.size} bytes, ` +\n",
              "        `last modified: ${\n",
              "            file.lastModifiedDate ? file.lastModifiedDate.toLocaleDateString() :\n",
              "                                    'n/a'} - `));\n",
              "    const percent = span('0% done');\n",
              "    li.appendChild(percent);\n",
              "\n",
              "    outputElement.appendChild(li);\n",
              "\n",
              "    const fileDataPromise = new Promise((resolve) => {\n",
              "      const reader = new FileReader();\n",
              "      reader.onload = (e) => {\n",
              "        resolve(e.target.result);\n",
              "      };\n",
              "      reader.readAsArrayBuffer(file);\n",
              "    });\n",
              "    // Wait for the data to be ready.\n",
              "    let fileData = yield {\n",
              "      promise: fileDataPromise,\n",
              "      response: {\n",
              "        action: 'continue',\n",
              "      }\n",
              "    };\n",
              "\n",
              "    // Use a chunked sending to avoid message size limits. See b/62115660.\n",
              "    let position = 0;\n",
              "    do {\n",
              "      const length = Math.min(fileData.byteLength - position, MAX_PAYLOAD_SIZE);\n",
              "      const chunk = new Uint8Array(fileData, position, length);\n",
              "      position += length;\n",
              "\n",
              "      const base64 = btoa(String.fromCharCode.apply(null, chunk));\n",
              "      yield {\n",
              "        response: {\n",
              "          action: 'append',\n",
              "          file: file.name,\n",
              "          data: base64,\n",
              "        },\n",
              "      };\n",
              "\n",
              "      let percentDone = fileData.byteLength === 0 ?\n",
              "          100 :\n",
              "          Math.round((position / fileData.byteLength) * 100);\n",
              "      percent.textContent = `${percentDone}% done`;\n",
              "\n",
              "    } while (position < fileData.byteLength);\n",
              "  }\n",
              "\n",
              "  // All done.\n",
              "  yield {\n",
              "    response: {\n",
              "      action: 'complete',\n",
              "    }\n",
              "  };\n",
              "}\n",
              "\n",
              "scope.google = scope.google || {};\n",
              "scope.google.colab = scope.google.colab || {};\n",
              "scope.google.colab._files = {\n",
              "  _uploadFiles,\n",
              "  _uploadFilesContinue,\n",
              "};\n",
              "})(self);\n",
              "</script> "
            ]
          },
          "metadata": {}
        },
        {
          "output_type": "stream",
          "name": "stdout",
          "text": [
            "Saving appl_stock.csv to appl_stock.csv\n"
          ]
        },
        {
          "output_type": "execute_result",
          "data": {
            "text/plain": [
              "{'appl_stock.csv': b'Date,Open,High,Low,Close,Volume,Adj Close\\n2010-01-04,213.429998,214.499996,212.38000099999996,214.009998,123432400,27.727039\\n2010-01-05,214.599998,215.589994,213.249994,214.379993,150476200,27.774976000000002\\n2010-01-06,214.379993,215.23,210.750004,210.969995,138040000,27.333178000000004\\n2010-01-07,211.75,212.000006,209.050005,210.58,119282800,27.28265\\n2010-01-08,210.299994,212.000006,209.06000500000002,211.98000499999998,111902700,27.464034\\n2010-01-11,212.79999700000002,213.000002,208.450005,210.11000299999998,115557400,27.221758\\n2010-01-12,209.18999499999998,209.76999500000002,206.419998,207.720001,148614900,26.91211\\n2010-01-13,207.870005,210.92999500000002,204.099998,210.650002,151473000,27.29172\\n2010-01-14,210.11000299999998,210.45999700000002,209.020004,209.43,108223500,27.133657\\n2010-01-15,210.92999500000002,211.59999700000003,205.869999,205.93,148516900,26.680197999999997\\n2010-01-19,208.330002,215.18999900000003,207.240004,215.039995,182501900,27.860484999999997\\n2010-01-20,214.910006,215.549994,209.500002,211.73,153038200,27.431644\\n2010-01-21,212.079994,213.30999599999998,207.210003,208.069996,152038600,26.957455\\n2010-01-22,206.78000600000001,207.499996,197.16,197.75,220441900,25.620401\\n2010-01-25,202.51000200000001,204.699999,200.190002,203.070002,266424900,26.309658000000002\\n2010-01-26,205.95000100000001,213.710005,202.580004,205.940001,466777500,26.681494\\n2010-01-27,206.849995,210.58,199.530001,207.880005,430642100,26.932840000000002\\n2010-01-28,204.930004,205.500004,198.699995,199.289995,293375600,25.819922000000002\\n2010-01-29,201.079996,202.199995,190.250002,192.060003,311488100,24.883208\\n2010-02-01,192.36999699999998,196.0,191.29999899999999,194.729998,187469100,25.229131\\n2010-02-02,195.909998,196.319994,193.37999299999998,195.859997,174585600,25.375532999999997\\n2010-02-03,195.169994,200.200003,194.420004,199.229994,153832000,25.812148999999998\\n2010-02-04,196.730003,198.370001,191.570005,192.050003,189413000,24.881912\\n2010-02-05,192.63000300000002,196.0,190.850002,195.460001,212576700,25.323710000000002\\n2010-02-08,195.690006,197.88000300000002,193.999994,194.11999699999998,119567700,25.1501\\n2010-02-09,196.419996,197.499994,194.749998,196.19000400000002,158221700,25.418289\\n2010-02-10,195.889997,196.6,194.26,195.12000700000002,92590400,25.27966\\n2010-02-11,194.880001,199.750006,194.05999599999998,198.669994,137586400,25.739595\\n2010-02-12,198.109995,201.639996,195.500002,200.37999299999998,163867200,25.961142000000002\\n2010-02-16,201.940002,203.690002,201.520006,203.399996,135934400,26.352412\\n2010-02-17,204.190001,204.310003,200.860004,202.550003,109099200,26.242287\\n2010-02-18,201.629995,203.889994,200.920006,202.929998,105706300,26.291519\\n2010-02-19,201.860001,203.200005,201.109997,201.669996,103867400,26.128273999999998\\n2010-02-22,202.339998,202.500002,199.190006,200.419994,97640900,25.966324\\n2010-02-23,199.999998,201.330002,195.709993,197.059998,143773700,25.531005\\n2010-02-24,198.229998,201.44000400000002,197.840002,200.66,115141600,25.997419\\n2010-02-25,197.380005,202.859997,196.889994,202.000004,166281500,26.17103\\n2010-02-26,202.379999,205.169996,202.000004,204.61999699999998,126865200,26.510475\\n2010-03-01,205.749996,209.500002,205.450003,208.990004,137523400,27.076651000000002\\n2010-03-02,209.929998,210.830006,207.740002,208.85,141636600,27.058512\\n2010-03-03,208.940002,209.869997,207.940006,209.329998,93013200,27.120701\\n2010-03-04,209.279997,210.919994,208.629995,210.71000299999997,91510300,27.299493\\n2010-03-05,214.940006,219.69999500000003,214.62999900000003,218.95000499999998,224905100,28.367064000000003\\n2010-03-08,220.01000200000001,220.090004,218.250002,219.079994,107472400,28.383906\\n2010-03-09,218.31000299999997,224.999996,217.889994,223.020004,230064800,28.894371999999997\\n2010-03-10,223.829996,225.48000699999997,223.19999500000003,224.83999300000002,149054500,29.130167999999998\\n2010-03-11,223.909998,225.500008,223.319998,225.500008,101425100,29.21568\\n2010-03-12,227.37001,227.72999199999998,225.75,226.600006,104080900,29.358195000000002\\n2010-03-15,225.38000499999998,225.500008,220.249994,223.83999599999999,123375700,29.000609000000004\\n2010-03-16,224.180004,224.979996,222.510006,224.44999700000002,111727000,29.079641\\n2010-03-17,224.899994,226.44998900000002,223.26999700000002,224.12000299999997,112739200,29.036887\\n2010-03-18,224.100002,224.999996,222.60999500000003,224.650002,85527400,29.105553000000004\\n2010-03-19,224.79000499999998,225.240002,221.23000299999998,222.25,139861400,28.79461\\n2010-03-22,220.46999900000003,225.999992,220.150005,224.750004,114104900,29.118509999999997\\n2010-03-23,225.640011,228.780003,224.100002,228.359993,150607800,29.586218\\n2010-03-24,227.64000299999998,230.200008,227.50998700000002,229.37000299999997,149445100,29.717075\\n2010-03-25,230.919998,230.970013,226.250011,226.649994,135571100,29.364671\\n2010-03-26,228.949993,231.950008,228.55001099999998,230.899998,160218800,29.9153\\n2010-03-29,232.999992,233.86999900000004,231.619987,232.389992,135186100,30.108342999999998\\n2010-03-30,236.599995,237.479988,234.250008,235.84999100000002,131827500,30.556619\\n2010-03-31,235.490009,236.610008,234.459999,235.000011,107664900,30.446496000000003\\n2010-04-01,237.41,238.73000299999998,232.75,235.96999399999999,150786300,30.572165999999996\\n2010-04-05,234.980011,238.509998,234.76999300000003,238.48999799999999,171126900,30.898657\\n2010-04-06,238.20000499999998,240.23999799999999,237.000004,239.540009,111754300,31.034696000000004\\n2010-04-07,239.54999500000002,241.92001000000002,238.659988,240.600006,157125500,31.172029\\n2010-04-08,240.440002,241.540001,238.040001,239.95000499999998,143247300,31.087815000000003\\n2010-04-09,241.430012,241.889996,240.46000299999997,241.789993,83545700,31.326203000000003\\n2010-04-12,242.19998900000002,243.069996,241.809994,242.29000499999998,83256600,31.390984000000003\\n2010-04-13,241.860008,242.80000299999998,241.110004,242.43000800000002,76552700,31.409122999999997\\n2010-04-14,245.28000600000001,245.810005,244.06999199999998,245.690002,101019100,31.831485999999998\\n2010-04-15,245.77999100000002,249.02999900000003,245.509998,248.92001000000002,94196200,32.249965\\n2010-04-16,248.569988,251.140007,244.55000299999998,247.400002,187636400,32.053033\\n2010-04-19,247.03000600000001,247.88999900000002,241.76999300000003,247.07000699999998,141731100,32.010279\\n2010-04-20,248.540001,249.250004,242.960007,244.590004,184581600,31.688971000000002\\n2010-04-21,258.799995,260.249989,255.72999199999998,259.22000499999996,245597800,33.584427000000005\\n2010-04-22,258.240009,266.750004,256.199989,266.46999700000003,198356200,34.523733\\n2010-04-23,267.990005,272.180008,266.999996,270.82999,199238900,35.088612\\n2010-04-26,271.880001,272.459988,268.19001000000003,269.5,119767200,34.916299\\n2010-04-27,267.269989,267.839989,260.520008,262.039989,177335900,33.949783000000004\\n2010-04-28,263.250004,264.000008,256.410007,261.600006,189600600,33.892779\\n2010-04-29,263.020012,270.000011,262.010002,268.64000699999997,139710200,34.804879\\n2010-04-30,269.310009,270.57001099999997,260.999992,261.090008,135615900,33.826704\\n2010-05-03,263.840004,267.87998999999996,262.880009,266.34999500000004,113585500,34.508186\\n2010-05-04,262.889996,263.290005,256.749989,258.679993,180954900,33.514464000000004\\n2010-05-05,253.03001,258.14000699999997,248.72999199999998,255.98999799999999,220775800,33.165949\\n2010-05-06,253.830002,258.249996,199.249994,246.249989,321465200,31.904038\\n2010-05-07,243.71001099999998,246.569996,225.20998799999998,235.860004,419004600,30.557916\\n2010-05-10,250.25,254.649994,248.529987,253.99000499999997,246076600,32.906831\\n2010-05-11,251.83999599999999,259.89000699999997,250.499992,256.51999700000005,212226700,33.234615999999995\\n2010-05-12,259.240005,263.130001,258.699993,262.090004,163594900,33.956263\\n2010-05-13,263.21999,265.000004,256.399994,258.360012,149928100,33.473007\\n2010-05-14,255.159992,256.47999599999997,249.499996,253.819988,189840700,32.884803999999995\\n2010-05-17,254.700008,256.17998900000003,247.70999500000002,254.219997,190708700,32.936628999999996\\n2010-05-18,256.980007,258.550003,250.25998700000002,252.360008,195669600,32.695648999999996\\n2010-05-19,249.499996,252.919994,244.85001,248.33999599999999,256431700,32.174818\\n2010-05-20,241.88000899999997,243.849987,236.209999,237.75999500000003,320728800,30.804078000000004\\n2010-05-21,232.819988,244.499989,231.349995,242.31999199999998,305972800,31.394869\\n2010-05-24,247.27999900000003,250.900002,246.26000200000001,246.75998700000002,188559700,31.970113\\n2010-05-25,239.34999100000002,246.75998700000002,237.16000699999998,245.220005,262001600,31.770594\\n2010-05-26,250.080009,252.12999,243.750011,244.109993,212663500,31.626781\\n2010-05-27,250.599995,253.89000299999998,249.11000099999998,253.34999100000002,166570600,32.823910999999995\\n2010-05-28,259.389996,259.400009,253.34999100000002,256.880005,203903700,33.281258\\n2010-06-01,259.690002,265.939999,258.95999900000004,260.830002,219118200,33.793018\\n2010-06-02,264.53999300000004,264.799999,260.32999,263.949993,172137000,34.197243\\n2010-06-03,265.180008,265.550003,260.409992,263.11998700000004,162526700,34.089707000000004\\n2010-06-04,258.209995,261.900013,254.629993,255.96001099999998,189576100,33.162064\\n2010-06-07,258.289997,259.14999,250.550007,250.940002,221735500,32.511674\\n2010-06-08,253.240002,253.79998799999998,245.650002,249.330006,250192600,32.303084000000005\\n2010-06-09,251.47000099999997,251.899998,242.490009,243.20001200000002,213657500,31.508884000000002\\n2010-06-10,244.83999599999999,250.98000299999998,242.19998900000002,250.510006,194089000,32.455964\\n2010-06-11,248.23000699999997,253.859989,247.369987,253.50999500000003,136439800,32.844640999999996\\n2010-06-14,255.96001099999998,259.14999,254.010006,254.27999900000003,150740100,32.944402000000004\\n2010-06-15,255.64000299999998,259.850006,255.5,259.690002,146268500,33.64532\\n2010-06-16,261.09999500000004,267.75,260.629997,267.249989,195919500,34.624789\\n2010-06-17,270.59999799999997,272.899998,269.5,271.86998700000004,218213800,35.223354\\n2010-06-18,272.249996,274.999992,271.41999100000004,274.07001099999997,196155400,35.508388000000004\\n2010-06-21,277.68998700000003,279.009991,268.72999599999997,270.170002,194122600,35.003104\\n2010-06-22,272.160007,275.97000099999997,271.499992,273.850006,179315500,35.479884000000006\\n2010-06-23,274.58000899999996,274.660011,267.89999,270.969994,192114300,35.106751\\n2010-06-24,271.000008,273.200005,268.09999500000004,268.999989,178569300,34.851518\\n2010-06-25,270.06001299999997,270.27000400000003,265.810009,266.699989,137485600,34.553531\\n2010-06-28,266.930008,269.749992,264.519993,268.299999,146237000,34.760827\\n2010-06-29,264.12001000000004,264.390003,254.299999,256.170002,283336200,33.18927\\n2010-06-30,256.709988,257.96999,250.00999500000003,251.530003,184863000,32.588114000000004\\n2010-07-01,254.299999,254.80001099999998,243.220013,248.48,255724000,32.192957\\n2010-07-02,250.49000499999997,250.929989,243.20001200000002,246.93999100000002,173460700,31.993434000000004\\n2010-07-06,251.000004,252.799992,246.16,248.62999,153808900,32.21239\\n2010-07-07,250.49000499999997,258.770008,249.749989,258.670006,163639000,33.51317\\n2010-07-08,262.48,262.900009,254.88999900000002,258.089993,184536100,33.438024\\n2010-07-09,256.889992,259.899994,255.159992,259.61998700000004,108330600,33.636249\\n2010-07-12,258.53000299999997,261.84999799999997,254.860012,257.29000099999996,140719600,33.334377\\n2010-07-13,256.319992,256.399994,246.42999300000002,251.79999500000002,297731000,32.623094\\n2010-07-14,249.379993,255.800007,249.000011,252.73000299999998,203011900,32.743586\\n2010-07-15,248.23000699999997,256.969994,247.299999,251.450001,206216500,32.577749\\n2010-07-16,253.18,254.97000099999997,248.410011,249.900005,259964600,32.376932000000004\\n2010-07-19,249.88000499999998,249.88000499999998,239.60001,245.58001299999998,256119500,31.817235999999998\\n2010-07-20,242.900005,252.899994,240.010006,251.890011,268737700,32.634757\\n2010-07-21,265.089993,265.149994,253.999992,254.23999799999999,296417800,32.93922\\n2010-07-22,257.679996,259.999996,255.31000899999998,259.02,161329700,33.558515\\n2010-07-23,257.089996,260.380005,256.279991,259.939995,133347200,33.677709\\n2010-07-26,259.999996,260.09999799999997,257.710011,259.280006,105137900,33.592201\\n2010-07-27,260.870003,264.799999,260.300003,264.08000899999996,146192900,34.214087\\n2010-07-28,263.669987,265.990013,260.249989,260.959991,129996300,33.809859\\n2010-07-29,260.70999900000004,262.64999,256.099987,258.10999300000003,160951700,33.440615\\n2010-07-30,255.889996,259.699989,254.900013,257.25,112052500,33.329194\\n2010-08-02,260.440006,262.589989,259.61998700000004,261.84999799999997,107013900,33.925168\\n2010-08-03,261.01000600000003,263.259991,259.42001,261.93,104413400,33.935533\\n2010-08-04,262.840008,264.279987,260.30998999999997,262.980011,105093800,34.071571999999996\\n2010-08-05,261.72999599999997,263.17998900000003,260.549995,261.700008,72274300,33.905736\\n2010-08-06,259.779991,261.48999,257.630009,260.090012,111224400,33.697145\\n2010-08-09,261.48000299999995,262.15000499999996,259.57,261.749996,75782000,33.912212\\n2010-08-10,259.850006,260.449993,257.550007,259.409996,112980000,33.609043\\n2010-08-11,255.399998,255.68999100000002,249.80999,250.18999900000003,155013600,32.414504\\n2010-08-12,246.68999900000003,253.099998,246.11999900000004,251.790009,133730100,32.6218\\n2010-08-13,251.650005,251.87999700000003,249.09,249.099987,88717300,32.273282\\n2010-08-16,247.580006,250.00999500000003,246.62001,247.640007,79607500,32.084128\\n2010-08-17,250.080009,254.629993,249.19998900000002,251.970013,105660100,32.645122\\n2010-08-18,252.360008,254.669994,251.57998999999998,253.070011,84924000,32.787637\\n2010-08-19,252.83999300000002,253.48000699999997,248.680004,249.88000499999998,106676500,32.374340999999994\\n2010-08-20,249.390007,253.919991,249.000011,249.63999900000002,96057500,32.343246\\n2010-08-23,251.790009,252.0,245.249992,245.799992,103510400,31.845737\\n2010-08-24,242.66998700000002,243.000008,238.650002,239.930004,150641400,31.085224\\n2010-08-25,238.040001,243.98998999999998,237.200008,242.889992,149216900,31.468718\\n2010-08-26,245.44999700000002,245.750004,240.27999900000003,240.27999900000003,116626300,31.130569\\n2010-08-27,241.749992,242.610012,235.559998,241.62000299999997,137097800,31.304178999999998\\n2010-08-30,240.76001000000002,245.750004,240.68000800000002,242.499996,95822300,31.418190999999997\\n2010-08-31,241.849995,244.55999,240.349987,243.10001,105196700,31.495928000000003\\n2010-09-01,247.46999,251.45998799999998,246.280003,250.330002,174259400,32.432643\\n2010-09-02,251.26001000000002,252.169991,248.569988,252.169991,103856900,32.671031\\n2010-09-03,255.090004,258.77999500000004,254.500004,258.770008,130197200,33.526126\\n2010-09-07,256.63999900000005,259.52999900000003,256.250004,257.81001299999997,85639400,33.401749\\n2010-09-08,259.779991,264.390003,259.100002,262.92001,131637800,34.063798\\n2010-09-09,265.040005,266.520012,262.92001,263.07,109643800,34.083231\\n2010-09-10,263.190002,264.499992,261.40000200000003,263.410007,96885600,34.127282\\n2010-09-13,265.819996,268.27999900000003,265.759995,267.039997,97195000,34.597582\\n2010-09-14,266.209991,269.170006,265.519989,268.059994,102037600,34.729732\\n2010-09-15,268.17001,270.379993,267.839989,270.21999,107342200,35.009581\\n2010-09-16,270.23999,276.66999100000004,269.5,276.56998799999997,163025800,35.832283000000004\\n2010-09-17,277.68998700000003,277.96000699999996,273.67998900000003,275.36998700000004,158619300,35.676812\\n2010-09-20,276.07999,283.780006,275.84999799999997,283.230007,164669400,36.695153000000005\\n2010-09-21,283.860008,287.34999500000004,282.789997,283.769993,167018600,36.765113\\n2010-09-22,282.709995,287.97999599999997,282.409988,287.750004,146322400,37.280761\\n2010-09-23,286.329998,292.759998,286.000004,288.91999100000004,196529200,37.432344\\n2010-09-24,292.10001,293.53000299999997,290.549988,292.31998799999997,162372000,37.872846\\n2010-09-27,293.98,294.73000299999995,291.009998,291.159988,120708700,37.722557\\n2010-09-28,291.769989,291.769989,274.999992,286.859997,258760600,37.165452\\n2010-09-29,287.229992,289.809998,286.000004,287.369995,117411000,37.231528000000004\\n2010-09-30,288.999992,289.999989,281.249989,283.749992,168347900,36.762522\\n2010-10-01,286.149994,286.57999,281.349991,282.52000400000003,112035700,36.603165000000004\\n2010-10-04,281.60001,282.900013,277.769989,278.639996,108825500,36.100473\\n2010-10-05,281.999992,289.449989,281.81998799999997,288.939991,125491800,37.434934999999996\\n2010-10-06,289.589993,291.98999399999997,285.259987,289.19001000000003,167717200,37.467328\\n2010-10-07,290.339996,290.48,286.910011,289.21999700000003,102099900,37.471213\\n2010-10-08,291.709988,294.500011,289.999989,294.06998799999997,164600800,38.099576\\n2010-10-11,294.73999,297.23999399999997,294.599987,295.360004,106938300,38.266709999999996\\n2010-10-12,295.409992,299.499992,292.490005,298.539997,139636000,38.678708\\n2010-10-13,300.200008,301.959995,299.799999,300.14000699999997,157523100,38.886005\\n2010-10-14,301.690002,302.469994,300.400013,302.30998999999997,108824100,39.167147\\n2010-10-15,307.43998700000003,315.0,304.909996,314.73999399999997,230548500,40.777572\\n2010-10-18,318.470013,319.000011,314.289997,317.999989,273252700,41.199936\\n2010-10-19,303.40000200000003,313.770012,300.02000400000003,309.48999399999997,308196000,40.097384999999996\\n2010-10-20,308.999996,314.249996,306.86998700000004,310.529991,180406100,40.232126\\n2010-10-21,312.35999300000003,314.73999399999997,306.799999,309.520008,137865000,40.101273\\n2010-10-22,309.07001099999997,310.03999300000004,306.299988,307.47000099999997,93194500,39.835675\\n2010-10-25,309.090012,311.600002,308.44001000000003,308.839993,98115500,40.013171\\n2010-10-26,306.86998700000004,309.740013,305.650013,308.049988,98232400,39.910818\\n2010-10-27,307.65000499999996,309.89999,305.59999799999997,307.83000899999996,99750700,39.882318\\n2010-10-28,307.950012,308.0,300.899998,305.23999,137762800,39.546756\\n2010-10-29,304.230007,305.880005,300.87001000000004,300.98,107627800,38.994834000000004\\n2010-11-01,302.22000099999997,305.59999799999997,302.200001,304.179993,105972300,39.409423\\n2010-11-02,307.000004,310.19001000000003,307.000004,309.360004,108482500,40.080543\\n2010-11-03,311.37001000000004,312.880005,308.52999900000003,312.800003,127087100,40.526228\\n2010-11-04,315.449997,320.18001200000003,315.029987,318.270008,160622000,41.234919\\n2010-11-05,317.990002,319.57001099999997,316.75,317.130009,90313300,41.087222\\n2010-11-08,317.199997,319.769989,316.759987,318.620003,70439600,41.280264\\n2010-11-09,321.049992,321.300011,314.499989,316.079998,95886000,40.951183\\n2010-11-10,316.64001099999996,318.769993,313.550007,318.03000299999997,96056800,41.203824\\n2010-11-11,315.0,318.399998,314.249996,316.649998,90321000,41.025032\\n2010-11-12,315.999996,316.500008,303.629993,308.029987,198961700,39.908227000000004\\n2010-11-15,308.460011,310.540005,306.27,307.040005,100901500,39.779965000000004\\n2010-11-16,305.72000099999997,307.599991,299.31998799999997,301.59,164412500,39.073865000000005\\n2010-11-17,301.200005,303.990002,297.76000600000003,300.499989,119862400,38.932644\\n2010-11-18,305.199989,309.669998,304.689991,308.429996,123622800,39.960052000000005\\n2010-11-19,307.970013,308.400009,305.23999,306.730011,96210800,39.739802000000005\\n2010-11-22,306.679996,313.35998900000004,305.869991,313.35998900000004,98268800,40.598779\\n2010-11-23,310.449989,311.749992,306.559994,308.73000299999995,129861900,39.998921\\n2010-11-24,312.000011,315.400009,311.749992,314.799995,103431300,40.785346000000004\\n2010-11-26,313.739998,317.700008,312.940006,315.0,59396400,40.811259\\n2010-11-29,315.500011,317.48000299999995,311.379997,316.870003,111446300,41.053535\\n2010-11-30,313.53999300000004,314.360012,310.869999,311.15000499999996,125464500,40.312455\\n2010-12-01,315.269993,317.749996,315.0,316.40000499999996,115437700,40.992643\\n2010-12-02,317.529991,319.000011,314.89001099999996,318.15000499999996,115709300,41.219372\\n2010-12-03,317.01000600000003,318.64999,316.340004,317.440002,85523200,41.127384\\n2010-12-06,318.640003,322.329994,318.419998,320.149998,112120400,41.47849\\n2010-12-07,323.799988,323.990005,318.119991,318.21000699999996,97863500,41.227146000000005\\n2010-12-08,319.63001299999996,321.02000400000003,317.110008,321.009991,80483900,41.589909999999996\\n2010-12-09,322.12998999999996,322.500011,319.020012,319.760002,73537800,41.427962\\n2010-12-10,319.650013,321.049992,318.600002,320.559994,65627800,41.531609\\n2010-12-13,324.36998700000004,325.05998999999997,321.000004,321.670006,109953900,41.675422\\n2010-12-14,321.730007,322.540012,319.000011,320.29000099999996,87752000,41.496629\\n2010-12-15,320.000008,322.999996,319.190002,320.35998900000004,104328000,41.505696\\n2010-12-16,321.089993,322.61000099999995,320.10001,321.249996,80507700,41.621005\\n2010-12-17,321.630005,321.790009,320.23,320.610008,96732300,41.538089\\n2010-12-20,321.599991,323.249989,318.230007,322.209991,96402600,41.745382\\n2010-12-21,322.999996,324.389988,322.049988,324.199997,64088500,42.003206\\n2010-12-22,324.36000099999995,325.72000499999996,323.549995,325.159992,66480400,42.127583\\n2010-12-23,324.999989,325.15000499999996,323.169987,323.60001,55789300,41.925472\\n2010-12-27,322.850006,325.439999,321.519989,324.680008,62454000,42.065396\\n2010-12-28,325.909996,326.66,325.05998999999997,325.470013,43981000,42.167749\\n2010-12-29,326.21999,326.450008,325.099991,325.290009,40784800,42.144427\\n2010-12-30,325.48,325.509987,323.050011,323.660011,39373600,41.933246000000004\\n2010-12-31,322.950008,323.480007,321.309998,322.56001299999997,48377000,41.790729999999996\\n2011-01-03,325.640003,330.260002,324.840012,329.57,111284600,42.698941\\n2011-01-04,332.439999,332.5,328.149994,331.290012,77270200,42.921785\\n2011-01-05,329.549999,334.339989,329.500011,334.000008,63879900,43.272890999999994\\n2011-01-06,334.71999700000003,335.249996,332.900009,333.729988,75107200,43.237907\\n2011-01-07,333.98999399999997,336.34999500000004,331.900013,336.120003,77982800,43.547557\\n2011-01-10,338.829998,343.229992,337.169987,342.450001,112140000,44.367668\\n2011-01-11,344.87998999999996,344.959991,339.470013,341.639996,111027000,44.262724\\n2011-01-12,343.249992,344.429993,342.000004,344.420006,75647600,44.622901\\n2011-01-13,345.159996,346.640003,343.850006,345.680008,74195100,44.786147\\n2011-01-14,345.88999900000005,348.479992,344.440006,348.479992,77210000,45.148911\\n2011-01-18,329.520012,344.759987,326.000011,340.650013,470249500,44.134463000000004\\n2011-01-19,348.350002,348.59999500000004,336.879993,338.840012,283903200,43.89996\\n2011-01-20,336.429996,338.299999,330.119999,332.680004,191197300,43.101872\\n2011-01-21,333.769989,334.880001,326.63001299999996,326.72000099999997,188600300,42.329696999999996\\n2011-01-24,326.869991,337.449993,326.72000099999997,337.449993,143670800,43.71987\\n2011-01-25,336.329994,341.439991,334.570007,341.39999,136717000,44.231629\\n2011-01-26,342.95999900000004,345.600006,341.499992,343.850006,126718900,44.549052\\n2011-01-27,343.779991,344.689999,342.83000899999996,343.209991,71256500,44.466132\\n2011-01-28,344.169987,344.40000499999996,333.53001,336.100002,148014300,43.544965000000005\\n2011-01-31,335.799995,340.040012,334.299988,339.319996,94311700,43.962146000000004\\n2011-02-01,341.299988,345.649994,340.980007,345.030006,106658300,44.701933000000004\\n2011-02-02,344.449993,345.250011,343.549999,344.320004,64738800,44.609945\\n2011-02-03,343.799992,344.240002,338.549992,343.44001000000003,98449400,44.495933\\n2011-02-04,343.639988,346.700005,343.509998,346.5,80460100,44.892384\\n2011-02-07,347.889992,353.250008,347.63999900000005,351.87998999999996,121255400,45.589413\\n2011-02-08,353.680004,355.519993,352.150009,355.200012,95260200,46.019554\\n2011-02-09,355.189999,358.999992,354.869991,358.16,120686300,46.403048999999996\\n2011-02-10,357.389996,359.999989,348.000008,354.539997,232137500,45.934043\\n2011-02-11,354.749989,357.799992,353.54000099999996,356.85001,91893200,46.233327\\n2011-02-14,356.790009,359.48000299999995,356.71000699999996,359.179996,77604100,46.535199\\n2011-02-15,359.19001000000003,359.97000099999997,357.549999,359.900013,71043700,46.628484\\n2011-02-16,360.800007,364.899994,360.5,363.129993,120289400,47.046959\\n2011-02-17,357.249992,360.270008,356.519989,358.300003,132645800,46.421188\\n2011-02-18,358.70999900000004,359.500004,349.519989,350.56001299999997,204014300,45.418397999999996\\n2011-02-22,342.149994,345.40000200000003,337.720013,338.60999300000003,218138900,43.870159\\n2011-02-23,338.76999700000005,344.64001099999996,338.60999300000003,342.619991,167963600,44.389692\\n2011-02-24,344.01999700000005,345.150009,338.36998700000004,342.879997,124975200,44.423378\\n2011-02-25,345.259998,348.430004,344.799988,348.160011,95004700,45.107455\\n2011-02-28,351.240002,355.049995,351.119999,353.21000699999996,100768500,45.76173\\n2011-03-01,355.47000499999996,355.71999700000003,347.68,349.309998,114034200,45.256446000000004\\n2011-03-02,349.95999900000004,354.350006,348.39999,352.119995,150647700,45.620508\\n2011-03-03,357.189991,359.789997,355.920002,359.560005,125197100,46.584433000000004\\n2011-03-04,360.070004,360.290009,357.750004,359.999989,113316700,46.641436999999996\\n2011-03-07,361.399994,361.669987,351.30998999999997,355.35998900000004,136530800,46.040281\\n2011-03-08,354.909992,357.400009,352.250011,355.759998,89079200,46.092106\\n2011-03-09,354.68998700000003,354.760002,350.599987,352.46999,113326500,45.665853999999996\\n2011-03-10,349.120007,349.770008,344.89999,346.66999100000004,126884800,44.914408\\n2011-03-11,345.330013,352.32,344.999992,351.990005,117770100,45.603667\\n2011-03-14,353.179993,356.479988,351.30998999999997,353.560001,108989300,45.807075\\n2011-03-15,342.100006,347.840004,340.099987,345.42998900000003,180270300,44.753754\\n2011-03-16,342.000004,343.0,326.259991,330.01001,290502800,42.755949\\n2011-03-17,336.830006,339.60998900000004,330.660011,334.639996,164855600,43.355808\\n2011-03-18,337.13001299999996,338.199997,329.999996,330.669998,188303500,42.841456\\n2011-03-21,335.990013,339.740005,335.26001,339.299995,102350500,43.959555\\n2011-03-22,342.55998999999997,342.619991,339.139992,341.200012,81480700,44.20572\\n2011-03-23,339.27999500000004,340.21999,335.950012,339.190006,93249100,43.945305\\n2011-03-24,341.849987,345.999989,338.860012,344.97000499999996,101178000,44.694159\\n2011-03-25,348.069996,352.059994,347.020012,351.540009,112227500,45.545365999999994\\n2011-03-28,353.15000499999996,354.319992,350.44001000000003,350.44001000000003,77338800,45.40285\\n2011-03-29,347.66,350.959995,346.05998999999997,350.959995,88225200,45.470219\\n2011-03-30,350.639988,350.879993,347.439995,348.630009,82351500,45.168347\\n2011-03-31,346.359997,349.799995,346.05998999999997,348.51000600000003,68504800,45.1528\\n2011-04-01,351.110012,351.589996,343.300007,344.560009,104665400,44.641040000000004\\n2011-04-04,344.30998999999997,344.60001,338.40000200000003,341.189999,115021200,44.204423\\n2011-04-05,336.990009,342.249996,336.0,338.88999900000005,120682800,43.906436\\n2011-04-06,341.220013,343.899994,337.13999900000005,338.03999300000004,100634800,43.79631\\n2011-04-07,338.09999500000004,340.430008,336.029987,338.079994,93361800,43.801491999999996\\n2011-04-08,339.92001,340.15000200000003,333.949993,335.060005,94383800,43.410224\\n2011-04-11,334.060009,335.670006,330.01999700000005,330.799988,99736700,42.858298\\n2011-04-12,330.48999399999997,333.729988,330.200001,332.399998,106409800,43.065594\\n2011-04-13,335.02000400000003,336.140003,332.52,336.12998999999996,86555000,43.548851\\n2011-04-14,334.799999,336.0,332.05998999999997,332.419998,75450200,43.068186\\n2011-04-15,333.299992,333.63999900000005,326.800003,327.459991,113401400,42.425569\\n2011-04-18,326.099987,332.230007,320.160011,331.84999799999997,152474700,42.994337\\n2011-04-19,333.099987,337.979992,331.709995,337.85998900000004,104844600,43.772988\\n2011-04-20,343.509998,345.749996,341.499992,342.41,175166600,44.362486\\n2011-04-21,355.000008,355.129997,348.519993,350.699989,188452600,45.436533000000004\\n2011-04-25,350.340008,353.749992,350.300007,353.010002,66636500,45.735817\\n2011-04-26,353.620003,354.98999399999997,349.34999799999997,350.42001,84700000,45.400259000000005\\n2011-04-27,352.239998,352.349987,347.099987,350.14999,89053300,45.365275\\n2011-04-28,346.190006,349.750008,345.52000400000003,346.749992,90239800,44.924772999999995\\n2011-04-29,346.780006,353.949997,346.66999100000004,350.12998999999996,251586300,45.362684\\n2011-05-02,349.73999399999997,350.46999700000003,345.500004,346.27999500000004,110678400,44.863881\\n2011-05-03,347.98999399999997,349.89001099999996,345.620007,348.200012,78337000,45.112637\\n2011-05-04,348.259987,351.830002,346.880009,349.570004,97312600,45.290133000000004\\n2011-05-05,348.39999,350.950008,346.050003,346.749992,83992300,44.924772999999995\\n2011-05-06,349.690006,350.0,346.21000699999996,346.660004,70033600,44.913114\\n2011-05-09,347.860004,349.200008,346.529987,347.59999799999997,51186800,45.0349\\n2011-05-10,348.889988,349.690006,346.660004,349.450001,70522900,45.274584999999995\\n2011-05-11,349.02000400000003,350.0,345.239998,347.23000299999995,84000000,44.986963\\n2011-05-12,346.119991,347.11998700000004,342.26999700000005,346.56998799999997,80500000,44.901452\\n2011-05-13,345.660007,346.250008,340.350006,340.499996,81529000,44.115027000000005\\n2011-05-16,339.199993,341.220013,332.600002,333.299992,112443800,43.182196999999995\\n2011-05-17,331.999989,336.140003,330.73,336.140003,113083600,43.550148\\n2011-05-18,336.46999700000003,341.049995,336.0,339.869995,83694100,44.033404\\n2011-05-19,342.080006,342.41,338.669994,340.53001,65292500,44.118915\\n2011-05-20,339.560001,340.949993,335.02000400000003,335.220009,84492100,43.430954\\n2011-05-23,329.970009,335.98,329.42001,334.39999,95900000,43.324713\\n2011-05-24,335.499989,335.899998,331.34,332.190006,80481800,43.038388\\n2011-05-25,333.430008,338.560005,332.84999500000004,336.779991,73556000,43.633064000000005\\n2011-05-26,335.970013,336.89000699999997,334.430004,335.000004,55640200,43.40245\\n2011-05-27,334.799999,337.629997,334.310001,337.409992,50899800,43.714687\\n2011-05-31,341.10001,347.82999,341.000008,347.82999,104438600,45.064696999999995\\n2011-06-01,348.86998700000004,352.130009,344.649998,345.509991,138670700,44.764119\\n2011-06-02,346.5,347.980007,344.300003,346.099991,84695800,44.840559000000006\\n2011-06-03,343.180004,345.330013,342.009991,343.44001000000003,78312500,44.495933\\n2011-06-06,345.700008,347.049999,337.810001,338.03999300000004,115485300,43.79631\\n2011-06-07,338.17001,338.21999700000003,331.900013,332.039989,132446300,43.018952\\n2011-06-08,331.78001,334.799999,330.649998,332.23999399999997,83430900,43.044864000000004\\n2011-06-09,333.250004,333.669987,330.75,331.48999,68772200,42.947694\\n2011-06-10,330.549995,331.660007,325.509987,325.900009,108488800,42.223459000000005\\n2011-06-13,327.200012,328.309998,325.070004,326.59999799999997,82368300,42.314149\\n2011-06-14,329.999996,333.250004,329.309994,332.439999,83642300,43.070777\\n2011-06-15,329.750004,330.300003,324.88001299999996,326.749989,99799000,42.333582\\n2011-06-16,326.90000499999996,328.679993,318.33000899999996,325.159992,127647800,42.127583\\n2011-06-17,328.990013,329.249992,319.35999300000003,320.259987,153755000,41.492740000000005\\n2011-06-20,317.36000099999995,317.700008,310.500004,315.320007,160161400,40.852719\\n2011-06-21,316.68001200000003,325.800007,315.200005,325.299995,123345600,42.145721\\n2011-06-22,325.159992,328.899998,322.380009,322.61000099999995,97645800,41.797207\\n2011-06-23,318.94001000000003,331.689995,318.119991,331.230011,139939800,42.914011\\n2011-06-24,331.36998700000004,333.15000200000003,325.090004,326.350006,109951800,42.28176\\n2011-06-27,327.590008,333.90000499999996,327.25,332.039989,84953400,43.018952\\n2011-06-28,333.650013,336.699989,333.439995,335.26001,73574900,43.436136\\n2011-06-29,336.04000099999996,336.369995,331.88001299999996,334.040009,88136300,43.278074\\n2011-06-30,334.699997,336.12998999999996,332.840008,335.670006,80738700,43.489255\\n2011-07-01,335.950012,343.500011,334.200012,343.26000600000003,108828300,44.472612\\n2011-07-05,343.0,349.83000899999996,342.499989,349.43,88763500,45.271994\\n2011-07-06,348.949989,354.099987,346.709991,351.759987,111156500,45.573865999999995\\n2011-07-07,354.669987,357.999996,354.000011,357.200005,99915900,46.278672\\n2011-07-08,353.339996,359.999989,352.199997,359.709995,122408300,46.603865\\n2011-07-11,356.340012,359.76999700000005,352.82001099999997,354.000011,110668600,45.864083\\n2011-07-12,353.529987,357.67998900000003,348.619995,353.749992,112902300,45.83169\\n2011-07-13,358.32999,359.999989,356.38001299999996,358.01999700000005,97909700,46.38491\\n2011-07-14,361.009998,361.610012,356.340012,357.77000400000003,107633400,46.352521\\n2011-07-15,361.170002,364.999996,359.17001,364.919994,121116800,47.278871\\n2011-07-18,365.429993,374.64999,365.28000299999997,373.800011,143163300,48.429362\\n2011-07-19,378.0,378.65000200000003,373.32,376.849987,204786400,48.824515000000005\\n2011-07-20,396.11998700000004,396.27000400000003,385.999996,386.89999,235335100,50.126589\\n2011-07-21,386.950005,390.060009,383.90000200000003,387.290012,131633600,50.17712\\n2011-07-22,388.319996,395.050003,387.749996,393.300003,129182200,50.955771999999996\\n2011-07-25,390.350002,399.999996,389.619999,398.499989,147451500,51.62948\\n2011-07-26,399.999996,404.499992,399.67998900000003,403.410007,119145600,52.265619\\n2011-07-27,400.589996,402.640003,392.14999,392.59,164831100,50.863784\\n2011-07-28,391.619991,396.98999399999997,388.130005,391.819996,148508500,50.764023\\n2011-07-29,387.64000699999997,395.15000499999996,384.000004,390.479992,158146100,50.590412\\n2011-08-01,397.77999900000003,399.500011,392.369995,396.749989,153209000,51.40275\\n2011-08-02,397.650009,397.90000200000003,388.35001,388.909996,159884900,50.387004\\n2011-08-03,390.98000299999995,393.549995,382.23999,392.57,183127000,50.861193\\n2011-08-04,389.410007,391.32001099999997,377.34999799999997,377.369999,217851900,48.891888\\n2011-08-05,380.440002,383.499992,362.570007,373.620007,301147700,48.406040000000004\\n2011-08-08,361.68998700000003,367.769993,353.019989,353.21000699999996,285958400,45.76173\\n2011-08-09,361.299992,374.60998900000004,355.000008,374.010002,270645900,48.456568\\n2011-08-10,371.14999,374.64999,362.499992,363.690006,219664200,47.119514\\n2011-08-11,370.519989,375.450008,364.71999,373.700008,185492300,48.416405\\n2011-08-12,378.06998799999997,379.64001099999996,374.230007,376.98999,132244000,48.842653999999996\\n2011-08-15,379.629997,384.970013,378.089989,383.410004,115136000,49.674428000000006\\n2011-08-16,381.52,383.370003,376.060009,380.48000299999995,124687500,49.294818\\n2011-08-17,382.310005,384.519989,378.0,380.440002,110515300,49.289636\\n2011-08-18,370.839996,372.649998,361.370007,366.050007,212858800,47.425275\\n2011-08-19,362.169998,366.999989,356.000004,356.029991,193972100,46.127086\\n2011-08-22,364.509998,364.879993,355.089996,356.43998700000003,133828800,46.180205\\n2011-08-23,360.299995,373.64000699999997,357.0,373.600006,164208800,48.403449\\n2011-08-24,373.46999,378.959995,370.599991,376.18001200000003,156566900,48.737713\\n2011-08-25,365.079998,375.450008,364.999996,373.720009,217836500,48.418997\\n2011-08-26,371.16999100000004,383.799999,370.799995,383.579994,160369300,49.696452\\n2011-08-29,388.179993,391.499989,387.999989,389.969994,101317300,50.524337\\n2011-08-30,388.250008,391.839996,386.209988,389.98999399999997,104480600,50.526928999999996\\n2011-08-31,390.570007,392.080002,381.860008,384.83000899999996,130646600,49.858403\\n2011-09-01,385.819992,387.34,380.720009,381.03000299999997,85931300,49.366076\\n2011-09-02,374.740005,378.0,371.830006,374.050003,109734800,48.46175\\n2011-09-06,367.37001000000004,380.330013,366.48000299999995,379.740013,127424500,49.198946\\n2011-09-07,385.56001299999997,385.599987,382.000011,383.92998900000003,87644200,49.741797\\n2011-09-08,382.399994,388.60998900000004,382.310005,384.14000699999997,104039600,49.769007\\n2011-09-09,383.92998900000003,385.999996,375.020012,377.479988,141203300,48.906138\\n2011-09-12,372.999992,380.88001299999996,371.899994,379.939991,116958100,49.224855\\n2011-09-13,382.139988,386.209988,380.250011,384.619991,110140100,49.831193\\n2011-09-14,387.019993,392.209991,385.759991,389.299992,133681100,50.437532\\n2011-09-15,391.43,393.660011,389.90000499999996,392.959995,104454700,50.911721\\n2011-09-16,395.54000099999996,400.500008,395.03000299999997,400.500008,174628300,51.888601\\n2011-09-19,397.000008,413.229992,395.199993,411.630009,205965200,53.330599\\n2011-09-20,415.250011,422.860012,411.189999,413.449997,193938500,53.566396\\n2011-09-21,419.639992,421.589996,412.000004,412.14000699999997,151494000,53.396674\\n2011-09-22,401.030006,409.820007,396.700001,401.82001099999997,242120200,52.05962\\n2011-09-23,400.28000299999997,406.73999,399.850006,404.299988,136569300,52.380925\\n2011-09-26,399.85999300000003,403.980007,391.300011,403.170002,203219100,52.234524\\n2011-09-27,408.72999599999997,409.250008,398.060005,399.26000600000003,158124400,51.727947\\n2011-09-28,400.18998700000003,403.740002,396.51001,397.009995,107409400,51.436437\\n2011-09-29,401.919987,402.21000699999996,386.209988,390.570007,162771700,50.602075\\n2011-09-30,387.119995,388.889996,381.179993,381.319996,136910200,49.403647\\n2011-10-03,380.36998700000004,382.63999900000005,373.17001,374.600002,167274800,48.533008\\n2011-10-04,374.56998799999997,381.800007,354.23999,372.500008,308419300,48.260934000000006\\n2011-10-05,367.860008,379.81998799999997,360.299995,378.249992,196617400,49.005899\\n2011-10-06,373.330013,384.77999500000004,371.799992,377.369999,203145600,48.891888\\n2011-10-07,375.78000299999997,377.73999399999997,368.490009,369.799999,133864500,47.911122\\n2011-10-10,379.090012,388.809994,378.209991,388.809994,110628700,50.374047999999995\\n2011-10-11,392.57,403.17998900000003,391.499989,400.289989,151421900,51.861391\\n2011-10-12,407.340004,409.250008,400.13999900000005,402.190006,155571500,52.107557\\n2011-10-13,404.98000299999995,408.42998900000003,402.84999500000004,408.42998900000003,106546300,52.916006\\n2011-10-14,416.829994,421.999992,415.270012,421.999992,143341800,54.674130000000005\\n2011-10-17,421.740013,426.69999299999995,415.93998700000003,419.990013,171511200,54.413718\\n2011-10-18,421.759987,424.80999,415.990002,422.23999800000007,220400600,54.705225\\n2011-10-19,401.349987,408.420002,397.799999,398.619991,276014900,51.645027\\n2011-10-20,399.999996,400.349991,394.210011,395.310009,137317600,51.216187\\n2011-10-21,398.100006,399.140003,390.750011,392.870007,155311100,50.900062\\n2011-10-24,396.17998900000003,406.500011,395.399998,405.770008,125534500,52.571380000000005\\n2011-10-25,405.029991,406.549999,397.37998999999996,397.770012,107606800,51.534904\\n2011-10-26,401.76001,402.549988,393.150013,400.60001,114076200,51.901557000000004\\n2011-10-27,407.560009,408.999989,401.88999900000005,404.69001000000003,123666200,52.431456000000004\\n2011-10-28,403.000011,406.34999500000004,402.509987,404.949989,80710700,52.465139\\n2011-10-31,402.419998,409.33000899999996,401.050007,404.77999900000003,96375300,52.443115\\n2011-11-01,397.410004,399.500011,393.22000099999997,396.51001,132947500,51.371659\\n2011-11-02,400.090012,400.440006,395.110004,397.410004,81837700,51.488262\\n2011-11-03,399.06998799999997,403.399994,395.359997,403.07,110346600,52.221568\\n2011-11-04,402.03000299999997,403.439995,399.160004,400.240002,75557300,51.854915000000005\\n2011-11-07,399.910007,399.999996,396.130001,399.73000299999995,67568900,51.78884\\n2011-11-08,402.21000699999996,407.999992,401.560005,406.229992,100110500,52.630975\\n2011-11-09,396.969994,400.890003,394.230011,395.27999500000004,139671000,51.212299\\n2011-11-10,397.02999500000004,397.20999900000004,382.15000200000003,385.22000499999996,186188100,49.908931\\n2011-11-11,386.609997,388.700005,380.259998,384.619991,163446500,49.831193\\n2011-11-14,383.519993,385.249992,378.200005,379.260002,108226300,49.136756\\n2011-11-15,380.800011,389.499996,379.449993,388.829994,107702700,50.376639000000004\\n2011-11-16,389.250004,391.14000699999997,384.32001099999997,384.770008,87302600,49.850629\\n2011-11-17,383.98000299999995,384.57999,375.499996,377.41,119975100,48.89707\\n2011-11-18,378.919994,379.990005,374.880009,374.94001000000003,92984500,48.577059000000006\\n2011-11-21,370.400013,371.67998900000003,365.910004,369.009995,111995100,47.808769\\n2011-11-22,371.02,377.93001200000003,370.939999,376.51000600000003,102255300,48.780467\\n2011-11-23,374.509987,375.840004,366.88001299999996,366.990002,107067800,47.547059999999995\\n2011-11-25,368.419994,371.14999,363.32001099999997,363.570004,63690200,47.103966\\n2011-11-28,372.349991,376.71999700000003,370.329998,376.12001000000004,86603300,48.72994\\n2011-11-29,375.840004,378.830006,370.200008,373.199997,93963800,48.351624\\n2011-11-30,381.290009,382.279991,378.300007,382.199989,101484600,49.517659\\n2011-12-01,382.539997,389.000011,380.749996,387.93,96795300,50.260037\\n2011-12-02,389.82999,393.629997,388.580002,389.700001,94763900,50.489357\\n2011-12-05,393.48999399999997,396.410007,390.390003,393.01001,89302500,50.9182\\n2011-12-06,392.509998,394.629993,389.379993,390.949989,70899500,50.651305\\n2011-12-07,389.929993,390.940002,386.759987,389.09,76186600,50.410326\\n2011-12-08,391.450001,395.5,390.23,390.659996,94089100,50.613734\\n2011-12-09,392.850006,394.03999300000004,391.029991,393.62001000000004,74248300,50.997232000000004\\n2011-12-12,391.679993,393.89999,389.450008,391.839996,75266800,50.766614000000004\\n2011-12-13,392.999996,395.399998,387.09999500000004,388.809994,84732200,50.374047999999995\\n2011-12-14,386.700012,387.380001,377.679993,380.19001000000003,101721900,49.257247\\n2011-12-15,383.330002,383.739998,378.309994,378.939995,64050000,49.095296000000005\\n2011-12-16,380.36000099999995,384.149994,379.569996,381.019989,105369600,49.364779\\n2011-12-19,382.470009,384.85001,380.48000299999995,382.210003,58882600,49.518956\\n2011-12-20,387.76001,396.099987,387.259998,395.949997,84303800,51.299104\\n2011-12-21,396.68998700000003,397.299988,392.009987,396.450008,65737000,51.363884999999996\\n2011-12-22,397.000008,399.12998999999996,396.099987,398.550003,50589700,51.635959\\n2011-12-23,399.690002,403.590012,399.489998,403.330006,67349800,52.255254\\n2011-12-27,403.099987,409.090004,403.020012,406.52999900000003,66269000,52.669844\\n2011-12-28,406.89000699999997,408.250011,401.34,402.640003,57165500,52.165858\\n2011-12-29,403.399994,405.65000499999996,400.509995,405.120007,53994500,52.487166\\n2011-12-30,403.51001,406.280006,403.490009,405.000004,44915500,52.471619\\n2012-01-03,409.399998,412.499989,408.999989,411.23,75555200,53.278774\\n2012-01-04,410.000011,414.68001200000003,409.27999500000004,413.44001000000003,65005500,53.565102\\n2012-01-05,414.950005,418.550007,412.670006,418.02999500000004,67817400,54.159778\\n2012-01-06,419.770008,422.749996,419.220009,422.400002,79573200,54.725955000000006\\n2012-01-09,425.499992,427.750004,421.349991,421.73,98506100,54.639148999999996\\n2012-01-10,425.909988,426.000004,421.500008,423.239994,64549100,54.834784\\n2012-01-11,422.680008,422.849998,419.309998,422.549992,53771200,54.745387\\n2012-01-12,422.27999900000003,422.900013,418.750011,421.389992,53146800,54.595098\\n2012-01-13,419.69999299999995,420.449997,418.659996,419.810009,56505400,54.390395999999996\\n2012-01-17,424.19998899999996,425.98999000000003,422.959988,424.700001,60724300,55.023941\\n2012-01-18,426.95999900000004,429.46999000000005,426.30001100000004,429.110008,69197800,55.5953\\n2012-01-19,430.15000499999996,431.37000700000004,426.51000199999993,427.750004,65434600,55.419098\\n2012-01-20,427.48999800000007,427.50001100000003,419.750008,420.30000700000005,103493600,54.453880000000005\\n2012-01-23,422.66999400000003,428.44999299999995,422.299999,427.409996,76515600,55.375046999999995\\n2012-01-24,425.10000999999994,425.10000999999994,419.550003,420.409996,136909500,54.46813\\n2012-01-25,454.43998700000003,454.449974,443.72999599999997,446.659996,239578500,57.869068999999996\\n2012-01-26,448.360008,448.789978,443.139996,444.62999,80996300,57.606062\\n2012-01-27,444.339996,448.48001100000005,443.769997,447.28000999999995,74927300,57.949397\\n2012-01-30,445.709988,453.900002,445.390007,453.009995,94835300,58.691770999999996\\n2012-01-31,455.58997300000004,458.240021,453.07002300000005,456.47997999999995,97920900,59.141341000000004\\n2012-02-01,458.41001100000005,458.98999800000007,455.550026,456.18998700000003,67511500,59.10377\\n2012-02-02,455.89999400000005,457.169983,453.980003,455.12000300000005,46699100,58.965143000000005\\n2012-02-03,457.300026,460.000008,455.56001299999997,459.68,71649900,59.55593399999999\\n2012-02-06,458.37999699999995,464.979988,458.20002,463.969978,62353200,60.11174200000001\\n2012-02-07,465.250008,469.74997699999994,464.579979,468.83000899999996,79055900,60.741406000000005\\n2012-02-08,470.500008,476.789978,469.69998899999996,476.680016,101972500,61.758449\\n2012-02-09,480.76000199999993,496.750008,480.55999800000006,493.17000599999994,221053700,63.894884999999995\\n2012-02-10,490.960022,497.61998700000004,488.54998,493.419998,157825500,63.927273\\n2012-02-13,499.529991,503.83000899999996,497.08998899999995,502.60002099999997,129304000,65.116633\\n2012-02-14,504.659988,509.56002,502.000008,509.459991,115099600,66.005408\\n2012-02-15,514.259995,526.290016,496.88998399999997,497.669975,376530000,64.477899\\n2012-02-16,491.500008,504.890007,486.62999,502.20999900000004,236138000,65.066102\\n2012-02-17,503.109993,507.77002000000005,500.299995,502.12001,133951300,65.054443\\n2012-02-21,506.88001299999996,514.850021,504.12000300000005,514.850021,151398800,66.703738\\n2012-02-22,513.079994,515.489983,509.07002300000005,513.039993,120825600,66.46923100000001\\n2012-02-23,515.079987,517.830009,509.499992,516.3899769999999,142006900,66.903253\\n2012-02-24,519.6699980000001,522.899979,518.6400150000001,522.4099809999999,103768000,67.683203\\n2012-02-27,521.309982,528.5,516.2800139999999,525.760017,136895500,68.117232\\n2012-02-28,527.960014,535.410011,525.850006,535.410011,150096800,69.36748100000001\\n2012-02-29,541.5600049999999,547.6100230000001,535.700005,542.440025,238002800,70.278286\\n2012-03-01,548.169983,548.209984,538.7699809999999,544.4699780000001,170817500,70.541286\\n2012-03-02,544.240013,546.800018,542.519974,545.180008,107928100,70.633277\\n2012-03-05,545.420013,547.47998,526.000023,533.1600269999999,202281100,69.075974\\n2012-03-06,523.659996,533.690025,516.2199860000001,530.259987,202559700,68.70024599999999\\n2012-03-07,536.8000030000001,537.779999,523.299988,530.6900099999999,199630200,68.75595899999999\\n2012-03-08,534.6899950000001,542.989998,532.120003,541.989975,129114300,70.219978\\n2012-03-09,544.209999,547.740013,543.110001,545.170021,104729800,70.63198299999999\\n2012-03-12,548.9799879999999,551.999977,547.000023,551.999977,101820600,71.516869\\n2012-03-13,557.540024,568.18,555.750023,568.099998,172713800,73.60278100000001\\n2012-03-14,578.050026,594.719994,575.399979,589.580009,354711000,76.38572099999999\\n2012-03-15,599.6099849999999,600.009995,578.550011,585.5599980000001,289929500,75.86489\\n2012-03-16,584.7199780000001,589.199974,577.9999849999999,585.569984,206371900,75.86618399999999\\n2012-03-19,598.37001,601.7699809999999,589.050011,601.100006,225309000,77.878247\\n2012-03-20,599.51001,606.899979,591.480026,605.959984,204165500,78.507903\\n2012-03-21,602.73999,609.650002,601.4100269999999,602.4999849999999,161010500,78.059627\\n2012-03-22,597.779984,604.499977,595.529999,599.3400190000001,155967700,77.650224\\n2012-03-23,600.490005,601.799995,594.399986,596.050011,107622200,77.223972\\n2012-03-26,599.790016,607.150024,595.259979,606.97998,148935500,78.640054\\n2012-03-27,606.180016,616.280006,606.060013,614.4800190000001,151782400,79.611755\\n2012-03-28,618.3799740000001,621.450005,610.3099900000001,617.62001,163865100,80.018571\\n2012-03-29,612.780006,616.560013,607.230026,609.8599929999999,152059600,79.013187\\n2012-03-30,608.7699809999999,610.559982,597.939987,599.550011,182759500,77.67743\\n2012-04-02,601.830009,618.769997,600.37999,618.6300200000001,149587900,80.149428\\n2012-04-03,627.300018,632.209984,622.510002,629.319984,208639900,81.534415\\n2012-04-04,624.349991,625.8599849999999,617.000023,624.3099900000001,143245200,80.885322\\n2012-04-05,626.980011,634.6600269999999,623.400009,633.679977,160324500,82.099293\\n2012-04-09,626.130005,639.840012,625.300026,636.229996,149384200,82.429673\\n2012-04-10,639.93,644.0,626.0000150000001,628.440018,222431300,81.420407\\n2012-04-11,636.199982,636.87001,623.339981,626.20002,174153700,81.130193\\n2012-04-12,624.999992,631.330017,620.500023,622.7699809999999,153584200,80.685799\\n2012-04-13,624.1099849999999,624.700012,603.509995,605.22998,214911200,78.413325\\n2012-04-16,610.0599980000001,610.279976,578.249977,580.1300200000001,262696700,75.161385\\n2012-04-17,578.93998,610.000023,571.910019,609.699989,256382000,78.992457\\n2012-04-18,613.720001,620.249977,602.709976,608.340012,238632800,78.816259\\n2012-04-19,600.2199860000001,604.729996,584.519974,587.439987,208679800,76.108461\\n2012-04-20,591.379997,594.620018,570.4199980000001,572.980003,257746300,74.23503199999999\\n2012-04-23,570.610016,576.670021,556.620003,571.699974,241632300,74.069192\\n2012-04-24,562.6099929999999,567.6900019999999,554.999992,560.280006,269037300,72.589626\\n2012-04-25,615.639992,617.999992,605.9999849999999,610.000023,226444400,79.031329\\n2012-04-26,614.269974,614.6900099999999,602.12999,607.6999969999999,134017100,78.733339\\n2012-04-27,605.069977,606.180016,600.499992,603.000023,101680600,78.124412\\n2012-04-30,597.800011,598.400024,582.999992,583.9799879999999,126536200,75.660185\\n2012-05-01,584.900009,596.759987,581.2300190000001,582.130013,152749800,75.420503\\n2012-05-02,580.239983,587.399986,578.8599780000001,585.97998,106847300,75.919303\\n2012-05-03,590.499977,591.400024,580.300011,581.819992,97637400,75.380337\\n2012-05-04,577.080017,578.3599929999999,565.1699980000001,565.25,132498100,73.233536\\n2012-05-07,561.500008,572.7700120000001,561.2299879999999,569.480003,115029600,73.78157399999999\\n2012-05-08,569.579979,571.500023,558.730011,568.18,124313000,73.613146\\n2012-05-09,563.700005,573.980026,560.850006,569.180023,120176000,73.742708\\n2012-05-10,574.579987,575.87999,568.43998,570.519974,83300000,73.916312\\n2012-05-11,565.000008,574.470024,564.350006,566.710007,99886500,73.42269399999999\\n2012-05-14,562.569992,567.510025,557.599998,558.2199860000001,88156600,72.322731\\n2012-05-15,561.45002,563.219994,551.7499849999999,553.169991,119084000,71.668456\\n2012-05-16,554.050011,556.8900219999999,541.039993,546.0800019999999,140224000,70.74988\\n2012-05-17,545.3099980000001,547.500008,530.12001,530.12001,179305000,68.68211099999999\\n2012-05-18,533.9599910000001,543.4099809999999,522.180016,530.37999,183073100,68.715793\\n2012-05-21,534.499977,561.5400089999999,534.04998,561.279976,157776500,72.71918199999999\\n2012-05-22,569.550018,573.879997,552.580017,556.970024,173717600,72.160786\\n2012-05-23,557.500023,572.800026,553.2300190000001,570.559975,146224400,73.921494\\n2012-05-24,575.870003,576.499977,561.2299879999999,565.320015,124057500,73.24260699999999\\n2012-05-25,564.590012,565.850014,558.4699780000001,562.289986,82126800,72.850038\\n2012-05-29,570.900009,574.0,565.309975,572.269974,95127200,74.143041\\n2012-05-30,569.1999969999999,579.98999,566.5599900000001,579.1699980000001,132357400,75.03700500000001\\n2012-05-31,580.740021,581.4999849999999,571.460022,577.7300190000001,122918600,74.850442\\n2012-06-01,569.159996,572.650009,560.5200120000001,560.989983,130246900,72.68160999999999\\n2012-06-04,561.500008,567.4999849999999,548.499977,564.289978,139248900,73.109156\\n2012-06-05,561.269989,566.470001,558.3300019999999,562.830025,97053600,72.920005\\n2012-06-06,567.770004,573.849983,565.499992,571.460022,100363900,74.038104\\n2012-06-07,577.2900089999999,577.320023,570.5,571.720001,94941700,74.071787\\n2012-06-08,571.599998,580.580017,568.999992,580.319984,86879100,75.185997\\n2012-06-11,587.719994,588.4999849999999,570.62999,571.169975,147816200,74.00052600000001\\n2012-06-12,574.459984,576.6199799999999,566.70002,576.159996,108845100,74.64703\\n2012-06-13,574.5200120000001,578.479996,570.379997,572.160011,73395000,74.128794\\n2012-06-14,571.23999,573.5000150000001,567.259979,571.529984,86393300,74.047168\\n2012-06-15,570.9999849999999,574.619987,569.550018,574.12999,83813800,74.384024\\n2012-06-18,570.959984,587.889984,570.37001,585.779976,110103000,75.89339100000001\\n2012-06-19,583.400002,589.999992,583.100021,587.4100269999999,90351100,76.104579\\n2012-06-20,588.2099910000001,589.2500150000001,580.799995,585.739975,89735800,75.88820799999999\\n2012-06-21,585.4399950000001,588.2199780000001,577.440025,577.669991,81587800,74.842665\\n2012-06-22,579.0400089999999,582.189987,575.420006,582.099998,71117900,75.416614\\n2012-06-25,577.299995,579.800026,570.37001,570.77002,76095600,73.948707\\n2012-06-26,571.329979,574.489998,567.329994,572.0300219999999,69134100,74.111953\\n2012-06-27,575.000023,576.739983,571.920006,574.4999849999999,50749300,74.43196\\n2012-06-28,571.670013,574.0,565.610008,569.04998,70709100,73.72586\\n2012-06-29,577.9999849999999,584.0000150000001,574.249992,584.0000150000001,105375200,75.66278\\n2012-07-02,584.7300190000001,593.4699780000001,583.600006,592.519997,100023000,76.766625\\n2012-07-03,594.879997,600.000008,593.999977,599.4099809999999,60428200,77.659288\\n2012-07-05,600.56002,614.339989,599.649986,609.9399950000001,121095800,79.023552\\n2012-07-06,607.089996,608.439987,601.580017,605.879982,104732600,78.497538\\n2012-07-09,605.299995,613.899979,604.110008,613.889992,94851400,79.535312\\n2012-07-10,617.9699780000001,619.869995,605.309982,608.210022,127989400,78.799417\\n2012-07-11,606.119987,607.659996,597.220024,604.430016,117330500,78.30968100000001\\n2012-07-12,600.240013,603.469994,592.68,598.900009,107010400,77.593216\\n2012-07-13,602.949982,607.190025,600.000008,604.970001,77856800,78.379642\\n2012-07-16,605.120018,611.6199799999999,605.019989,606.910019,75315100,78.63099\\n2012-07-17,610.790001,611.499977,603.149986,606.93998,73406200,78.63487099999999\\n2012-07-18,606.590012,608.340012,603.559982,606.260017,63175000,78.546776\\n2012-07-19,611.279999,615.349998,605.9999849999999,614.320015,109215400,79.591025\\n2012-07-20,613.029999,614.440018,603.700012,604.300026,99367800,78.29284\\n2012-07-23,594.399986,605.900009,587.710007,603.8300019999999,121993900,78.231944\\n2012-07-24,607.37999,609.680016,598.509987,600.919975,141283100,77.854922\\n2012-07-25,574.459984,580.799995,570.0000150000001,574.970009,219328200,74.492856\\n2012-07-26,579.760025,580.399986,570.3600230000001,574.8800200000001,101658200,74.481197\\n2012-07-27,575.01001,585.830017,571.590012,585.159988,100984100,75.81306500000001\\n2012-07-30,590.920013,599.4399950000001,587.820023,595.0300139999999,94785600,77.091821\\n2012-07-31,603.2299879999999,611.699982,602.720016,610.759987,115581900,79.12979\\n2012-08-01,615.910011,616.400009,603.000023,606.8099900000001,96125400,78.61803\\n2012-08-02,602.8400190000001,610.690025,600.25,607.789986,83039600,78.744998\\n2012-08-03,613.630013,617.9800190000001,611.5600049999999,615.70002,86230200,79.769818\\n2012-08-06,617.290016,624.870003,615.26001,622.5500030000001,75525800,80.657299\\n2012-08-07,622.7699809999999,624.999992,618.039993,620.910019,72611700,80.444823\\n2012-08-08,619.389984,623.8800200000001,617.099998,619.860008,61176500,80.308784\\n2012-08-09,617.849976,621.730011,617.799988,620.7299879999999,55410600,80.766789\\n2012-08-10,618.710022,621.760025,618.699982,621.6999969999999,48734700,80.893002\\n2012-08-13,623.3900219999999,630.0,623.249992,630.0,69708100,81.972964\\n2012-08-14,631.870003,638.6100230000001,630.2099910000001,631.690025,85042300,82.192863\\n2012-08-15,631.3000030000001,633.9999849999999,627.7500150000001,630.829979,64335600,82.080957\\n2012-08-16,631.210014,636.759995,630.4999849999999,636.340012,63633500,82.7979\\n2012-08-17,640.0000150000001,648.1900019999999,638.809975,648.110001,110690300,84.32936099999999\\n2012-08-20,650.010017,665.150017,649.900002,665.150017,153346200,86.546537\\n2012-08-21,670.82,674.880013,650.330025,656.059982,203179900,85.36378\\n2012-08-22,654.4199980000001,668.9999849999999,648.110001,668.869995,141330700,87.030565\\n2012-08-23,666.1099849999999,669.899979,661.149979,662.630013,105032200,86.218645\\n2012-08-24,659.509995,669.479996,655.550011,663.2199860000001,109335100,86.29540899999999\\n2012-08-27,679.989983,680.870003,673.5400089999999,675.679977,106752100,87.916651\\n2012-08-28,674.9799879999999,676.100014,670.669983,674.800011,66854200,87.802154\\n2012-08-29,675.250008,677.669983,672.600014,673.469994,50701700,87.629097\\n2012-08-30,670.6400219999999,671.5500030000001,662.849991,663.869987,75674900,86.37998499999999\\n2012-08-31,667.2499849999999,668.599976,657.250023,665.240005,84580300,86.558246\\n2012-09-04,665.760017,675.139992,664.5000150000001,674.970001,91973000,87.824272\\n2012-09-05,675.570015,676.350006,669.599998,670.230026,84093800,87.207526\\n2012-09-06,673.170013,678.290024,670.800026,676.270004,97799100,87.99342299999999\\n2012-09-07,678.050018,682.480026,675.77002,680.43998,82416600,88.53600300000001\\n2012-09-10,680.45002,683.289978,662.100014,662.739975,121999500,86.232952\\n2012-09-11,665.110016,670.099983,656.499992,660.5900190000001,125995800,85.953209\\n2012-09-12,666.849976,669.899979,656.000008,669.790016,178058300,87.150274\\n2012-09-13,677.370003,685.5000150000001,674.769997,682.980011,149590000,88.866501\\n2012-09-14,689.959984,696.980011,687.8899769999999,691.2800139999999,150118500,89.946463\\n2012-09-17,699.349998,699.799995,694.6100230000001,699.7800219999999,99507800,91.052448\\n2012-09-18,699.879997,702.329987,696.4199980000001,701.910004,93375800,91.329593\\n2012-09-19,700.259979,703.989998,699.569977,702.100021,81718700,91.35431700000001\\n2012-09-20,699.1599809999999,700.059975,693.619987,698.6999969999999,84142100,90.91192\\n2012-09-21,702.409988,705.070023,699.3599849999999,700.089989,142897300,91.09278\\n2012-09-24,686.8599929999999,695.119995,682.9999849999999,690.790016,159941600,89.882706\\n2012-09-25,688.260025,692.7800219999999,673.000023,673.5400089999999,129697400,87.63820799999999\\n2012-09-26,668.740005,672.6900019999999,661.20002,665.179977,144125800,86.550435\\n2012-09-27,664.290024,682.170006,660.350014,681.32,148522500,88.65050699999999\\n2012-09-28,678.750008,681.110008,666.75,667.100021,133777700,86.800263\\n2012-10-01,671.1599809999999,676.7500150000001,656.499992,659.389992,135898700,85.797067\\n2012-10-02,661.81002,666.349991,650.649979,661.309982,156998100,86.046888\\n2012-10-03,664.8600230000001,671.8600230000001,662.630013,671.449974,106070300,87.366261\\n2012-10-04,671.250023,674.2499849999999,665.550026,666.799988,92681400,86.761224\\n2012-10-05,665.200005,666.000023,651.280006,652.589996,148501500,84.91228000000001\\n2012-10-08,646.880013,647.559975,636.1099929999999,638.170013,159498500,83.036012\\n2012-10-09,638.650024,640.490013,623.550026,635.850014,209649300,82.734143\\n2012-10-10,639.739983,644.979996,637.0,640.909996,127589000,83.392527\\n2012-10-11,646.499977,647.20002,628.099983,628.099983,136520300,81.72574200000001\\n2012-10-12,629.5599900000001,635.37999,625.300026,629.710007,115003700,81.935231\\n2012-10-15,632.350014,635.129997,623.850006,634.760002,108125500,82.592315\\n2012-10-16,635.370003,650.300011,631.000023,649.789986,137442900,84.547954\\n2012-10-17,648.870018,652.790001,644.0,644.610001,97259400,83.873956\\n2012-10-18,639.5900190000001,642.059982,630.0,632.6400070000001,119156100,82.31647\\n2012-10-19,631.050011,631.769974,609.619987,609.8400190000001,186021500,79.34983100000001\\n2012-10-22,612.4199980000001,635.37999,610.759987,634.029999,136682700,82.49733\\n2012-10-23,631.000023,633.900009,611.699982,613.3599929999999,176786400,79.807836\\n2012-10-24,621.440018,626.549988,610.639984,616.829979,139631800,80.259336\\n2012-10-25,619.9999849999999,621.999977,605.549988,609.539986,164081400,79.310792\\n2012-10-26,609.430023,614.000008,591.0000150000001,603.999992,254608200,78.589952\\n2012-10-31,594.879997,601.959999,587.70002,595.320007,127500800,77.460548\\n2012-11-01,598.219994,603.000023,594.170021,596.5400089999999,90324500,77.61929\\n2012-11-02,595.8900070000001,596.950005,574.749977,576.800011,149843400,75.050804\\n2012-11-05,583.520004,587.7699809999999,577.599976,584.620003,132283900,76.068308\\n2012-11-06,590.230011,590.739983,580.0900190000001,582.849976,93729300,75.83800000000001\\n2012-11-07,573.839996,574.539986,555.750023,558.000008,198412200,72.936236\\n2012-11-08,560.6299740000001,562.230011,535.2900089999999,537.7499849999999,264036500,70.289354\\n2012-11-09,540.420006,554.87999,533.7199860000001,547.0599980000001,232478400,71.50626700000001\\n2012-11-12,554.149986,554.500008,538.649979,542.829994,128950500,70.953363\\n2012-11-13,538.910011,550.479996,536.3599929999999,542.900009,133237300,70.962514\\n2012-11-14,545.5000150000001,547.45002,536.180016,536.880005,119292600,70.175639\\n2012-11-15,537.530006,539.4999849999999,522.6200259999999,525.619987,197477700,68.703841\\n2012-11-16,525.200005,530.000008,505.75,527.680008,316723400,68.973106\\n2012-11-19,540.709999,567.4999849999999,539.8800200000001,565.730011,205829400,73.946626\\n2012-11-20,571.910019,571.95002,554.580009,560.9099809999999,160688500,73.316599\\n2012-11-21,564.249977,567.369995,556.599976,561.700012,93250500,73.419864\\n2012-11-23,567.169991,572.000008,562.600006,571.500023,68206600,74.700825\\n2012-11-26,575.900017,589.999992,573.710007,589.5300219999999,157644900,77.057528\\n2012-11-27,589.549995,590.419975,580.100006,584.780006,133332500,76.436653\\n2012-11-28,577.2699809999999,585.8000030000001,572.259987,582.940018,130216100,76.196148\\n2012-11-29,590.220024,594.250023,585.249977,589.3599780000001,128674700,77.035301\\n2012-11-30,586.789986,588.400009,582.679985,585.279991,97829900,76.50200600000001\\n2012-12-03,593.650009,594.590004,585.500023,586.190025,91070000,76.620956\\n2012-12-04,581.800018,581.800018,572.129997,575.849976,139267100,75.269408\\n2012-12-05,568.910004,569.2499849999999,538.7699809999999,538.7900089999999,261159500,70.425296\\n2012-12-06,528.9400099999999,553.31002,518.6299740000001,547.239975,294303100,71.529792\\n2012-12-07,553.400009,555.1999969999999,530.000008,533.2500150000001,196760200,69.701163\\n2012-12-10,525.0,538.510002,521.5800019999999,529.819977,157621100,69.252822\\n2012-12-11,539.770004,549.559975,537.370003,541.3900150000001,148086400,70.76514300000001\\n2012-12-12,547.769974,547.999992,536.270004,539.0,121786000,70.452744\\n2012-12-13,531.149994,537.6400219999999,525.800018,529.689987,156314900,69.235831\\n2012-12-14,514.749992,518.12999,505.58000899999996,509.78998600000006,252394800,66.6347\\n2012-12-17,508.92999299999997,519.999992,501.230003,518.829979,189401800,67.81631800000001\\n2012-12-18,525.0,534.899986,520.2499849999999,533.900017,156421300,69.786124\\n2012-12-19,531.470001,533.700012,525.4999849999999,526.3099900000001,112342300,68.794031\\n2012-12-20,530.000008,530.200012,518.8800200000001,521.7300190000001,120422400,68.19538299999999\\n2012-12-21,512.469994,519.6699980000001,510.239983,519.330017,149067100,67.88167800000001\\n2012-12-24,520.350014,524.250023,518.709976,520.169983,43938300,67.99146999999999\\n2012-12-26,519.000023,519.460007,511.12000300000005,512.999992,75609100,67.05428\\n2012-12-27,513.539978,516.25,504.659988,515.060013,113780100,67.323545\\n2012-12-28,510.290024,514.480026,508.11998700000004,509.58998099999997,88569600,66.60855699999999\\n2012-12-31,510.529976,535.400024,509.000008,532.169991,164873100,69.55999200000001\\n2013-01-02,553.819992,554.999992,541.6300200000001,549.029976,140129500,71.763763\\n2013-01-03,547.87999,549.669991,540.999992,542.099991,88241300,70.85794399999999\\n2013-01-04,536.969994,538.630005,525.829979,526.999992,148583400,68.884221\\n2013-01-07,521.9999849999999,529.300018,515.199989,523.900002,121039100,68.479021\\n2013-01-08,529.209976,531.889984,521.250008,525.31002,114676800,68.663325\\n2013-01-09,522.500023,525.009987,515.990021,517.100006,101901100,67.590193\\n2013-01-10,528.549988,528.7199780000001,515.519997,523.509979,150286500,68.42804100000001\\n2013-01-11,521.0000150000001,525.320007,519.019997,520.300026,87626700,68.00846800000001\\n2013-01-14,502.68002300000006,507.5,498.509995,501.750015,183551900,65.583794\\n2013-01-15,498.300003,498.990005,483.37998200000004,485.920013,219193100,63.514653\\n2013-01-16,494.63999900000005,509.44001799999995,492.49997699999994,506.08998099999997,172701200,66.151072\\n2013-01-17,510.30999800000006,510.750008,502.030022,502.68002300000006,113419600,65.70535600000001\\n2013-01-18,498.519981,502.219986,496.399986,500.000015,118230700,65.355052\\n2013-01-22,504.56001299999997,507.87998200000004,496.630005,504.77000400000003,115386600,65.978537\\n2013-01-23,508.80999,514.989998,504.77000400000003,514.010002,215377400,67.186298\\n2013-01-24,460.000008,465.730019,450.249985,450.49997699999994,365213100,58.884896999999995\\n2013-01-25,451.69001799999995,456.229988,434.999996,439.880001,302006600,57.496759\\n2013-01-28,437.82999400000006,453.20999900000004,435.859989,449.830002,196379400,58.797323999999996\\n2013-01-29,458.5,460.200012,452.11998700000004,458.269981,142789500,59.900515000000006\\n2013-01-30,456.999992,462.600014,454.500015,456.830002,104288800,59.712295\\n2013-01-31,456.980019,459.279991,454.98002599999995,455.48999800000007,79833600,59.53714300000001\\n2013-02-01,459.11000099999995,459.47999599999997,448.35002099999997,453.619995,134871100,59.292715\\n2013-02-04,453.909988,455.939995,441.999996,442.320004,119279300,57.815692000000006\\n2013-02-05,444.050003,459.739975,442.22000099999997,457.840012,143336900,59.844313\\n2013-02-06,456.46999400000004,466.50002300000006,452.580025,457.350014,148426600,59.780266000000005\\n2013-02-07,463.250015,470.00002300000006,454.11998,468.220009,176145200,61.557765\\n2013-02-08,474.000008,478.80999800000006,468.25002300000006,474.980003,158289600,62.446514\\n2013-02-11,476.499985,484.94001799999995,473.24997699999994,479.93002300000006,129372600,63.097303000000004\\n2013-02-12,479.509987,482.38001299999996,467.73999800000007,467.900002,152263300,61.515693000000006\\n2013-02-13,467.20999900000004,473.63999900000005,463.22000099999997,467.009995,118801900,61.398681999999994\\n2013-02-14,464.52000400000003,471.640007,464.02002000000005,466.590012,88818800,61.34346600000001\\n2013-02-15,468.849983,470.16002699999996,459.92000599999994,460.16001100000005,97936300,60.498102\\n2013-02-19,461.10000599999995,462.730003,453.850014,459.990021,108945900,60.475753000000005\\n2013-02-20,457.689995,457.689995,448.80001799999997,448.85000599999995,119075600,59.011155\\n2013-02-21,446.000008,449.170013,442.81998799999997,446.060009,111795600,58.644348\\n2013-02-22,449.250015,451.59997599999997,446.59999500000004,450.80999800000006,82663700,59.268838\\n2013-02-25,453.850014,455.12000300000005,442.569996,442.799988,93144800,58.215747\\n2013-02-26,443.820011,451.54000099999996,437.660004,448.970009,125374900,59.026931999999995\\n2013-02-27,448.43002300000006,452.439995,440.65000499999996,444.56998799999997,146837600,58.448453\\n2013-02-28,444.050003,447.87001,441.400009,441.400009,80628800,58.031689\\n2013-03-01,438.00001100000003,438.179989,429.979988,430.470013,138112100,56.594702000000005\\n2013-03-04,427.799992,428.200001,419.000004,420.049988,145688900,55.224762\\n2013-03-05,421.48000700000006,435.18998700000003,420.750004,431.139988,159608400,56.682784999999996\\n2013-03-06,434.50999800000005,435.24998899999997,424.430008,425.659996,115062500,55.96232\\n2013-03-07,424.499996,432.009995,421.05999800000006,430.580002,117118400,56.609163\\n2013-03-08,429.80001100000004,435.42999299999997,428.60999699999996,431.72000099999997,97870500,56.759041\\n2013-03-11,429.749996,439.009995,425.140011,437.869995,118559000,57.567592000000005\\n2013-03-12,435.60000999999994,438.880005,427.57,428.42999299999997,116477900,56.326496999999996\\n2013-03-13,428.44999299999995,434.50001100000003,425.359989,428.349991,101387300,56.315979000000006\\n2013-03-14,432.830013,434.639988,430.450012,432.499992,75968900,56.861587\\n2013-03-15,437.929996,444.23000700000006,437.250008,443.660007,160990200,58.328816\\n2013-03-18,441.449997,457.459976,441.200005,455.720016,151549300,59.914368\\n2013-03-19,459.50002300000006,460.970016,448.499985,454.489975,131693800,59.752652000000005\\n2013-03-20,457.419975,457.63002,449.589996,452.079987,77165200,59.43580600000001\\n2013-03-21,450.220024,457.979988,450.10002099999997,452.729988,95813900,59.521263\\n2013-03-22,454.580017,462.09997599999997,453.11002300000007,461.91001100000005,98776300,60.728178\\n2013-03-25,464.689995,469.94998200000003,461.780022,463.58000899999996,125283900,60.947736\\n2013-03-26,465.440025,465.83998099999997,460.53000599999996,461.140007,73573500,60.626943999999995\\n2013-03-27,456.460007,456.799988,450.72999599999997,452.079987,82809300,59.43580600000001\\n2013-03-28,449.820015,451.82000700000003,441.61998700000004,442.66001100000005,110709900,58.197343999999994\\n2013-04-01,441.89999400000005,443.700008,427.73999000000003,428.910004,97433000,56.389605\\n2013-04-02,427.599987,438.139988,426.400013,429.78999699999997,132379800,56.505299\\n2013-04-03,431.37000700000004,437.27999500000004,430.310009,431.989994,90804000,56.794537\\n2013-04-04,433.759995,434.999996,425.25,427.71999000000005,89611900,56.233152000000004\\n2013-04-05,424.499996,424.94999299999995,419.67999299999997,423.19999299999995,95923800,55.638899\\n2013-04-08,424.849991,427.50001100000003,422.48999000000003,426.209995,75207300,56.03463000000001\\n2013-04-09,426.360012,428.500008,422.749996,426.98,76653500,56.135864\\n2013-04-10,428.099998,437.05999,426.009991,435.689999,93982000,57.280984\\n2013-04-11,433.71999400000004,437.98999800000007,431.19998899999996,434.32999400000006,82091100,57.10218100000001\\n2013-04-12,434.14999000000006,434.14999000000006,429.090008,429.80001100000004,59653300,56.506616\\n2013-04-15,427.0,427.890007,419.550003,419.85000999999994,79380000,55.19846999999999\\n2013-04-16,421.569996,426.610004,420.57,426.240009,76442800,56.038576\\n2013-04-17,420.26999299999994,420.599987,398.10999300000003,402.800007,236264000,52.956875\\n2013-04-18,404.98999,405.790009,389.740002,392.049988,166574800,51.543549\\n2013-04-19,387.97000099999997,399.599987,385.100002,390.530006,152318600,51.343714\\n2013-04-22,392.639988,402.199993,391.26999700000005,398.670006,107480100,52.413895000000004\\n2013-04-23,403.98999399999997,408.380001,398.810009,406.12998999999996,166059600,53.394674\\n2013-04-24,393.540009,415.250011,392.500011,405.459988,242412800,53.306587\\n2013-04-25,411.23,413.939995,406.999996,408.380001,96209400,53.690487\\n2013-04-26,409.809994,418.770012,408.250011,417.199989,191024400,54.850067\\n2013-04-29,420.449997,433.619991,420.0,430.119991,160081600,56.548683999999994\\n2013-04-30,435.099998,445.250004,432.069996,442.779987,172884600,58.21311800000001\\n2013-05-01,444.45999900000004,444.929996,434.389996,439.29000099999996,126727300,57.754282999999994\\n2013-05-02,441.779991,448.58997300000004,440.630005,445.519997,105457100,58.573352\\n2013-05-03,451.30998200000005,453.23002599999995,449.149986,449.980019,90325200,59.159718999999996\\n2013-05-06,455.709976,462.200005,454.30999800000006,460.70998399999996,124160400,60.57040799999999\\n2013-05-07,464.97000099999997,465.749992,453.699997,458.660004,120938300,60.300893\\n2013-05-08,459.03998600000006,465.37001,455.810005,463.83998899999995,118149500,60.981916000000005\\n2013-05-09,459.80999,463.00002300000006,455.579987,456.76997400000005,99621900,60.44989399999999\\n2013-05-10,457.97000099999997,459.71001399999994,450.480003,452.96999400000004,83713000,59.946996\\n2013-05-13,451.509987,457.899986,451.5,454.740021,79237200,60.181245\\n2013-05-14,453.850014,455.200005,442.150013,443.860012,111779500,58.741362\\n2013-05-15,439.16001100000005,441.0,422.36000099999995,428.85000199999996,185403400,56.754906000000005\\n2013-05-16,423.239994,437.84999500000004,418.90000200000003,434.580013,150801000,57.513228000000005\\n2013-05-17,439.049995,440.089993,431.00999800000005,433.26000999999997,106976100,57.338536\\n2013-05-20,431.909992,445.800003,430.099991,442.930004,112894600,58.618283\\n2013-05-21,438.150002,445.47999599999997,434.200005,439.659996,114005500,58.185522999999996\\n2013-05-22,444.050003,448.35002099999997,438.21999000000005,441.34999500000004,110759600,58.409181000000004\\n2013-05-23,435.950005,446.16001100000005,435.79000099999996,442.13999900000005,88255300,58.513732\\n2013-05-24,440.85000999999994,445.66,440.360012,445.150002,69041700,58.912082\\n2013-05-28,449.900017,451.109978,440.85000999999994,441.44001,96536300,58.421094\\n2013-05-29,440.000004,447.49998899999997,439.39999000000006,444.949997,82644100,58.885613\\n2013-05-30,445.650013,454.500015,444.509987,451.580002,88379900,59.763042000000006\\n2013-05-31,452.50002300000006,457.10002099999997,449.500008,449.73002599999995,96075700,59.518212\\n2013-06-03,450.72999599999997,452.359993,442.48000700000006,450.720009,93088100,59.649229000000005\\n2013-06-04,453.219986,454.43,447.38999900000005,449.30999,73182200,59.462624\\n2013-06-05,445.650013,450.720009,443.709995,445.11000099999995,72647400,58.906788\\n2013-06-06,445.470009,447.000004,434.049988,438.459995,104233500,58.026713\\n2013-06-07,436.500004,443.23999800000007,432.770012,441.810005,101133900,58.47006\\n2013-06-10,444.729992,449.080025,436.80001100000004,438.889992,112538300,58.083619999999996\\n2013-06-11,435.740013,442.759987,433.320011,437.60000199999996,71528100,57.9129\\n2013-06-12,439.499992,441.249992,431.499996,432.189999,66306800,57.196928\\n2013-06-13,432.499992,437.139992,428.75,435.959991,71458100,57.695857\\n2013-06-14,435.40000499999996,436.290012,428.500008,430.050003,67966500,56.913717000000005\\n2013-06-17,431.439995,435.700012,430.35999699999996,432.000008,64853600,57.171785\\n2013-06-18,431.55999800000006,434.89999400000005,430.210007,431.76998899999995,48756400,57.141343000000006\\n2013-06-19,431.39999400000005,431.66,422.99998899999997,422.99998899999997,77735000,55.980703000000005\\n2013-06-20,419.300011,425.980003,415.17001,416.840008,89327700,55.165479000000005\\n2013-06-21,418.490005,420.0,408.09999500000004,413.500011,120279600,54.723456000000006\\n2013-06-24,407.40000499999996,408.660007,398.049992,402.54000099999996,120186500,53.272985999999996\\n2013-06-25,405.699993,407.79000099999996,398.83000899999996,402.62998999999996,78540700,53.284895\\n2013-06-26,403.90000499999996,404.790012,395.660004,398.069992,91931000,52.681415\\n2013-06-27,399.249992,401.389988,393.540009,393.779987,84311500,52.113667\\n2013-06-28,391.360012,400.269989,388.869995,396.53001,144629100,52.477610999999996\\n2013-07-01,402.689991,412.26999700000005,401.21999700000003,409.219994,97763400,54.157030000000006\\n2013-07-02,409.960011,421.62999699999995,409.470013,418.490005,117466300,55.383843000000006\\n2013-07-03,420.859993,422.979988,417.450008,420.799992,60232200,55.689551\\n2013-07-05,420.389996,423.290009,415.349987,417.419994,68506200,55.242235\\n2013-07-08,420.109989,420.999996,410.650013,415.050007,74534600,54.928585999999996\\n2013-07-09,413.599987,423.5,410.379993,422.349987,88146100,55.894681000000006\\n2013-07-10,419.599991,424.800003,418.25,420.730003,70351400,55.680289\\n2013-07-11,422.950001,428.24998899999997,421.169987,427.289993,81573100,56.548451\\n2013-07-12,427.650002,429.78999699999997,423.41001100000005,426.51000199999993,69890800,56.445226\\n2013-07-15,425.009995,431.459995,424.800003,427.44001,60479300,56.568305\\n2013-07-16,426.51998899999995,430.709991,424.17000199999995,430.19999299999995,54134500,56.933567000000004\\n2013-07-17,429.700008,432.220013,428.22000099999997,430.310009,49747600,56.948127\\n2013-07-18,433.38001299999996,434.87000700000004,430.609989,431.76000199999993,54719700,57.140021999999995\\n2013-07-19,433.10000599999995,433.98,424.35000599999995,424.94999299999995,67180400,56.23877099999999\\n2013-07-22,429.46000300000003,429.749996,425.47000499999996,426.30999800000006,51949100,56.41875699999999\\n2013-07-23,426.000004,426.95999900000004,418.710011,418.98999,92348900,55.450012\\n2013-07-24,438.92999299999997,444.58998899999995,435.26000199999993,440.51000199999993,147984200,58.298015\\n2013-07-25,440.69999299999995,441.400009,435.810001,438.499996,57373400,58.03200699999999\\n2013-07-26,435.300003,441.04000099999996,434.340008,440.990013,50038100,58.361541\\n2013-07-29,440.799995,449.990005,440.200008,447.790009,62014400,59.261466000000006\\n2013-07-30,449.959991,457.150009,449.229988,453.320015,77355600,59.99331899999999\\n2013-07-31,454.990013,457.33997300000004,449.42999299999997,452.529984,80739400,59.888765\\n2013-08-01,455.74997699999994,456.799988,453.259987,456.679985,51562700,60.437984\\n2013-08-02,458.01000199999993,462.85000599999995,456.66001100000005,462.53998600000006,68695900,61.213508999999995\\n2013-08-05,464.689995,470.669998,462.150017,469.449997,79713900,62.127995\\n2013-08-06,468.02000400000003,471.88999900000005,462.16999100000004,465.250008,83714400,61.572159\\n2013-08-07,463.799988,467.000008,461.769981,464.979988,74714500,61.536424\\n2013-08-08,463.86001600000003,464.10002099999997,457.949974,461.010017,63944300,61.413866000000006\\n2013-08-09,458.63997699999993,460.459991,453.650009,454.449974,66716300,60.539964000000005\\n2013-08-12,456.86001600000003,468.64997900000003,456.62999699999995,467.36001600000003,91108500,62.259787\\n2013-08-13,470.94001799999995,494.66002699999996,468.05001799999997,489.56997699999994,220485300,65.21850699999999\\n2013-08-14,497.88002,504.249992,493.40002400000003,498.500008,189093100,66.408129\\n2013-08-15,496.420013,502.400017,489.079979,497.90998099999996,122573500,66.329528\\n2013-08-16,500.14997900000003,502.94000199999994,498.86001600000003,502.330002,90576500,66.918345\\n2013-08-19,504.33998099999997,513.739983,504.0,507.740005,127629600,67.639044\\n2013-08-20,509.70998399999996,510.56997699999994,500.82000700000003,501.07,89672100,66.750493\\n2013-08-21,503.590004,507.14997900000003,501.19998899999996,502.36001600000003,83969900,66.922344\\n2013-08-22,504.97999599999997,505.589996,498.199974,502.959976,61051900,67.002268\\n2013-08-23,503.269997,503.349998,499.350014,501.020012,55682900,66.74383399999999\\n2013-08-26,500.749992,510.19998200000003,500.5,502.970016,82741400,67.003606\\n2013-08-27,498.00002300000006,502.509979,486.299995,488.58998099999997,106047200,65.087956\\n2013-08-28,486.000015,495.800026,486.000015,490.89999400000005,76902000,65.395687\\n2013-08-29,491.65002400000003,496.500015,491.13001299999996,491.700012,59914400,65.502262\\n2013-08-30,491.999992,492.949974,486.5,487.220016,68074300,64.905455\\n2013-09-03,493.099991,500.59997599999997,487.35000599999995,488.57999400000006,82982200,65.086626\\n2013-09-04,499.560005,502.240013,496.279984,498.690025,86258200,66.43344300000001\\n2013-09-05,500.250008,500.67997699999995,493.63997699999993,495.26997400000005,59091900,65.977837\\n2013-09-06,498.43998,499.379974,489.950012,498.22000099999997,89881400,66.370828\\n2013-09-09,505.00002300000006,507.919983,503.479988,506.169983,85171800,67.42989200000001\\n2013-09-10,506.199997,507.450012,489.500015,494.63999900000005,185798900,65.893915\\n2013-09-11,467.009995,473.68998700000003,464.80999800000006,467.70998399999996,224674100,62.306408\\n2013-09-12,468.500015,475.399986,466.010025,472.69001799999995,101012800,62.969828\\n2013-09-13,469.33998099999997,471.830025,464.69998200000003,464.899986,74708900,61.932072\\n2013-09-16,460.99997699999994,461.609978,447.220009,450.119995,135926700,59.963142000000005\\n2013-09-17,447.95999900000004,459.71001399999994,447.49998899999997,455.32000700000003,99845200,60.655866\\n2013-09-18,463.18,466.35000599999995,460.659996,464.680008,114215500,61.902767000000004\\n2013-09-19,470.700012,475.83000899999996,469.249992,472.299995,101135300,62.917871\\n2013-09-20,477.999992,478.55001799999997,465.999985,467.410004,174825700,62.266445999999995\\n2013-09-23,496.10000599999995,496.91001100000005,482.599991,490.64001500000006,190526700,65.361053\\n2013-09-24,494.880005,495.469978,487.81997699999994,489.10000599999995,91086100,65.1559\\n2013-09-25,489.19998200000003,489.639992,481.42997699999995,481.53000599999996,79239300,64.14745500000001\\n2013-09-26,486.000015,488.56002,483.89999400000005,486.21999400000004,59305400,64.77223599999999\\n2013-09-27,483.779991,484.669998,480.72000099999997,482.750008,57010100,64.309979\\n2013-09-30,477.250015,481.659996,474.410004,476.74997699999994,65039100,63.510679\\n2013-10-01,478.44998899999996,489.140007,478.379974,487.960007,88470900,65.00403399999999\\n2013-10-02,485.63002,491.799988,483.74997699999994,489.55999,72296000,65.217177\\n2013-10-03,490.510025,492.350014,480.739975,483.409996,80688300,64.3979\\n2013-10-04,483.859993,484.599983,478.60000599999995,483.030014,64717100,64.34728\\n2013-10-07,486.559975,492.64999400000005,485.350014,487.750015,78073100,64.97605899999999\\n2013-10-08,489.940025,490.64001500000006,480.540024,480.93998,72729300,64.068854\\n2013-10-09,484.63998399999997,487.79001600000004,478.27999900000003,486.58998899999995,75431300,64.821525\\n2013-10-10,491.31997699999994,492.379974,487.03998600000006,489.639992,69650700,65.227834\\n2013-10-11,486.98999800000007,493.83998099999997,485.159996,492.80999800000006,66934700,65.650129\\n2013-10-14,489.83000899999996,497.579987,489.349998,496.039978,65474500,66.080414\\n2013-10-15,497.510025,502.000008,495.52002000000005,498.679985,80018400,66.432105\\n2013-10-16,500.789993,502.53000599999996,499.23001100000005,501.11000099999995,62775300,66.755822\\n2013-10-17,499.979988,504.779991,499.680008,504.499985,63398300,67.207422\\n2013-10-18,505.990005,509.259987,505.70999900000004,508.889992,72635500,67.79224\\n2013-10-21,511.77000400000003,524.300011,511.520012,521.3600230000001,99526700,69.453447\\n2013-10-22,526.410019,528.450012,508.02999900000003,519.870003,133515900,69.254953\\n2013-10-23,519.000023,525.669975,519.000023,524.959999,78430800,69.933021\\n2013-10-24,525.0,532.470024,522.449982,531.910011,96191200,70.858873\\n2013-10-25,531.319984,533.2299879999999,525.110016,525.960022,84448000,70.06624000000001\\n2013-10-28,529.039986,530.999977,523.209999,529.880005,137610200,70.588444\\n2013-10-29,536.270004,539.249992,514.540001,516.680023,158951800,68.829996\\n2013-10-30,519.6100230000001,527.520004,517.020004,524.900024,88540900,69.925031\\n2013-10-31,525.0,527.48999,521.2699809999999,522.699974,68924100,69.63195\\n2013-11-01,524.020004,524.799995,515.840004,520.030006,68722500,69.276268\\n2013-11-04,521.099991,526.820015,518.8100049999999,526.75,61156900,70.17147800000001\\n2013-11-05,524.580017,528.8900219999999,523.000008,525.4499969999999,66303300,69.998296\\n2013-11-06,524.149994,524.8600230000001,518.200005,520.920013,55843900,69.799983\\n2013-11-07,519.580009,523.190025,512.380005,512.490021,65655100,68.67041800000001\\n2013-11-08,514.5800019999999,521.130005,512.589996,520.5600049999999,69829200,69.751745\\n2013-11-11,519.990005,521.669991,514.410011,519.050011,56863100,69.549415\\n2013-11-12,517.670006,523.919975,516.999977,520.009979,51069200,69.678045\\n2013-11-13,518.0,522.249977,516.959976,520.6300200000001,49305200,69.761126\\n2013-11-14,522.8099900000001,529.279991,521.869995,528.160019,70604800,70.770098\\n2013-11-15,526.580009,529.0899730000001,524.489975,524.990013,79480100,70.345338\\n2013-11-18,524.990013,527.1900099999999,518.200005,518.6299740000001,61236000,69.493133\\n2013-11-19,519.029984,523.37999,517.9699860000001,519.549995,52234700,69.61641\\n2013-11-20,519.2299879999999,520.419975,514.330009,514.9999849999999,48479200,69.006737\\n2013-11-21,517.599991,521.210007,513.670021,521.139992,65506700,69.829459\\n2013-11-22,519.5199809999999,522.159988,518.529999,519.799988,55931400,69.649907\\n2013-11-25,521.019989,525.8699799999999,521.0000150000001,523.739998,57327900,70.177844\\n2013-11-26,524.1199799999999,536.1400150000001,523.999977,533.399979,100345700,71.47222\\n2013-11-27,536.3100049999999,546.0,533.399979,545.959999,90862100,73.155183\\n2013-11-29,549.480026,558.3300019999999,547.809975,556.069977,79531900,74.509856\\n2013-12-02,558.000008,564.329979,550.819977,551.230026,118136200,73.861333\\n2013-12-03,558.299988,566.380013,557.68,566.319984,112742000,75.883292\\n2013-12-04,565.499992,569.1900099999999,560.819992,565.000008,94452400,75.706424\\n2013-12-05,572.650009,575.139999,566.4100269999999,567.899994,111895000,76.095003\\n2013-12-06,565.789986,566.750008,559.569977,560.019974,86088100,75.03913100000001\\n2013-12-09,560.899994,569.579979,560.899994,566.43,80123400,75.898034\\n2013-12-10,563.5800019999999,567.8800200000001,561.199974,565.54998,69567400,75.780116\\n2013-12-11,567.0,570.970024,559.68998,561.3599780000001,89929700,75.218683\\n2013-12-12,562.1400219999999,565.339989,560.0300139999999,560.539986,65572500,75.108809\\n2013-12-13,562.849998,562.880013,553.669975,554.429993,83205500,74.29010799999999\\n2013-12-16,555.02002,562.6400070000001,555.009979,557.500023,70648200,74.701473\\n2013-12-17,555.8099980000001,559.439987,553.379982,554.990005,57475600,74.365147\\n2013-12-18,549.700005,551.450005,538.799995,550.769989,141465800,73.79969100000001\\n2013-12-19,549.5,549.9999849999999,543.7299879999999,544.4599910000001,80077200,72.95419100000001\\n2013-12-20,545.43,551.610008,544.82,549.019989,109103400,73.565202\\n2013-12-23,568.000023,570.7199780000001,562.76001,570.090004,125326600,76.388451\\n2013-12-24,569.889999,571.880005,566.029991,567.669975,41888700,76.06418199999999\\n2013-12-26,568.099998,569.499977,563.379997,563.900009,51002000,75.559031\\n2013-12-27,563.820007,564.4099809999999,559.5000150000001,560.089989,56471100,75.048512\\n2013-12-30,557.460022,560.089989,552.319984,554.5199809999999,63407400,74.302166\\n2013-12-31,554.170013,561.279976,554.000023,561.019997,55771100,75.17312700000001\\n2014-01-02,555.680008,557.029999,552.020004,553.12999,58671200,74.115916\\n2014-01-03,552.8600230000001,553.699989,540.429993,540.9800190000001,98116900,72.487897\\n2014-01-06,537.450005,546.800018,533.599983,543.929993,103152700,72.883175\\n2014-01-07,544.320015,545.959999,537.919975,540.040024,79302300,72.361944\\n2014-01-08,538.809982,545.5599900000001,538.68998,543.460022,64632400,72.820202\\n2014-01-09,546.800018,546.8599929999999,535.349983,536.519997,69787200,71.890282\\n2014-01-10,539.829979,540.799988,531.1099929999999,532.9399950000001,76244000,71.410585\\n2014-01-13,529.910019,542.5,529.880005,535.7300190000001,94623200,71.78443\\n2014-01-14,538.220009,546.730003,537.659996,546.3900219999999,83140400,73.21280300000001\\n2014-01-15,553.5200120000001,560.200005,551.659996,557.3599929999999,97909700,74.68271\\n2014-01-16,554.900017,556.850021,551.680023,554.2500150000001,57319500,74.26599300000001\\n2014-01-17,551.4800190000001,552.069992,539.899994,540.6699980000001,106684900,72.44635600000001\\n2014-01-21,540.990005,550.07,540.420006,549.069977,82131700,73.5719\\n2014-01-22,550.910019,557.289978,547.809975,551.509979,94996300,73.898845\\n2014-01-23,549.9400099999999,556.5,544.810013,556.179993,100809800,74.524597\\n2014-01-24,554.000023,555.6199799999999,544.7499849999999,546.070015,107338700,73.169924\\n2014-01-27,550.07,554.799988,545.750008,550.500023,138719700,73.76351700000001\\n2014-01-28,508.76000199999993,514.9999849999999,502.07002300000005,506.49997699999994,266380800,67.86779\\n2014-01-29,503.950012,507.37001,498.62001,500.749992,125702500,67.097328\\n2014-01-30,502.539993,506.49997699999994,496.70002,499.779984,169625400,66.967353\\n2014-01-31,495.179985,501.529984,493.549988,500.59997599999997,116199300,67.07722700000001\\n2014-02-03,502.610008,507.730019,499.300026,501.529984,100366000,67.201842\\n2014-02-04,505.84997599999997,509.459991,502.760025,508.79001600000004,94170300,68.17464100000001\\n2014-02-05,506.560005,515.279991,506.249985,512.589996,82086200,68.683814\\n2014-02-06,510.060005,513.499977,507.81002,512.509995,64441300,69.084152\\n2014-02-07,521.379997,522.929993,517.380013,519.679985,92570100,70.050636\\n2014-02-10,518.659988,531.990013,518.0,528.989998,86389800,71.305586\\n2014-02-11,530.610008,537.7499849999999,529.500023,535.959984,70564200,72.24511\\n2014-02-12,536.95002,539.560013,533.239975,535.919983,77025200,72.23971800000001\\n2014-02-13,534.6599809999999,544.850014,534.1999969999999,544.429977,76849500,73.386829\\n2014-02-14,542.4699860000001,545.980026,541.209984,543.990021,68231100,73.327525\\n2014-02-18,546.0,551.190025,545.6099780000001,545.990013,65062900,73.597115\\n2014-02-19,544.7499849999999,546.8900070000001,534.350014,537.370003,78442000,72.435175\\n2014-02-20,532.989983,537.000008,528.9999849999999,531.149994,76464500,71.596744\\n2014-02-21,532.789978,534.569992,524.599991,525.249992,69696200,70.801449\\n2014-02-24,523.150024,529.920006,522.420021,527.550018,72227400,71.11148299999999\\n2014-02-25,529.3800200000001,529.569984,521.0000150000001,522.060013,57988000,70.371454\\n2014-02-26,523.610008,525.0,515.599998,517.349998,69054300,69.736564\\n2014-02-27,517.1400070000001,528.780006,516.049995,527.670021,75470500,71.127659\\n2014-02-28,529.079987,532.749977,522.119987,526.239975,92992200,70.934895\\n2014-03-03,523.419991,530.650009,522.8099900000001,527.76001,59695300,71.13978900000001\\n2014-03-04,530.999977,532.6400150000001,527.769997,531.239983,64785000,71.608874\\n2014-03-05,530.919975,534.750023,529.1299740000001,532.360008,50015700,71.759849\\n2014-03-06,532.789978,534.4400019999999,528.099991,530.7499849999999,46372200,71.542825\\n2014-03-07,531.0900190000001,531.980026,526.050011,530.440018,55182400,71.501042\\n2014-03-10,528.3600230000001,533.330017,528.339996,530.919975,44646000,71.56573900000001\\n2014-03-11,535.450012,538.740021,532.5899730000001,536.0899730000001,69806100,72.262632\\n2014-03-12,534.510017,537.349976,532.0,536.6099849999999,49831600,72.332728\\n2014-03-13,537.440018,539.659988,529.159988,530.650009,64435700,71.529348\\n2014-03-14,528.789993,530.8900150000001,523.000008,524.68998,59299800,70.725962\\n2014-03-17,527.699982,529.969994,525.850006,526.740013,49886200,71.002298\\n2014-03-18,525.899994,531.9699860000001,525.200005,531.399986,52411800,71.630442\\n2014-03-19,532.259979,536.23999,528.9999849999999,531.26001,56189000,71.611574\\n2014-03-20,529.889992,532.669975,527.350014,528.700005,52099600,71.26649599999999\\n2014-03-21,531.929985,533.75,526.330017,532.8699799999999,93511600,71.828591\\n2014-03-24,538.420013,540.500008,535.0599900000001,539.190018,88925200,72.68050500000001\\n2014-03-25,541.499977,545.750008,539.5899730000001,544.98999,70573300,73.462316\\n2014-03-26,546.5200120000001,549.0000150000001,538.8600230000001,539.779991,74942000,72.76003100000001\\n2014-03-27,540.019997,541.499977,535.120018,537.4599910000001,55507900,72.447305\\n2014-03-28,538.319984,538.940025,534.2499849999999,536.8599780000001,50141000,72.366426\\n2014-03-31,539.2300190000001,540.809975,535.930023,536.739975,42167300,72.35025\\n2014-04-01,537.760025,541.8700259999999,536.769989,541.649994,50190000,73.01209899999999\\n2014-04-02,542.379997,543.479996,540.260002,542.549988,45105200,73.133415\\n2014-04-03,541.3900150000001,542.5,537.6400219999999,538.7900089999999,40586000,72.62658499999999\\n2014-04-04,539.8100049999999,540.000023,530.579994,531.820023,68812800,71.687061\\n2014-04-07,528.019989,530.900002,521.8900219999999,523.4699780000001,72462600,70.561511\\n2014-04-08,525.190018,526.1200259999999,518.699989,523.440018,60972100,70.557472\\n2014-04-09,522.639999,530.490005,522.0200120000001,530.320015,51542400,71.48486700000001\\n2014-04-10,530.680023,532.240005,523.1699980000001,523.4800190000001,59913000,70.562864\\n2014-04-11,519.000023,522.830017,517.1400070000001,519.6100230000001,67929400,70.041206\\n2014-04-14,521.900009,522.159988,517.210022,521.679977,51418500,70.320227\\n2014-04-15,520.2700120000001,521.6399769999999,511.32999400000006,517.959999,66622500,69.818789\\n2014-04-16,518.049988,521.090004,514.139992,519.01001,53691400,69.960326\\n2014-04-17,519.999992,527.76001,519.199974,524.940025,71083600,70.75966700000001\\n2014-04-21,525.339981,532.1399769999999,523.959976,531.170021,45637200,71.59944399999999\\n2014-04-22,528.309982,531.830009,526.500008,531.70002,50640800,71.670885\\n2014-04-23,529.060013,531.1300200000001,524.449974,524.750008,98735000,70.734053\\n2014-04-24,568.210014,570.0000150000001,560.730003,567.770004,189977900,76.532965\\n2014-04-25,564.529984,571.990021,563.959984,571.93998,97568800,77.09506\\n2014-04-28,572.800026,595.749977,572.54998,594.0900190000001,167371400,80.08079000000001\\n2014-04-29,593.739998,595.979996,589.509995,592.329979,84344400,79.843544\\n2014-04-30,592.639999,599.430008,589.799988,590.089981,114160200,79.541602\\n2014-05-01,591.9999849999999,594.799995,586.360016,591.480026,61012000,79.728974\\n2014-05-02,592.3400190000001,594.199982,589.709999,592.580025,47878600,79.877249\\n2014-05-05,590.1400219999999,600.999977,589.999992,600.959976,71766800,81.006831\\n2014-05-06,601.799995,604.409988,594.4100269999999,594.4100269999999,93641100,80.123926\\n2014-05-07,595.249992,597.289986,587.72998,592.329979,70716100,79.843544\\n2014-05-08,588.249992,594.4100269999999,586.400017,587.990013,57574300,79.701223\\n2014-05-09,584.540001,586.25,580.330025,585.540024,72899400,79.36913100000001\\n2014-05-12,587.489975,593.659996,587.399986,592.830017,53302200,80.357279\\n2014-05-13,591.9999849999999,594.540016,590.699982,593.760025,39934300,80.48334\\n2014-05-14,592.430008,597.400002,591.740005,593.869987,41601000,80.498245\\n2014-05-15,594.70002,596.599983,588.040001,588.819992,57711500,79.813726\\n2014-05-16,588.6299740000001,597.529991,585.399994,597.510017,69064100,80.991646\\n2014-05-19,597.849998,607.3300019999999,597.329987,604.5900190000001,79438800,81.95133100000001\\n2014-05-20,604.510017,606.399994,600.730011,604.710022,58709000,81.967597\\n2014-05-21,603.8300019999999,606.699974,602.059975,606.3100049999999,49214900,82.184472\\n2014-05-22,606.599998,609.850006,604.100021,607.269974,50190000,82.314595\\n2014-05-23,607.25,614.730011,606.470009,614.129997,58052400,83.244461\\n2014-05-27,615.879997,625.8599849999999,615.630005,625.6300200000001,87216500,84.803273\\n2014-05-28,626.019989,629.830009,623.779991,624.01001,78870400,84.583683\\n2014-05-29,627.849991,636.87001,627.769989,635.37999,94118500,86.124868\\n2014-05-30,637.979996,644.169991,628.900002,633.0000150000001,141005200,85.802266\\n2014-06-02,633.959984,634.830017,622.5000150000001,628.650009,92337700,85.212629\\n2014-06-03,628.4599910000001,638.740013,628.25,637.539986,73177300,86.417653\\n2014-06-04,637.4400099999999,647.8900219999999,636.1099929999999,644.819992,83870500,87.40444699999999\\n2014-06-05,646.1999969999999,649.370003,642.610008,647.349983,75951400,87.747384\\n2014-06-06,649.900002,651.259979,644.470024,645.570023,87484600,87.506113\\n2014-06-09,92.699997,93.879997,91.75,93.699997,75415000,88.906324\\n2014-06-10,94.730003,95.050003,93.57,94.25,62777000,89.428189\\n2014-06-11,94.129997,94.760002,93.470001,93.860001,45681000,89.058142\\n2014-06-12,94.040001,94.120003,91.900002,92.290001,54749000,87.568463\\n2014-06-13,92.199997,92.440002,90.879997,91.279999,54525000,86.610132\\n2014-06-16,91.510002,92.75,91.449997,92.199997,35561000,87.483064\\n2014-06-17,92.309998,92.699997,91.800003,92.08000200000001,29726000,87.36920699999999\\n2014-06-18,92.269997,92.290001,91.349998,92.18,33514000,87.46409\\n2014-06-19,92.290001,92.300003,91.339996,91.860001,35528000,87.160461\\n2014-06-20,91.849998,92.550003,90.900002,90.910004,100898000,86.259066\\n2014-06-23,91.32,91.620003,90.599998,90.83000200000001,43694000,86.183157\\n2014-06-24,90.75,91.739998,90.190002,90.279999,39036000,85.661292\\n2014-06-25,90.209999,90.699997,89.650002,90.360001,36869000,85.737201\\n2014-06-26,90.370003,91.050003,89.800003,90.900002,32629000,86.249576\\n2014-06-27,90.82,92.0,90.769997,91.980003,64029000,87.274325\\n2014-06-30,92.099998,93.730003,92.089996,92.93,49482300,88.17572\\n2014-07-01,93.519997,94.07,93.129997,93.519997,38223000,88.73553199999999\\n2014-07-02,93.870003,94.059998,93.089996,93.480003,28465000,88.697585\\n2014-07-03,93.66999799999999,94.099998,93.199997,94.029999,22891800,89.219443\\n2014-07-07,94.139999,95.989998,94.099998,95.970001,56468000,91.060195\\n2014-07-08,96.269997,96.800003,93.91999799999999,95.349998,65222000,90.471912\\n2014-07-09,95.440002,95.949997,94.760002,95.389999,36436000,90.509866\\n2014-07-10,93.760002,95.550003,93.519997,95.040001,39686000,90.177774\\n2014-07-11,95.360001,95.889999,94.860001,95.220001,34018000,90.34856500000001\\n2014-07-14,95.860001,96.889999,95.650002,96.449997,42810000,91.51563399999999\\n2014-07-15,96.800003,96.849998,95.029999,95.32,45477900,90.443448\\n2014-07-16,96.970001,97.099998,94.739998,94.779999,53396300,89.931073\\n2014-07-17,95.029999,95.279999,92.57,93.089996,57298000,88.32753100000001\\n2014-07-18,93.620003,94.739998,93.019997,94.43,49988000,89.59898000000001\\n2014-07-21,94.989998,95.0,93.720001,93.940002,39079000,89.134051\\n2014-07-22,94.68,94.889999,94.120003,94.720001,55197000,89.874145\\n2014-07-23,95.41999799999999,97.879997,95.16999799999999,97.190002,92918000,92.217781\\n2014-07-24,97.040001,97.32,96.41999799999999,97.029999,45729000,92.06596400000001\\n2014-07-25,96.849998,97.839996,96.639999,97.66999799999999,43469000,92.673221\\n2014-07-28,97.82,99.239998,97.550003,99.019997,55318000,93.954154\\n2014-07-29,99.33000200000001,99.440002,98.25,98.379997,43143000,93.346896\\n2014-07-30,98.440002,98.699997,97.66999799999999,98.150002,33010000,93.12866700000001\\n2014-07-31,97.160004,97.449997,95.33000200000001,95.599998,56843000,90.709122\\n2014-08-01,94.900002,96.620003,94.809998,96.129997,48511000,91.212006\\n2014-08-04,96.370003,96.58000200000001,95.16999799999999,95.589996,39958000,90.69963100000001\\n2014-08-05,95.360001,95.68,94.360001,95.120003,55933000,90.253683\\n2014-08-06,94.75,95.480003,94.709999,94.959999,38558000,90.101865\\n2014-08-07,94.93,95.949997,94.099998,94.480003,46711000,90.09233499999999\\n2014-08-08,94.260002,94.82,93.279999,94.739998,41865000,90.340255\\n2014-08-11,95.269997,96.08000200000001,94.839996,95.989998,36585000,91.532205\\n2014-08-12,96.040001,96.879997,95.610001,95.970001,33795000,91.513137\\n2014-08-13,96.150002,97.239998,96.040001,97.239998,31916000,92.724154\\n2014-08-14,97.33000200000001,97.57,96.800003,97.5,28116000,92.972082\\n2014-08-15,97.900002,98.190002,96.860001,97.980003,48951000,93.429794\\n2014-08-18,98.489998,99.370003,97.980003,99.160004,47572000,94.55499499999999\\n2014-08-19,99.410004,100.68,99.32,100.529999,69399000,95.861367\\n2014-08-20,100.440002,101.089996,99.949997,100.57,52699000,95.89950999999999\\n2014-08-21,100.57,100.940002,100.110001,100.58000200000001,33478000,95.909048\\n2014-08-22,100.290001,101.470001,100.190002,101.32,44184000,96.61468\\n2014-08-25,101.790001,102.16999799999999,101.279999,101.540001,40270000,96.824465\\n2014-08-26,101.41999799999999,101.5,100.860001,100.889999,33152000,96.204649\\n2014-08-27,101.019997,102.57,100.699997,102.129997,52369000,97.387061\\n2014-08-28,101.589996,102.779999,101.559998,102.25,68460000,97.501491\\n2014-08-29,102.860001,102.900002,102.199997,102.5,44595000,97.73988100000001\\n2014-09-02,103.059998,103.739998,102.720001,103.300003,53564000,98.502732\\n2014-09-03,103.099998,103.199997,98.58000200000001,98.940002,125421000,94.34521099999999\\n2014-09-04,98.849998,100.089996,97.790001,98.120003,85718000,93.563292\\n2014-09-05,98.800003,99.389999,98.309998,98.970001,58457000,94.373816\\n2014-09-08,99.300003,99.309998,98.050003,98.360001,46356700,93.792144\\n2014-09-09,99.08000200000001,103.08000200000001,96.139999,97.989998,189846300,93.439324\\n2014-09-10,98.010002,101.110001,97.760002,101.0,100869600,96.30954100000001\\n2014-09-11,100.410004,101.440002,99.620003,101.43,62353100,96.719572\\n2014-09-12,101.209999,102.190002,101.08000200000001,101.660004,62626100,96.93889399999999\\n2014-09-15,102.809998,103.050003,101.440002,101.629997,61316500,96.91028100000001\\n2014-09-16,99.800003,101.260002,98.889999,100.860001,66908100,96.17604399999999\\n2014-09-17,101.269997,101.800003,100.589996,101.58000200000001,60926500,96.862608\\n2014-09-18,101.93,102.349998,101.559998,101.790001,37299400,97.062855\\n2014-09-19,102.290001,102.349998,100.5,100.959999,70902400,96.271398\\n2014-09-22,101.800003,102.139999,100.58000200000001,101.059998,52788400,96.366753\\n2014-09-23,100.599998,102.940002,100.540001,102.639999,63402200,97.873379\\n2014-09-24,102.160004,102.849998,101.199997,101.75,60171800,97.024711\\n2014-09-25,100.510002,100.709999,97.720001,97.870003,100092000,93.32490200000001\\n2014-09-26,98.529999,100.75,98.400002,100.75,62370500,96.071151\\n2014-09-29,98.650002,100.440002,98.629997,100.110001,49766300,95.460874\\n2014-09-30,100.809998,101.540001,100.529999,100.75,55264100,96.071151\\n2014-10-01,100.589996,100.690002,98.699997,99.18,51491300,94.574063\\n2014-10-02,99.269997,100.220001,98.040001,99.900002,47757800,95.260627\\n2014-10-03,99.440002,100.209999,99.040001,99.620003,43469600,94.99363100000001\\n2014-10-06,99.949997,100.650002,99.41999799999999,99.620003,37051200,94.99363100000001\\n2014-10-07,99.43,100.120003,98.730003,98.75,42094200,94.16403199999999\\n2014-10-08,98.760002,101.110001,98.309998,100.800003,57404700,96.118832\\n2014-10-09,101.540001,102.379997,100.610001,101.019997,77376500,96.328609\\n2014-10-10,100.690002,102.029999,100.300003,100.730003,66331600,96.052083\\n2014-10-13,101.33000200000001,101.779999,99.809998,99.809998,53583400,95.174803\\n2014-10-14,100.389999,100.519997,98.57,98.75,63688600,94.16403199999999\\n2014-10-15,97.970001,99.150002,95.18,97.540001,100933600,93.010225\\n2014-10-16,95.550003,97.720001,95.410004,96.260002,72154500,91.78967\\n2014-10-17,97.5,99.0,96.809998,97.66999799999999,68179700,93.134185\\n2014-10-20,98.32,99.959999,98.220001,99.760002,77517300,95.12712900000001\\n2014-10-21,103.019997,103.019997,101.269997,102.470001,94623900,97.711275\\n2014-10-22,102.839996,104.110001,102.599998,102.989998,68263100,98.207123\\n2014-10-23,104.08000200000001,105.050003,103.629997,104.83000200000001,71074700,99.96167700000001\\n2014-10-24,105.18,105.489998,104.529999,105.220001,47053900,100.33356500000001\\n2014-10-27,104.849998,105.480003,104.699997,105.110001,34187700,100.228673\\n2014-10-28,105.400002,106.739998,105.349998,106.739998,48060900,101.782973\\n2014-10-29,106.650002,107.370003,106.360001,107.339996,52687900,102.35510699999999\\n2014-10-30,106.959999,107.349998,105.900002,106.980003,40654800,102.011832\\n2014-10-31,108.010002,108.040001,107.209999,108.0,44639300,102.98446\\n2014-11-03,108.220001,110.300003,108.010002,109.400002,52282600,104.319445\\n2014-11-04,109.360001,109.489998,107.720001,108.599998,41574400,103.556595\\n2014-11-05,109.099998,109.300003,108.129997,108.860001,37435900,103.80452199999999\\n2014-11-06,108.599998,108.790001,107.800003,108.699997,34968500,104.101405\\n2014-11-07,108.75,109.32,108.550003,109.010002,33691500,104.398296\\n2014-11-10,109.019997,109.33000200000001,108.66999799999999,108.83000200000001,27195500,104.22591\\n2014-11-11,108.699997,109.75,108.400002,109.699997,27442300,105.0591\\n2014-11-12,109.379997,111.43,109.370003,111.25,46942400,106.54353\\n2014-11-13,111.800003,113.449997,111.599998,112.82,59522900,108.04711\\n2014-11-14,113.150002,114.190002,111.209999,114.18,44063600,109.349575\\n2014-11-17,114.269997,117.279999,113.300003,113.989998,46746700,109.16761100000001\\n2014-11-18,113.940002,115.690002,113.889999,115.470001,44224000,110.585002\\n2014-11-19,115.440002,115.739998,113.800003,114.66999799999999,41869200,109.818844\\n2014-11-20,114.910004,116.860001,114.849998,116.309998,43395500,111.38946200000001\\n2014-11-21,117.510002,117.57,116.029999,116.470001,57179300,111.542697\\n2014-11-24,116.849998,118.769997,116.620003,118.629997,47450800,113.611314\\n2014-11-25,119.07,119.75,117.449997,117.599998,68840400,112.624889\\n2014-11-26,117.940002,119.099998,117.83000200000001,119.0,40768300,113.96566299999999\\n2014-11-28,119.269997,119.400002,118.050003,118.93,24814400,113.898625\\n2014-12-01,118.809998,119.25,111.269997,115.07,83814000,110.201923\\n2014-12-02,113.5,115.75,112.75,114.629997,59348900,109.78053500000001\\n2014-12-03,115.75,116.349998,115.110001,115.93,43063400,111.02554099999999\\n2014-12-04,115.769997,117.199997,115.290001,115.489998,42044500,110.604153\\n2014-12-05,115.989998,116.08000200000001,114.639999,115.0,38318900,110.13488500000001\\n2014-12-08,114.099998,114.650002,111.620003,112.400002,57664900,107.64488\\n2014-12-09,110.190002,114.300003,109.349998,114.120003,60208000,109.292116\\n2014-12-10,114.410004,114.849998,111.540001,111.949997,44565300,107.21391299999999\\n2014-12-11,112.260002,113.800003,111.339996,111.620003,41401700,106.897879\\n2014-12-12,110.459999,111.870003,109.58000200000001,109.730003,56028100,105.08783700000001\\n2014-12-15,110.699997,111.599998,106.349998,108.230003,67218100,103.65129499999999\\n2014-12-16,106.370003,110.160004,106.260002,106.75,60790700,102.23390400000001\\n2014-12-17,107.120003,109.839996,106.82,109.410004,53411800,104.781375\\n2014-12-18,111.870003,112.650002,110.660004,112.650002,59006200,107.884304\\n2014-12-19,112.260002,113.239998,111.660004,111.779999,88429800,107.051107\\n2014-12-22,112.160004,113.489998,111.970001,112.940002,45167500,108.16203600000001\\n2014-12-23,113.230003,113.33000200000001,112.459999,112.540001,26028400,107.778957\\n2014-12-24,112.58000200000001,112.709999,112.010002,112.010002,14479600,107.27138000000001\\n2014-12-26,112.099998,114.519997,112.010002,113.989998,33721000,109.16761100000001\\n2014-12-29,113.790001,114.769997,113.699997,113.910004,27598900,109.091001\\n2014-12-30,113.639999,113.91999799999999,112.110001,112.519997,29881500,107.759799\\n2014-12-31,112.82,113.129997,110.209999,110.379997,41403400,105.710333\\n2015-01-02,111.389999,111.440002,107.349998,109.33000200000001,53204600,104.704758\\n2015-01-05,108.290001,108.650002,105.410004,106.25,64285500,101.755057\\n2015-01-06,106.540001,107.43,104.629997,106.260002,65797100,101.764636\\n2015-01-07,107.199997,108.199997,106.699997,107.75,40105900,103.191599\\n2015-01-08,109.230003,112.150002,108.699997,111.889999,59364500,107.15645400000001\\n2015-01-09,112.66999799999999,113.25,110.209999,112.010002,53699500,107.27138000000001\\n2015-01-12,112.599998,112.629997,108.800003,109.25,49650800,104.62814\\n2015-01-13,111.43,112.800003,108.910004,110.220001,67091900,105.557105\\n2015-01-14,109.040001,110.489998,108.5,109.800003,48337000,105.154875\\n2015-01-15,110.0,110.059998,106.660004,106.82,60014000,102.300942\\n2015-01-16,107.029999,107.58000200000001,105.199997,105.989998,78513300,101.506054\\n2015-01-20,107.839996,108.970001,106.5,108.720001,49899900,104.120563\\n2015-01-21,108.949997,111.059998,108.269997,109.550003,48575900,104.915452\\n2015-01-22,110.260002,112.470001,109.720001,112.400002,53796400,107.64488\\n2015-01-23,112.300003,113.75,111.529999,112.980003,46464800,108.200345\\n2015-01-26,113.739998,114.360001,112.800003,113.099998,55615000,108.31526299999999\\n2015-01-27,112.41999799999999,112.480003,109.029999,109.139999,95568700,104.52279300000001\\n2015-01-28,117.629997,118.120003,115.309998,115.309998,146477100,110.43176799999999\\n2015-01-29,116.32,119.190002,115.559998,118.900002,84436400,113.869895\\n2015-01-30,118.400002,120.0,116.849998,117.160004,83745500,112.20350900000001\\n2015-02-02,118.050003,119.16999799999999,116.08000200000001,118.629997,62739100,113.611314\\n2015-02-03,118.5,119.089996,117.610001,118.650002,51915700,113.630472\\n2015-02-04,118.5,120.510002,118.309998,119.559998,70149700,114.50197\\n2015-02-05,120.019997,120.230003,119.25,119.940002,42246200,115.319223\\n2015-02-06,120.019997,120.25,118.449997,118.93,43706600,114.348132\\n2015-02-09,118.550003,119.839996,118.43,119.720001,38889800,115.107697\\n2015-02-10,120.16999799999999,122.150002,120.160004,122.019997,62008500,117.319084\\n2015-02-11,122.769997,124.91999799999999,122.5,124.879997,73561800,120.0689\\n2015-02-12,126.059998,127.480003,125.57,126.459999,74474500,121.588031\\n2015-02-13,127.279999,127.279999,125.650002,127.08000200000001,54272200,122.184148\\n2015-02-17,127.489998,128.880005,126.91999799999999,127.83000200000001,63152400,122.905254\\n2015-02-18,127.629997,128.779999,127.449997,128.720001,44891700,123.76096499999998\\n2015-02-19,128.479996,129.029999,128.330002,128.449997,37362400,123.50136299999998\\n2015-02-20,128.619995,129.5,128.050003,129.5,48948400,124.51091399999999\\n2015-02-23,130.020004,133.0,129.66000400000001,133.0,70974100,127.876074\\n2015-02-24,132.940002,133.600006,131.169998,132.169998,69228100,127.078049\\n2015-02-25,131.559998,131.600006,128.149994,128.78999299999998,74711700,123.82826100000001\\n2015-02-26,128.78999299999998,130.869995,126.610001,130.419998,91287500,125.39546899999999\\n2015-02-27,130.0,130.570007,128.240005,128.46000700000002,62014800,123.51098700000001\\n2015-03-02,129.25,130.279999,128.300003,129.08999599999999,48096700,124.11670600000001\\n2015-03-03,128.96000700000002,129.520004,128.08999599999999,129.360001,37816300,124.37630800000001\\n2015-03-04,129.100006,129.559998,128.320007,128.53999299999998,31666300,123.587892\\n2015-03-05,128.580002,128.75,125.760002,126.410004,56517100,121.53996200000002\\n2015-03-06,128.399994,129.369995,126.260002,126.599998,72842100,121.722637\\n2015-03-09,127.959999,129.570007,125.059998,127.139999,88528500,122.24183400000001\\n2015-03-10,126.410004,127.220001,123.800003,124.510002,68856600,119.71316000000002\\n2015-03-11,124.75,124.769997,122.110001,122.239998,68939000,117.53060900000001\\n2015-03-12,122.309998,124.900002,121.629997,124.449997,48362700,119.65546599999999\\n2015-03-13,124.400002,125.400002,122.58000200000001,123.589996,51827300,118.828598\\n2015-03-16,123.879997,124.949997,122.870003,124.949997,35874300,120.13620300000001\\n2015-03-17,125.900002,127.32,125.650002,127.040001,51023100,122.14568799999999\\n2015-03-18,127.0,129.16000400000001,126.370003,128.470001,65270900,123.520597\\n2015-03-19,128.75,129.25,127.400002,127.5,45809500,122.587966\\n2015-03-20,128.25,128.399994,125.160004,125.900002,68695100,121.049608\\n2015-03-23,127.120003,127.849998,126.519997,127.209999,37709700,122.309137\\n2015-03-24,127.230003,128.03999299999998,126.559998,126.690002,32842300,121.809174\\n2015-03-25,126.540001,126.82,123.379997,123.379997,51655200,118.62668899999998\\n2015-03-26,122.760002,124.879997,122.599998,124.239998,47572900,119.453558\\n2015-03-27,124.57,124.699997,122.910004,123.25,39546200,118.5017\\n2015-03-30,124.050003,126.400002,124.0,126.370003,47099700,121.501502\\n2015-03-31,126.089996,126.489998,124.360001,124.43,42090600,119.63623999999999\\n2015-04-01,124.82,125.120003,123.099998,124.25,40621400,119.463174\\n2015-04-02,125.029999,125.559998,124.190002,125.32,32220100,120.491951\\n2015-04-06,124.470001,127.510002,124.33000200000001,127.349998,37194000,122.443743\\n2015-04-07,127.639999,128.119995,125.980003,126.010002,35012300,121.155371\\n2015-04-08,125.849998,126.400002,124.970001,125.599998,37329200,120.76116299999998\\n2015-04-09,125.849998,126.58000200000001,124.660004,126.559998,32484000,121.684177\\n2015-04-10,125.949997,127.209999,125.260002,127.099998,40188000,122.203374\\n2015-04-13,128.369995,128.570007,126.610001,126.849998,36365100,121.96300600000001\\n2015-04-14,127.0,127.290001,125.910004,126.300003,25524600,121.43419899999999\\n2015-04-15,126.410004,127.129997,126.010002,126.779999,28970400,121.895703\\n2015-04-16,126.279999,127.099998,126.110001,126.16999799999999,28369000,121.309203\\n2015-04-17,125.550003,126.139999,124.459999,124.75,51957000,119.94391100000001\\n2015-04-20,125.57,128.119995,125.16999799999999,127.599998,47054300,122.68411200000001\\n2015-04-21,128.100006,128.199997,126.66999799999999,126.910004,32435100,122.020699\\n2015-04-22,126.989998,128.869995,126.32,128.619995,37654500,123.66481200000001\\n2015-04-23,128.300003,130.419998,128.139999,129.669998,45770900,124.67436299999999\\n2015-04-24,130.490005,130.630005,129.229996,130.279999,44525900,125.26086299999999\\n2015-04-27,132.309998,133.130005,131.149994,132.649994,96954200,127.539552\\n2015-04-28,134.46000700000002,134.53999299999998,129.570007,130.559998,118924000,125.530074\\n2015-04-29,130.16000400000001,131.58999599999999,128.300003,128.639999,63386100,123.684046\\n2015-04-30,128.639999,128.639999,124.58000200000001,125.150002,83195400,120.328503\\n2015-05-01,126.099998,130.130005,125.300003,128.949997,58512600,123.9821\\n2015-05-04,129.5,130.570007,128.259995,128.699997,50988300,123.74173200000001\\n2015-05-05,128.149994,128.449997,125.779999,125.800003,49271400,120.95346200000002\\n2015-05-06,126.559998,126.75,123.360001,125.010002,72141000,120.19389699999999\\n2015-05-07,124.769997,126.08000200000001,124.019997,125.260002,43940900,120.93733\\n2015-05-08,126.68,127.620003,126.110001,127.620003,55550400,123.21588799999999\\n2015-05-11,127.389999,127.559998,125.629997,126.32,42035800,121.960747\\n2015-05-12,125.599998,126.879997,124.82,125.870003,48160000,121.526279\\n2015-05-13,126.150002,127.190002,125.870003,126.010002,34694200,121.661447\\n2015-05-14,127.410004,128.949997,127.160004,128.949997,45203500,124.49998400000001\\n2015-05-15,129.070007,129.490005,128.21000700000002,128.770004,38208000,124.326203\\n2015-05-18,128.380005,130.720001,128.360001,130.190002,50882900,125.697198\\n2015-05-19,130.690002,130.880005,129.639999,130.070007,44633200,125.581344\\n2015-05-20,130.0,130.979996,129.33999599999999,130.059998,36454900,125.571679\\n2015-05-21,130.070007,131.630005,129.830002,131.389999,39730400,126.855783\\n2015-05-22,131.600006,132.970001,131.399994,132.53999299999998,45596000,127.96609099999999\\n2015-05-26,132.600006,132.91000400000001,129.119995,129.619995,70697600,125.14686100000002\\n2015-05-27,130.33999599999999,132.259995,130.050003,132.03999299999998,45833200,127.483346\\n2015-05-28,131.860001,131.949997,131.100006,131.779999,30733300,127.232324\\n2015-05-29,131.229996,131.449997,129.899994,130.279999,50884500,125.78408799999998\\n2015-06-01,130.279999,131.389999,130.050003,130.53999299999998,32112800,126.03511\\n2015-06-02,129.860001,130.66000400000001,129.320007,129.96000700000002,33667600,125.47513899999998\\n2015-06-03,130.66000400000001,130.940002,129.899994,130.119995,30889400,125.62960600000001\\n2015-06-04,129.580002,130.580002,128.91000400000001,129.360001,38450100,124.895839\\n2015-06-05,129.5,129.690002,128.360001,128.649994,35626800,124.210334\\n2015-06-08,128.899994,129.21000700000002,126.83000200000001,127.800003,52674800,123.389676\\n2015-06-09,126.699997,128.080002,125.620003,127.41999799999999,56075400,123.02278500000001\\n2015-06-10,127.91999799999999,129.33999599999999,127.849998,128.880005,39087300,124.43240800000001\\n2015-06-11,129.179993,130.179993,128.479996,128.58999599999999,35390900,124.15240700000001\\n2015-06-12,128.190002,128.330002,127.110001,127.16999799999999,36886200,122.78141299999999\\n2015-06-15,126.099998,127.239998,125.709999,126.91999799999999,43988900,122.54003999999999\\n2015-06-16,127.029999,127.849998,126.370003,127.599998,31494100,123.196574\\n2015-06-17,127.720001,127.879997,126.739998,127.300003,32918100,122.906931\\n2015-06-18,127.230003,128.309998,127.220001,127.879997,35407200,123.46691000000001\\n2015-06-19,127.709999,127.82,126.400002,126.599998,54716900,122.23108300000001\\n2015-06-22,127.489998,128.059998,127.08000200000001,127.610001,34039300,123.206231\\n2015-06-23,127.480003,127.610001,126.879997,127.029999,30268900,122.646244\\n2015-06-24,127.209999,129.800003,127.120003,128.110001,55280900,123.688976\\n2015-06-25,128.860001,129.199997,127.5,127.5,31938100,123.100026\\n2015-06-26,127.66999799999999,127.989998,126.510002,126.75,44066800,122.37590800000001\\n2015-06-29,125.459999,126.470001,124.480003,124.529999,49161400,120.232518\\n2015-06-30,125.57,126.120003,124.860001,125.43,44370700,121.10146100000001\\n2015-07-01,126.900002,126.940002,125.989998,126.599998,30238800,122.23108300000001\\n2015-07-02,126.43,126.690002,125.769997,126.440002,27211000,122.076609\\n2015-07-06,124.940002,126.230003,124.849998,126.0,28060400,121.65178999999999\\n2015-07-07,125.889999,126.150002,123.769997,125.690002,46946800,121.35249099999999\\n2015-07-08,124.480003,124.639999,122.540001,122.57,60761600,118.340158\\n2015-07-09,123.849998,124.059998,119.220001,120.07,77821600,115.926432\\n2015-07-10,121.940002,123.849998,121.209999,123.279999,61354500,119.025655\\n2015-07-13,125.029999,125.760002,124.32,125.660004,41440500,121.323527\\n2015-07-14,126.040001,126.370003,125.040001,125.610001,31768100,121.27525\\n2015-07-15,125.720001,127.150002,125.58000200000001,126.82,33649200,122.44349199999999\\n2015-07-16,127.739998,128.570007,127.349998,128.509995,36222400,124.075166\\n2015-07-17,129.080002,129.619995,128.309998,129.619995,46164700,125.14686100000002\\n2015-07-20,130.970001,132.970001,130.699997,132.070007,58900200,127.51232399999999\\n2015-07-21,132.850006,132.919998,130.320007,130.75,76756400,126.23787\\n2015-07-22,121.989998,125.5,121.989998,125.220001,115450600,120.89870900000001\\n2015-07-23,126.199997,127.089996,125.059998,125.160004,50999500,120.840782\\n2015-07-24,125.32,125.739998,123.900002,124.5,42162300,120.20355500000001\\n2015-07-27,123.089996,123.610001,122.120003,122.769997,44455500,118.533253\\n2015-07-28,123.379997,123.910004,122.550003,123.379997,33618100,119.122203\\n2015-07-29,123.150002,123.5,122.269997,122.989998,37011700,118.74566200000001\\n2015-07-30,122.32,122.57,121.709999,122.370003,33628300,118.14706299999999\\n2015-07-31,122.599998,122.639999,120.910004,121.300003,42885000,117.11398899999999\\n2015-08-03,121.5,122.57,117.519997,118.440002,69976000,114.35268500000001\\n2015-08-04,117.41999799999999,117.699997,113.25,114.639999,124138600,110.683819\\n2015-08-05,112.949997,117.440002,112.099998,115.400002,99312600,111.417594\\n2015-08-06,115.970001,116.5,114.120003,115.129997,52903000,111.66005\\n2015-08-07,114.58000200000001,116.25,114.5,115.519997,38670400,112.03829499999999\\n2015-08-10,116.529999,119.989998,116.529999,119.720001,54951600,116.11171399999999\\n2015-08-11,117.809998,118.18,113.33000200000001,113.489998,97082800,110.069479\\n2015-08-12,112.529999,115.41999799999999,109.629997,115.239998,101217500,111.76673500000001\\n2015-08-13,116.040001,116.400002,114.540001,115.150002,48535800,111.679451\\n2015-08-14,114.32,116.309998,114.010002,115.959999,42929500,112.46503600000001\\n2015-08-17,116.040001,117.650002,115.5,117.160004,40884700,113.628873\\n2015-08-18,116.43,117.440002,116.010002,116.5,34560700,112.98876100000001\\n2015-08-19,116.099998,116.519997,114.68,115.010002,47445700,111.543671\\n2015-08-20,114.08000200000001,114.349998,111.629997,112.650002,68501600,109.2548\\n2015-08-21,110.43,111.900002,105.650002,105.760002,128275500,102.572461\\n2015-08-24,94.870003,108.800003,92.0,103.120003,162206300,100.012029\\n2015-08-25,111.110001,111.110001,103.5,103.739998,103601600,100.613338\\n2015-08-26,107.089996,109.889999,105.050003,109.690002,96774600,106.38401299999998\\n2015-08-27,112.230003,113.239998,110.019997,112.91999799999999,84616100,109.516659\\n2015-08-28,112.16999799999999,113.309998,111.540001,113.290001,53164400,109.87551\\n2015-08-31,112.029999,114.529999,112.0,112.760002,56229300,109.36148500000002\\n2015-09-01,110.150002,111.879997,107.360001,107.720001,76845900,104.473386\\n2015-09-02,110.230003,112.339996,109.129997,112.339996,61888800,108.95413799999999\\n2015-09-03,112.489998,112.779999,110.040001,110.370003,53233900,107.04351899999999\\n2015-09-04,108.970001,110.449997,108.510002,109.269997,49996300,105.976666\\n2015-09-08,111.75,112.559998,110.32,112.309998,54843600,108.92504299999999\\n2015-09-09,113.760002,114.019997,109.769997,110.150002,85010800,106.830148\\n2015-09-10,110.269997,113.279999,109.900002,112.57,62892800,109.177209\\n2015-09-11,111.790001,114.209999,111.760002,114.209999,49915500,110.76778\\n2015-09-14,116.58000200000001,116.889999,114.860001,115.309998,58363400,111.834625\\n2015-09-15,115.93,116.529999,114.41999799999999,116.279999,43341200,112.77539099999998\\n2015-09-16,116.25,116.540001,115.440002,116.410004,37173500,112.901478\\n2015-09-17,115.660004,116.489998,113.720001,113.91999799999999,64112600,110.486519\\n2015-09-18,112.209999,114.300003,111.870003,113.449997,74285300,110.03068400000001\\n2015-09-21,113.66999799999999,115.370003,113.660004,115.209999,50222000,111.73763999999998\\n2015-09-22,113.379997,114.18,112.519997,113.400002,50346200,109.98219499999999\\n2015-09-23,113.629997,114.720001,113.300003,114.32,35756700,110.87446499999999\\n2015-09-24,113.25,115.5,112.370003,115.0,50219500,111.533971\\n2015-09-25,116.440002,116.690002,114.019997,114.709999,56151900,111.25271000000001\\n2015-09-28,113.849998,114.57,112.440002,112.440002,52109000,109.05113\\n2015-09-29,112.83000200000001,113.510002,107.860001,109.059998,73365400,105.77299599999999\\n2015-09-30,110.16999799999999,111.540001,108.730003,110.300003,66473000,106.975629\\n2015-10-01,109.07,109.620003,107.309998,109.58000200000001,63929100,106.277328\\n2015-10-02,108.010002,111.010002,107.550003,110.379997,58019800,107.05321200000002\\n2015-10-05,109.879997,111.370003,109.07,110.779999,52064700,107.441158\\n2015-10-06,110.629997,111.739998,109.769997,111.309998,48196800,107.955183\\n2015-10-07,111.739998,111.769997,109.410004,110.779999,46765600,107.441158\\n2015-10-08,110.190002,110.190002,108.209999,109.5,61979600,106.19973700000001\\n2015-10-09,110.0,112.279999,109.489998,112.120003,52766100,108.740775\\n2015-10-12,112.730003,112.75,111.440002,111.599998,30467200,108.236443\\n2015-10-13,110.82,112.449997,110.68,111.790001,33049300,108.42071899999999\\n2015-10-14,111.290001,111.519997,109.559998,110.209999,44462400,106.888337\\n2015-10-15,110.93,112.099998,110.489998,111.860001,37673500,108.48860900000001\\n2015-10-16,111.779999,112.0,110.529999,111.040001,39232600,107.69332299999999\\n2015-10-19,110.800003,111.75,110.110001,111.730003,29759200,108.36253\\n2015-10-20,111.339996,114.16999799999999,110.82,113.769997,48778800,110.341039\\n2015-10-21,114.0,115.58000200000001,113.699997,113.760002,41795200,110.331345\\n2015-10-22,114.33000200000001,115.5,114.099998,115.5,41654100,112.018901\\n2015-10-23,116.699997,119.230003,116.33000200000001,119.08000200000001,59366900,115.491004\\n2015-10-26,118.08000200000001,118.129997,114.91999799999999,115.279999,66333800,111.80553\\n2015-10-27,115.400002,116.540001,113.989998,114.550003,69884400,111.097536\\n2015-10-28,116.93,119.300003,116.059998,119.269997,85551400,115.67527199999999\\n2015-10-29,118.699997,120.690002,118.269997,120.529999,51227300,116.897299\\n2015-10-30,120.989998,121.220001,119.449997,119.5,49365300,115.898343\\n2015-11-02,120.800003,121.360001,119.610001,121.18,32203300,117.527709\\n2015-11-03,120.790001,123.489998,120.699997,122.57,45519000,118.87581499999999\\n2015-11-04,123.129997,123.82,121.620003,122.0,44886100,118.32299499999999\\n2015-11-05,121.849998,122.690002,120.18,120.91999799999999,39552700,117.777553\\n2015-11-06,121.110001,121.809998,120.620003,121.059998,33042300,117.91391399999999\\n2015-11-09,120.959999,121.809998,120.050003,120.57,33871400,117.43665\\n2015-11-10,116.900002,118.07,116.059998,116.769997,59127900,113.735401\\n2015-11-11,116.370003,117.41999799999999,115.209999,116.110001,45218000,113.09255700000001\\n2015-11-12,116.260002,116.82,115.650002,115.720001,32525600,112.71269299999999\\n2015-11-13,115.199997,115.57,112.269997,112.339996,45812400,109.420527\\n2015-11-16,111.379997,114.239998,111.0,114.18,38106700,111.212713\\n2015-11-17,114.91999799999999,115.050003,113.32,113.690002,27616900,110.735449\\n2015-11-18,115.760002,117.489998,115.5,117.290001,46674700,114.241891\\n2015-11-19,117.639999,119.75,116.760002,118.779999,43295800,115.69316699999999\\n2015-11-20,119.199997,119.91999799999999,118.849998,119.300003,34287100,116.19965800000001\\n2015-11-23,119.269997,119.730003,117.339996,117.75,32482500,114.68993600000002\\n2015-11-24,117.33000200000001,119.349998,117.120003,118.879997,42803200,115.790567\\n2015-11-25,119.209999,119.230003,117.91999799999999,118.029999,21388300,114.962658\\n2015-11-27,118.290001,118.410004,117.599998,117.809998,13046400,114.748374\\n2015-11-30,117.989998,119.410004,117.75,118.300003,39180300,115.225646\\n2015-12-01,118.75,118.809998,116.860001,117.339996,34852400,114.29058799999999\\n2015-12-02,117.339996,118.110001,116.08000200000001,116.279999,33386600,113.258137\\n2015-12-03,116.550003,116.790001,114.220001,115.199997,41569500,112.206202\\n2015-12-04,115.290001,119.25,115.110001,119.029999,57777000,115.93667099999999\\n2015-12-07,118.980003,119.860001,117.809998,118.279999,32084200,115.20616100000001\\n2015-12-08,117.519997,118.599998,116.860001,118.230003,34309500,115.15746499999999\\n2015-12-09,117.639999,117.690002,115.08000200000001,115.620003,46361400,112.615293\\n2015-12-10,116.040001,116.940002,115.510002,116.16999799999999,29104200,113.150995\\n2015-12-11,115.190002,115.389999,112.849998,113.18,46886200,110.238701\\n2015-12-14,112.18,112.68,109.790001,112.480003,64318700,109.556895\\n2015-12-15,111.940002,112.800003,110.349998,110.489998,53323100,107.618605\\n2015-12-16,111.07,111.989998,108.800003,111.339996,56238500,108.446514\\n2015-12-17,112.019997,112.25,108.980003,108.980003,44772800,106.147852\\n2015-12-18,108.910004,109.519997,105.809998,106.029999,96453300,103.274512\\n2015-12-21,107.279999,107.370003,105.57,107.33000200000001,47590600,104.54073100000001\\n2015-12-22,107.400002,107.720001,106.449997,107.230003,32789400,104.443331\\n2015-12-23,107.269997,108.849998,107.199997,108.610001,32657400,105.787465\\n2015-12-24,109.0,109.0,107.949997,108.029999,13570400,105.222536\\n2015-12-28,107.589996,107.690002,106.18,106.82,26704200,104.043982\\n2015-12-29,106.959999,109.43,106.860001,108.739998,30931200,105.914084\\n2015-12-30,108.58000200000001,108.699997,107.18,107.32,25213800,104.530989\\n2015-12-31,107.010002,107.029999,104.82,105.260002,40635300,102.524526\\n2016-01-04,102.610001,105.370003,102.0,105.349998,67649400,102.612183\\n2016-01-05,105.75,105.849998,102.410004,102.709999,55791000,100.04079200000001\\n2016-01-06,100.559998,102.370003,99.870003,100.699997,68457400,98.083025\\n2016-01-07,98.68,100.129997,96.43,96.449997,81094400,93.943473\\n2016-01-08,98.550003,99.110001,96.760002,96.959999,70798000,94.44022199999999\\n2016-01-11,98.970001,99.059998,97.339996,98.529999,49739400,95.96942\\n2016-01-12,100.550003,100.690002,98.839996,99.959999,49154200,97.362258\\n2016-01-13,100.32,101.190002,97.300003,97.389999,62439600,94.859047\\n2016-01-14,97.959999,100.480003,95.739998,99.519997,63170100,96.93369\\n2016-01-15,96.199997,97.709999,95.360001,97.129997,79010000,94.605802\\n2016-01-19,98.410004,98.650002,95.5,96.660004,53087700,94.148022\\n2016-01-20,95.099998,98.190002,93.41999799999999,96.790001,72334400,94.274641\\n2016-01-21,97.059998,97.879997,94.940002,96.300003,52161500,93.797377\\n2016-01-22,98.629997,101.459999,98.370003,101.41999799999999,65800500,98.784315\\n2016-01-25,101.519997,101.529999,99.209999,99.440002,51794500,96.855775\\n2016-01-26,99.93,100.879997,98.07,99.989998,75077000,97.39147700000001\\n2016-01-27,96.040001,96.629997,93.339996,93.41999799999999,133369700,90.99221800000001\\n2016-01-28,93.790001,94.519997,92.389999,94.089996,55678800,91.64480400000001\\n2016-01-29,94.790001,97.339996,94.349998,97.339996,64416500,94.810344\\n2016-02-01,96.470001,96.709999,95.400002,96.43,40943500,93.923996\\n2016-02-02,95.41999799999999,96.040001,94.279999,94.480003,37357200,92.024676\\n2016-02-03,95.0,96.839996,94.08000200000001,96.349998,45964300,93.846074\\n2016-02-04,95.860001,97.33000200000001,95.190002,96.599998,46471700,94.600127\\n2016-02-05,96.519997,96.91999799999999,93.690002,94.019997,46418100,92.073538\\n2016-02-08,93.129997,95.699997,93.040001,95.010002,54021400,93.043048\\n2016-02-09,94.290001,95.940002,93.93,94.989998,44331200,93.02345799999999\\n2016-02-10,95.91999799999999,96.349998,94.099998,94.269997,42343600,92.318363\\n2016-02-11,93.790001,94.720001,92.589996,93.699997,50074700,91.760163\\n2016-02-12,94.190002,94.5,93.010002,93.989998,40351400,92.04415999999999\\n2016-02-16,95.019997,96.849998,94.610001,96.639999,49057900,94.6393\\n2016-02-17,96.66999799999999,98.209999,96.150002,98.120003,44863200,96.088664\\n2016-02-18,98.839996,98.889999,96.089996,96.260002,39021000,94.26717\\n2016-02-19,96.0,96.760002,95.800003,96.040001,35374200,94.051723\\n2016-02-22,96.309998,96.900002,95.91999799999999,96.879997,34280800,94.874329\\n2016-02-23,96.400002,96.5,94.550003,94.690002,31942600,92.72967299999999\\n2016-02-24,93.980003,96.379997,93.32,96.099998,36255700,94.110479\\n2016-02-25,96.050003,96.760002,95.25,96.760002,27582700,94.75681800000001\\n2016-02-26,97.199997,98.019997,96.58000200000001,96.910004,28991100,94.903715\\n2016-02-29,96.860001,98.230003,96.650002,96.690002,35216300,94.68826800000001\\n2016-03-01,97.650002,100.769997,97.41999799999999,100.529999,50407100,98.448766\\n2016-03-02,100.510002,100.889999,99.639999,100.75,33169600,98.664213\\n2016-03-03,100.58000200000001,101.709999,100.449997,101.5,36955700,99.398686\\n2016-03-04,102.370003,103.75,101.370003,103.010002,46055100,100.877427\\n2016-03-07,102.389999,102.83000200000001,100.959999,101.870003,35828900,99.76102900000001\\n2016-03-08,100.779999,101.760002,100.400002,101.029999,31561900,98.938415\\n2016-03-09,101.309998,101.58000200000001,100.269997,101.120003,27201700,99.026556\\n2016-03-10,101.410004,102.239998,100.150002,101.16999799999999,33513600,99.07551600000001\\n2016-03-11,102.239998,102.279999,101.5,102.260002,27408200,100.142954\\n2016-03-14,101.910004,102.910004,101.779999,102.519997,25076100,100.397566\\n2016-03-15,103.959999,105.18,103.849998,104.58000200000001,40067700,102.414924\\n2016-03-16,104.610001,106.309998,104.589996,105.970001,38303500,103.776147\\n2016-03-17,105.519997,106.470001,104.959999,105.800003,34420700,103.609668\\n2016-03-18,106.339996,106.5,105.190002,105.91999799999999,44205200,103.727179\\n2016-03-21,105.93,107.650002,105.139999,105.910004,35502700,103.717391\\n2016-03-22,105.25,107.290001,105.209999,106.720001,32444400,104.51061999999999\\n2016-03-23,106.480003,107.07,105.900002,106.129997,25703500,103.93283000000001\\n2016-03-24,105.470001,106.25,104.889999,105.66999799999999,26133000,103.482354\\n2016-03-28,106.0,106.190002,105.059998,105.190002,19411400,103.01229599999999\\n2016-03-29,104.889999,107.790001,104.879997,107.68,31190100,105.450744\\n2016-03-30,108.650002,110.41999799999999,108.599998,109.559998,45601100,107.291821\\n2016-03-31,109.720001,109.900002,108.879997,108.989998,25888400,106.733621\\n2016-04-01,108.779999,110.0,108.199997,109.989998,25874000,107.712919\\n2016-04-04,110.41999799999999,112.190002,110.269997,111.120003,37356200,108.81953\\n2016-04-05,109.510002,110.730003,109.41999799999999,109.809998,26578700,107.536645\\n2016-04-06,110.230003,110.980003,109.199997,110.959999,26404100,108.66283899999999\\n2016-04-07,109.949997,110.41999799999999,108.120003,108.540001,31801900,106.29294099999998\\n2016-04-08,108.910004,109.769997,108.16999799999999,108.660004,23581700,106.410459\\n2016-04-11,108.970001,110.610001,108.83000200000001,109.019997,29407500,106.762999\\n2016-04-12,109.339996,110.5,108.660004,110.440002,27232300,108.15360700000001\\n2016-04-13,110.800003,112.339996,110.800003,112.040001,33257300,109.720482\\n2016-04-14,111.620003,112.389999,111.33000200000001,112.099998,25473900,109.77923700000001\\n2016-04-15,112.110001,112.300003,109.730003,109.849998,46939000,107.575818\\n2016-04-18,108.889999,108.949997,106.940002,107.480003,60834000,105.254888\\n2016-04-19,107.879997,108.0,106.230003,106.910004,32384900,104.696689\\n2016-04-20,106.639999,108.089996,106.059998,107.129997,30611000,104.91212800000001\\n2016-04-21,106.93,106.93,105.519997,105.970001,31552500,103.776147\\n2016-04-22,105.010002,106.480003,104.620003,105.68,33683100,103.492149\\n2016-04-25,105.0,105.650002,104.510002,105.08000200000001,28031600,102.904573\\n2016-04-26,103.910004,105.300003,103.910004,104.349998,56016200,102.18968199999999\\n2016-04-27,96.0,98.709999,95.68,97.82,114602100,95.794871\\n2016-04-28,97.610001,97.879997,94.25,94.83000200000001,82242700,92.86677399999999\\n2016-04-29,93.989998,94.720001,92.510002,93.739998,68531500,91.799336\\n2016-05-02,93.970001,94.08000200000001,92.400002,93.639999,48160100,91.701408\\n2016-05-03,94.199997,95.739998,93.68,95.18,56831300,93.20952700000001\\n2016-05-04,95.199997,95.900002,93.82,94.190002,41025500,92.240024\\n2016-05-05,94.0,94.07,92.68,93.239998,35890500,91.865625\\n2016-05-06,93.370003,93.449997,91.849998,92.720001,43458200,91.35329300000001\\n2016-05-09,93.0,93.769997,92.589996,92.790001,32936400,91.42226099999999\\n2016-05-10,93.33000200000001,93.57,92.110001,93.41999799999999,33686800,92.04297199999999\\n2016-05-11,93.480003,93.57,92.459999,92.510002,28719100,91.146389\\n2016-05-12,92.720001,92.779999,89.470001,90.339996,76314700,89.00837\\n2016-05-13,90.0,91.66999799999999,90.0,90.519997,44392800,89.18571700000001\\n2016-05-16,92.389999,94.389999,91.650002,93.879997,61259800,92.49619\\n2016-05-17,94.550003,94.699997,93.010002,93.489998,46916900,92.111939\\n2016-05-18,94.160004,95.209999,93.889999,94.559998,42062400,93.166167\\n2016-05-19,94.639999,94.639999,93.57,94.199997,30442100,92.81147299999999\\n2016-05-20,94.639999,95.43,94.519997,95.220001,32026000,93.81644200000001\\n2016-05-23,95.870003,97.190002,95.66999799999999,96.43,38018600,95.008606\\n2016-05-24,97.220001,98.089996,96.839996,97.900002,35140200,96.456939\\n2016-05-25,98.66999799999999,99.739998,98.110001,99.620003,38168800,98.151587\\n2016-05-26,99.68,100.730003,98.639999,100.410004,56331200,98.92994300000001\\n2016-05-27,99.440002,100.470001,99.25,100.349998,36229500,98.870823\\n2016-05-31,99.599998,100.400002,98.82,99.860001,42307200,98.388047\\n2016-06-01,99.019997,99.540001,98.33000200000001,98.459999,29173300,97.008682\\n2016-06-02,97.599998,97.839996,96.629997,97.720001,40191600,96.27959200000001\\n2016-06-03,97.790001,98.269997,97.449997,97.91999799999999,28062900,96.476641\\n2016-06-06,97.989998,101.889999,97.550003,98.629997,23292500,97.176174\\n2016-06-07,99.25,99.870003,98.959999,99.029999,22409500,97.57028000000001\\n2016-06-08,99.019997,99.559998,98.68,98.940002,20848100,97.48161\\n2016-06-09,98.5,99.989998,98.459999,99.650002,26601400,98.18114399999999\\n2016-06-10,98.529999,99.349998,98.480003,98.83000200000001,31712900,97.373231\\n2016-06-13,98.690002,99.120003,97.099998,97.339996,38020500,95.905188\\n2016-06-14,97.32,98.480003,96.75,97.459999,31931900,96.023422\\n2016-06-15,97.82,98.410004,97.029999,97.139999,29445200,95.708139\\n2016-06-16,96.449997,97.75,96.07,97.550003,31326800,96.1121\\n2016-06-17,96.620003,96.650002,95.300003,95.33000200000001,61008200,93.924821\\n2016-06-20,96.0,96.57,95.029999,95.099998,34411900,93.698208\\n2016-06-21,94.940002,96.349998,94.68,95.910004,35546400,94.496274\\n2016-06-22,96.25,96.889999,95.349998,95.550003,29219100,94.14158\\n2016-06-23,95.940002,96.290001,95.25,96.099998,32240200,94.683468\\n2016-06-24,92.910004,94.660004,92.650002,93.400002,75311400,92.02327\\n2016-06-27,93.0,93.050003,91.5,92.040001,45489600,90.683316\\n2016-06-28,92.900002,93.660004,92.139999,93.589996,40444900,92.210464\\n2016-06-29,93.970001,94.550003,93.629997,94.400002,36531000,93.00853000000001\\n2016-06-30,94.440002,95.769997,94.300003,95.599998,35836400,94.190838\\n2016-07-01,95.489998,96.470001,95.33000200000001,95.889999,26026500,94.47656500000001\\n2016-07-05,95.389999,95.400002,94.459999,94.989998,27705200,93.58982900000001\\n2016-07-06,94.599998,95.660004,94.370003,95.529999,30949100,94.12187\\n2016-07-07,95.699997,96.5,95.620003,95.940002,25139600,94.52583100000001\\n2016-07-08,96.489998,96.889999,96.050003,96.68,28912100,95.254921\\n2016-07-11,96.75,97.650002,96.730003,96.980003,23794900,95.55050200000001\\n2016-07-12,97.16999799999999,97.699997,97.120003,97.41999799999999,24167500,95.984011\\n2016-07-13,97.410004,97.66999799999999,96.839996,96.870003,25892200,95.442123\\n2016-07-14,97.389999,98.989998,97.32,98.790001,38919000,97.33381999999999\\n2016-07-15,98.91999799999999,99.300003,98.5,98.779999,30137000,97.323965\\n2016-07-18,98.699997,100.129997,98.599998,99.83000200000001,36493900,98.358491\\n2016-07-19,99.559998,100.0,99.339996,99.870003,23779900,98.397902\\n2016-07-20,100.0,100.459999,99.739998,99.959999,26276000,98.486572\\n2016-07-21,99.83000200000001,101.0,99.129997,99.43,32702000,97.964385\\n2016-07-22,99.260002,99.300003,98.309998,98.660004,28313700,97.20573900000001\\n2016-07-25,98.25,98.839996,96.91999799999999,97.339996,40382900,95.905188\\n2016-07-26,96.82,97.970001,96.41999799999999,96.66999799999999,56239800,95.24506600000001\\n2016-07-27,104.269997,104.349998,102.75,102.949997,92344800,101.432497\\n2016-07-28,102.83000200000001,104.449997,102.82,104.339996,39869800,102.80200699999999\\n2016-07-29,104.190002,104.550003,103.68,104.209999,27733700,102.673926\\n2016-08-01,104.410004,106.150002,104.410004,106.050003,38167900,104.486808\\n2016-08-02,106.050003,106.07,104.0,104.480003,33816600,102.93995\\n2016-08-03,104.809998,105.839996,104.769997,105.790001,30202600,104.230638\\n2016-08-04,105.58000200000001,106.0,105.279999,105.870003,27408700,104.874527\\n2016-08-05,106.269997,107.650002,106.18,107.480003,40553400,106.46938899999999\\n2016-08-08,107.519997,108.370003,107.160004,108.370003,28037200,107.35101999999999\\n2016-08-09,108.230003,108.940002,108.010002,108.809998,26315200,107.786878\\n2016-08-10,108.709999,108.900002,107.760002,108.0,24008500,106.984496\\n2016-08-11,108.519997,108.93,107.849998,107.93,27484500,106.915155\\n2016-08-12,107.779999,108.440002,107.779999,108.18,18660400,107.16280400000001\\n2016-08-15,108.139999,109.540001,108.08000200000001,109.480003,25868200,108.450584\\n2016-08-16,109.629997,110.230003,109.209999,109.379997,33794400,108.351518\\n2016-08-17,109.099998,109.370003,108.339996,109.220001,25356000,108.193026\\n2016-08-18,109.230003,109.599998,109.019997,109.08000200000001,21984700,108.05434299999999\\n2016-08-19,108.769997,109.690002,108.360001,109.360001,25368100,108.331709\\n2016-08-22,108.860001,109.099998,107.849998,108.510002,25820200,107.489703\\n2016-08-23,108.589996,109.32,108.529999,108.849998,21257700,107.826502\\n2016-08-24,108.57,108.75,107.68,108.029999,23675100,107.01421299999998\\n2016-08-25,107.389999,107.879997,106.68,107.57,25086200,106.558539\\n2016-08-26,107.410004,107.949997,106.309998,106.940002,27766300,105.93446599999999\\n2016-08-29,106.620003,107.440002,106.290001,106.82,24970300,105.815591\\n2016-08-30,105.800003,106.5,105.5,106.0,24863900,105.003302\\n2016-08-31,105.660004,106.57,105.639999,106.099998,29662400,105.10236\\n2016-09-01,106.139999,106.800003,105.620003,106.730003,26701500,105.726441\\n2016-09-02,107.699997,108.0,106.82,107.730003,26802500,106.71703799999999\\n2016-09-06,107.900002,108.300003,107.510002,107.699997,26880400,106.68731399999999\\n2016-09-07,107.83000200000001,108.760002,107.07,108.360001,42364300,107.34111200000001\\n2016-09-08,107.25,107.269997,105.239998,105.519997,53002000,104.527812\\n2016-09-09,104.639999,105.720001,103.129997,103.129997,46557000,102.160285\\n2016-09-12,102.650002,105.720001,102.529999,105.440002,45292800,104.44856999999999\\n2016-09-13,107.510002,108.790001,107.239998,107.949997,62176200,106.93496299999998\\n2016-09-14,108.730003,113.029999,108.599998,111.769997,110888700,110.719044\\n2016-09-15,113.860001,115.730003,113.489998,115.57,89983600,114.483317\\n2016-09-16,115.120003,116.129997,114.040001,114.91999799999999,79886900,113.839427\\n2016-09-19,115.190002,116.18,113.25,113.58000200000001,47023000,112.51203000000001\\n2016-09-20,113.050003,114.120003,112.510002,113.57,34514300,112.502122\\n2016-09-21,113.849998,113.989998,112.440002,113.550003,36003200,112.48231399999999\\n2016-09-22,114.349998,114.940002,114.0,114.620003,31074000,113.542252\\n2016-09-23,114.41999799999999,114.790001,111.550003,112.709999,52481200,111.650208\\n2016-09-26,111.639999,113.389999,111.550003,112.879997,29869400,111.81860800000001\\n2016-09-27,113.0,113.18,112.339996,113.089996,24607400,112.026632\\n2016-09-28,113.690002,114.639999,113.43,113.949997,29641100,112.878547\\n2016-09-29,113.160004,113.800003,111.800003,112.18,35887000,111.125193\\n2016-09-30,112.459999,113.370003,111.800003,113.050003,36379100,111.98701499999999\\n2016-10-03,112.709999,113.050003,112.279999,112.519997,21701800,111.461992\\n2016-10-04,113.059998,114.309998,112.629997,113.0,29736800,111.937482\\n2016-10-05,113.400002,113.660004,112.690002,113.050003,21453100,111.98701499999999\\n2016-10-06,113.699997,114.339996,113.129997,113.889999,28779300,112.81911299999999\\n2016-10-07,114.309998,114.559998,113.510002,114.059998,24358400,112.98751299999999\\n2016-10-10,115.019997,116.75,114.720001,116.050003,36236000,114.95880700000001\\n2016-10-11,117.699997,118.690002,116.199997,116.300003,64041000,115.206456\\n2016-10-12,117.349998,117.980003,116.75,117.339996,37586800,116.23666999999999\\n2016-10-13,116.790001,117.440002,115.720001,116.980003,35192400,115.88006200000001\\n2016-10-14,117.879997,118.16999799999999,117.129997,117.629997,35652200,116.523945\\n2016-10-17,117.33000200000001,117.839996,116.779999,117.550003,23624900,116.444703\\n2016-10-18,118.18,118.209999,117.449997,117.470001,24553500,116.365453\\n2016-10-19,117.25,117.760002,113.800003,117.120003,20034600,116.018745\\n2016-10-20,116.860001,117.379997,116.33000200000001,117.059998,24125800,115.959304\\n2016-10-21,116.809998,116.910004,116.279999,116.599998,23192700,115.503631\\n2016-10-24,117.099998,117.739998,117.0,117.650002,23538700,116.543761\\n2016-10-25,117.949997,118.360001,117.309998,118.25,48129000,117.13811799999999\\n2016-10-26,114.309998,115.699997,113.309998,115.589996,66134200,114.503125\\n2016-10-27,115.389999,115.860001,114.099998,114.480003,34562000,113.40356899999999\\n2016-10-28,113.870003,115.209999,113.449997,113.720001,37861700,112.65071299999998\\n2016-10-31,113.650002,114.230003,113.199997,113.540001,26419400,112.472406\\n2016-11-01,113.459999,113.769997,110.529999,111.489998,43825800,110.441678\\n2016-11-02,111.400002,112.349998,111.230003,111.589996,28331700,110.54073700000001\\n2016-11-03,110.980003,111.459999,109.550003,109.83000200000001,26932600,109.35588\\n2016-11-04,108.529999,110.25,108.110001,108.839996,30837000,108.370149\\n2016-11-07,110.08000200000001,110.510002,109.459999,110.410004,32560000,109.933378\\n2016-11-08,110.309998,111.720001,109.699997,111.059998,24054500,110.58056599999999\\n2016-11-09,109.879997,111.32,108.050003,110.879997,59176400,110.401343\\n2016-11-10,111.089996,111.089996,105.83000200000001,107.790001,57134500,107.32468600000001\\n2016-11-11,107.120003,108.870003,106.550003,108.43,34143900,107.961922\\n2016-11-14,107.709999,107.809998,104.08000200000001,105.709999,51175500,105.25366299999999\\n2016-11-15,106.57,107.68,106.160004,107.110001,32264500,106.647621\\n2016-11-16,106.699997,110.230003,106.599998,109.989998,58840500,109.51518600000001\\n2016-11-17,109.809998,110.349998,108.83000200000001,109.949997,27632000,109.47535800000001\\n2016-11-18,109.720001,110.540001,109.660004,110.059998,28428900,109.584883\\n2016-11-21,110.120003,111.989998,110.010002,111.730003,29264600,111.24768\\n2016-11-22,111.949997,112.41999799999999,111.400002,111.800003,25965500,111.31737700000001\\n2016-11-23,111.360001,111.510002,110.33000200000001,111.230003,27426400,110.74983799999998\\n2016-11-25,111.129997,111.870003,110.949997,111.790001,11475900,111.307418\\n2016-11-28,111.43,112.470001,111.389999,111.57,27194000,111.08836699999999\\n2016-11-29,110.779999,112.029999,110.07,111.459999,28528800,110.97884099999999\\n2016-11-30,111.599998,112.199997,110.269997,110.519997,36162300,110.042897\\n2016-12-01,110.370003,110.940002,109.029999,109.489998,37086900,109.017344\\n2016-12-02,109.16999799999999,110.089996,108.849998,109.900002,26528000,109.425578\\n2016-12-05,110.0,110.029999,108.25,109.110001,34324500,108.63898700000001\\n2016-12-06,109.5,110.360001,109.190002,109.949997,26195500,109.47535800000001\\n2016-12-07,109.260002,111.190002,109.160004,111.029999,29998700,110.550697\\n2016-12-08,110.860001,112.43,110.599998,112.120003,27068300,111.63599599999999\\n2016-12-09,112.309998,114.699997,112.309998,113.949997,34402600,113.45808999999998\\n2016-12-12,113.290001,115.0,112.489998,113.300003,26374400,112.810902\\n2016-12-13,113.839996,115.91999799999999,113.75,115.190002,43733800,114.692743\\n2016-12-14,115.040001,116.199997,114.980003,115.190002,34031800,114.692743\\n2016-12-15,115.379997,116.730003,115.230003,115.82,46524500,115.32002\\n2016-12-16,116.470001,116.5,115.650002,115.970001,44351100,115.469374\\n2016-12-19,115.800003,117.379997,115.75,116.639999,27779400,116.13648\\n2016-12-20,116.739998,117.5,116.68,116.949997,21425000,116.44513899999998\\n2016-12-21,116.800003,117.400002,116.779999,117.059998,23783200,116.55466499999999\\n2016-12-22,116.349998,116.510002,115.639999,116.290001,26085900,115.787993\\n2016-12-23,115.589996,116.519997,115.589996,116.519997,14249500,116.016995\\n2016-12-27,116.519997,117.800003,116.489998,117.260002,18296900,116.75380600000001\\n2016-12-28,117.519997,118.019997,116.199997,116.760002,20905900,116.25596499999999\\n2016-12-29,116.449997,117.110001,116.400002,116.730003,15039500,116.226096\\n2016-12-30,116.650002,117.199997,115.43,115.82,30586300,115.32002\\n'}"
            ]
          },
          "metadata": {},
          "execution_count": 94
        }
      ]
    },
    {
      "cell_type": "code",
      "execution_count": 95,
      "metadata": {
        "collapsed": true,
        "id": "eg_R-mvAcEwM",
        "outputId": "5bdbf6c0-a52a-48ad-f1cc-54ecb8a6d24c",
        "colab": {
          "base_uri": "https://localhost:8080/"
        }
      },
      "outputs": [
        {
          "output_type": "stream",
          "name": "stdout",
          "text": [
            "+----------+------------------+------------------+------------------+------------------+---------+------------------+\n",
            "|Date      |Open              |High              |Low               |Close             |Volume   |Adj Close         |\n",
            "+----------+------------------+------------------+------------------+------------------+---------+------------------+\n",
            "|2010-01-04|213.429998        |214.499996        |212.38000099999996|214.009998        |123432400|27.727039         |\n",
            "|2010-01-05|214.599998        |215.589994        |213.249994        |214.379993        |150476200|27.774976000000002|\n",
            "|2010-01-06|214.379993        |215.23            |210.750004        |210.969995        |138040000|27.333178000000004|\n",
            "|2010-01-07|211.75            |212.000006        |209.050005        |210.58            |119282800|27.28265          |\n",
            "|2010-01-08|210.299994        |212.000006        |209.06000500000002|211.98000499999998|111902700|27.464034         |\n",
            "|2010-01-11|212.79999700000002|213.000002        |208.450005        |210.11000299999998|115557400|27.221758         |\n",
            "|2010-01-12|209.18999499999998|209.76999500000002|206.419998        |207.720001        |148614900|26.91211          |\n",
            "|2010-01-13|207.870005        |210.92999500000002|204.099998        |210.650002        |151473000|27.29172          |\n",
            "|2010-01-14|210.11000299999998|210.45999700000002|209.020004        |209.43            |108223500|27.133657         |\n",
            "|2010-01-15|210.92999500000002|211.59999700000003|205.869999        |205.93            |148516900|26.680197999999997|\n",
            "|2010-01-19|208.330002        |215.18999900000003|207.240004        |215.039995        |182501900|27.860484999999997|\n",
            "|2010-01-20|214.910006        |215.549994        |209.500002        |211.73            |153038200|27.431644         |\n",
            "|2010-01-21|212.079994        |213.30999599999998|207.210003        |208.069996        |152038600|26.957455         |\n",
            "|2010-01-22|206.78000600000001|207.499996        |197.16            |197.75            |220441900|25.620401         |\n",
            "|2010-01-25|202.51000200000001|204.699999        |200.190002        |203.070002        |266424900|26.309658000000002|\n",
            "|2010-01-26|205.95000100000001|213.710005        |202.580004        |205.940001        |466777500|26.681494         |\n",
            "|2010-01-27|206.849995        |210.58            |199.530001        |207.880005        |430642100|26.932840000000002|\n",
            "|2010-01-28|204.930004        |205.500004        |198.699995        |199.289995        |293375600|25.819922000000002|\n",
            "|2010-01-29|201.079996        |202.199995        |190.250002        |192.060003        |311488100|24.883208         |\n",
            "|2010-02-01|192.36999699999998|196.0             |191.29999899999999|194.729998        |187469100|25.229131         |\n",
            "+----------+------------------+------------------+------------------+------------------+---------+------------------+\n",
            "only showing top 20 rows\n",
            "\n"
          ]
        }
      ],
      "source": [
        "#infer schema option is available with CSV\n",
        "df = spark.read.csv('/content/appl_stock.csv', inferSchema=True, header=True)\n",
        "df.show(truncate=False)\n"
      ]
    },
    {
      "cell_type": "code",
      "source": [
        "from pyspark.sql.types import StructType, StructField, TimestampType, DoubleType, IntegerType\n"
      ],
      "metadata": {
        "id": "DyYMKuJmxGMQ"
      },
      "execution_count": 97,
      "outputs": []
    },
    {
      "cell_type": "code",
      "source": [
        "from pyspark.sql.types import StructType, StructField, TimestampType, DoubleType, IntegerType\n",
        "schema = StructType([\n",
        "    StructField(\"Date\", TimestampType(), True),\n",
        "    StructField(\"Open\", DoubleType(), True),\n",
        "    StructField(\"High\", DoubleType(), True),\n",
        "    StructField(\"Low\", DoubleType(), True),\n",
        "    StructField(\"Close\", DoubleType(), True),\n",
        "    StructField(\"Volume\", IntegerType(), True),\n",
        "    StructField(\"Adj Close\", DoubleType(), True)\n",
        "])\n",
        "\n",
        "df.printSchema()\n"
      ],
      "metadata": {
        "id": "sSX8_5i9w33K",
        "outputId": "bd6801bf-4a29-4318-c7b3-684b5c6b1cfa",
        "colab": {
          "base_uri": "https://localhost:8080/"
        }
      },
      "execution_count": 101,
      "outputs": [
        {
          "output_type": "stream",
          "name": "stdout",
          "text": [
            "root\n",
            " |-- Date: string (nullable = true)\n",
            " |-- Open: double (nullable = true)\n",
            " |-- High: double (nullable = true)\n",
            " |-- Low: double (nullable = true)\n",
            " |-- Close: double (nullable = true)\n",
            " |-- Volume: integer (nullable = true)\n",
            " |-- Adj Close: double (nullable = true)\n",
            "\n"
          ]
        }
      ]
    },
    {
      "cell_type": "code",
      "execution_count": 102,
      "metadata": {
        "id": "oARMC9vccEwM",
        "outputId": "ce446df6-259c-4a13-e3c8-ac3f1ea59777",
        "colab": {
          "base_uri": "https://localhost:8080/"
        }
      },
      "outputs": [
        {
          "output_type": "stream",
          "name": "stdout",
          "text": [
            "+----------+----------+----------+------------------+----------+---------+------------------+\n",
            "|      Date|      Open|      High|               Low|     Close|   Volume|         Adj Close|\n",
            "+----------+----------+----------+------------------+----------+---------+------------------+\n",
            "|2010-01-04|213.429998|214.499996|212.38000099999996|214.009998|123432400|         27.727039|\n",
            "|2010-01-05|214.599998|215.589994|        213.249994|214.379993|150476200|27.774976000000002|\n",
            "|2010-01-06|214.379993|    215.23|        210.750004|210.969995|138040000|27.333178000000004|\n",
            "+----------+----------+----------+------------------+----------+---------+------------------+\n",
            "only showing top 3 rows\n",
            "\n"
          ]
        }
      ],
      "source": [
        "# Head 3\n",
        "df.show(3)"
      ]
    },
    {
      "cell_type": "code",
      "execution_count": 103,
      "metadata": {
        "id": "TILjRcFTcEwM",
        "outputId": "8fd4daf9-42f2-4d91-d452-630ef2f62e27",
        "colab": {
          "base_uri": "https://localhost:8080/"
        }
      },
      "outputs": [
        {
          "output_type": "stream",
          "name": "stdout",
          "text": [
            "CPU times: user 4 ms, sys: 2.09 ms, total: 6.09 ms\n",
            "Wall time: 164 ms\n"
          ]
        },
        {
          "output_type": "execute_result",
          "data": {
            "text/plain": [
              "Row(Date='2010-01-04', Open=213.429998, High=214.499996, Low=212.38000099999996, Close=214.009998, Volume=123432400, Adj Close=27.727039)"
            ]
          },
          "metadata": {},
          "execution_count": 103
        }
      ],
      "source": [
        "%%time\n",
        "df.head(1)[0]"
      ]
    },
    {
      "cell_type": "code",
      "execution_count": 104,
      "metadata": {
        "id": "DSgUzMHLcEwM",
        "outputId": "0920dcc9-ef8a-47df-b4ef-4885b857de6a",
        "colab": {
          "base_uri": "https://localhost:8080/"
        }
      },
      "outputs": [
        {
          "output_type": "stream",
          "name": "stdout",
          "text": [
            "+----------+------------------+------------------+------------------+------------------+---------+------------------+\n",
            "|      Date|              Open|              High|               Low|             Close|   Volume|         Adj Close|\n",
            "+----------+------------------+------------------+------------------+------------------+---------+------------------+\n",
            "|2010-01-04|        213.429998|        214.499996|212.38000099999996|        214.009998|123432400|         27.727039|\n",
            "|2010-01-05|        214.599998|        215.589994|        213.249994|        214.379993|150476200|27.774976000000002|\n",
            "|2010-01-06|        214.379993|            215.23|        210.750004|        210.969995|138040000|27.333178000000004|\n",
            "|2010-01-07|            211.75|        212.000006|        209.050005|            210.58|119282800|          27.28265|\n",
            "|2010-01-08|        210.299994|        212.000006|209.06000500000002|211.98000499999998|111902700|         27.464034|\n",
            "|2010-01-11|212.79999700000002|        213.000002|        208.450005|210.11000299999998|115557400|         27.221758|\n",
            "|2010-01-12|209.18999499999998|209.76999500000002|        206.419998|        207.720001|148614900|          26.91211|\n",
            "|2010-01-13|        207.870005|210.92999500000002|        204.099998|        210.650002|151473000|          27.29172|\n",
            "|2010-01-14|210.11000299999998|210.45999700000002|        209.020004|            209.43|108223500|         27.133657|\n",
            "|2010-01-15|210.92999500000002|211.59999700000003|        205.869999|            205.93|148516900|26.680197999999997|\n",
            "|2010-01-19|        208.330002|215.18999900000003|        207.240004|        215.039995|182501900|27.860484999999997|\n",
            "|2010-01-20|        214.910006|        215.549994|        209.500002|            211.73|153038200|         27.431644|\n",
            "|2010-01-21|        212.079994|213.30999599999998|        207.210003|        208.069996|152038600|         26.957455|\n",
            "|2010-01-22|206.78000600000001|        207.499996|            197.16|            197.75|220441900|         25.620401|\n",
            "|2010-01-25|202.51000200000001|        204.699999|        200.190002|        203.070002|266424900|26.309658000000002|\n",
            "|2010-01-26|205.95000100000001|        213.710005|        202.580004|        205.940001|466777500|         26.681494|\n",
            "|2010-01-27|        206.849995|            210.58|        199.530001|        207.880005|430642100|26.932840000000002|\n",
            "|2010-01-28|        204.930004|        205.500004|        198.699995|        199.289995|293375600|25.819922000000002|\n",
            "|2010-01-29|        201.079996|        202.199995|        190.250002|        192.060003|311488100|         24.883208|\n",
            "|2010-02-01|192.36999699999998|             196.0|191.29999899999999|        194.729998|187469100|         25.229131|\n",
            "+----------+------------------+------------------+------------------+------------------+---------+------------------+\n",
            "only showing top 20 rows\n",
            "\n"
          ]
        }
      ],
      "source": [
        "df.show()"
      ]
    },
    {
      "cell_type": "code",
      "execution_count": 116,
      "metadata": {
        "id": "_AtPFTV4cEwM",
        "outputId": "a8cf2add-fc88-48d6-fc4b-018e06b00424",
        "colab": {
          "base_uri": "https://localhost:8080/"
        }
      },
      "outputs": [
        {
          "output_type": "stream",
          "name": "stdout",
          "text": [
            "+------------------+\n",
            "|             Close|\n",
            "+------------------+\n",
            "|        214.009998|\n",
            "|        214.379993|\n",
            "|        210.969995|\n",
            "|            210.58|\n",
            "|211.98000499999998|\n",
            "|210.11000299999998|\n",
            "|        207.720001|\n",
            "|        210.650002|\n",
            "|            209.43|\n",
            "|            205.93|\n",
            "|        215.039995|\n",
            "|            211.73|\n",
            "|        208.069996|\n",
            "|            197.75|\n",
            "|        203.070002|\n",
            "|        205.940001|\n",
            "|        207.880005|\n",
            "|        199.289995|\n",
            "|        192.060003|\n",
            "|        194.729998|\n",
            "+------------------+\n",
            "only showing top 20 rows\n",
            "\n"
          ]
        }
      ],
      "source": [
        "#You can pass in conditions 'Close < 500'\n",
        "x = df.filter(df[\"Close\"] < 500)\n",
        "close_price = (x.select(\"Close\"))\n",
        "close_price.show()"
      ]
    },
    {
      "cell_type": "code",
      "execution_count": 117,
      "metadata": {
        "id": "adRJyZZIcEwM",
        "outputId": "d6c66ff0-bc5c-4eb6-bc18-f1253891e67a",
        "colab": {
          "base_uri": "https://localhost:8080/"
        }
      },
      "outputs": [
        {
          "output_type": "stream",
          "name": "stdout",
          "text": [
            "+------------------+\n",
            "|              Open|\n",
            "+------------------+\n",
            "|        213.429998|\n",
            "|        214.599998|\n",
            "|        214.379993|\n",
            "|            211.75|\n",
            "|        210.299994|\n",
            "|212.79999700000002|\n",
            "|209.18999499999998|\n",
            "|        207.870005|\n",
            "|210.11000299999998|\n",
            "|210.92999500000002|\n",
            "|        208.330002|\n",
            "|        214.910006|\n",
            "|        212.079994|\n",
            "|206.78000600000001|\n",
            "|202.51000200000001|\n",
            "|205.95000100000001|\n",
            "|        206.849995|\n",
            "|        204.930004|\n",
            "|        201.079996|\n",
            "|192.36999699999998|\n",
            "+------------------+\n",
            "only showing top 20 rows\n",
            "\n"
          ]
        }
      ],
      "source": [
        "#Opening price of every stock where Close price is less than 500\n",
        "y = df.filter(df[\"Close\"] < 500)\n",
        "open_prices = y.select(\"Open\")\n",
        "open_prices.show()"
      ]
    },
    {
      "cell_type": "code",
      "execution_count": 119,
      "metadata": {
        "id": "ETQU2eU7cEwN",
        "outputId": "47afe582-01c1-4d25-ebcc-743b820223c8",
        "colab": {
          "base_uri": "https://localhost:8080/"
        }
      },
      "outputs": [
        {
          "output_type": "stream",
          "name": "stdout",
          "text": [
            "+------------------+------------------+\n",
            "|              Open|             Close|\n",
            "+------------------+------------------+\n",
            "|        213.429998|        214.009998|\n",
            "|        214.599998|        214.379993|\n",
            "|        214.379993|        210.969995|\n",
            "|            211.75|            210.58|\n",
            "|        210.299994|211.98000499999998|\n",
            "|212.79999700000002|210.11000299999998|\n",
            "|209.18999499999998|        207.720001|\n",
            "|        207.870005|        210.650002|\n",
            "|210.11000299999998|            209.43|\n",
            "|210.92999500000002|            205.93|\n",
            "|        208.330002|        215.039995|\n",
            "|        214.910006|            211.73|\n",
            "|        212.079994|        208.069996|\n",
            "|206.78000600000001|            197.75|\n",
            "|202.51000200000001|        203.070002|\n",
            "|205.95000100000001|        205.940001|\n",
            "|        206.849995|        207.880005|\n",
            "|        204.930004|        199.289995|\n",
            "|        201.079996|        192.060003|\n",
            "|192.36999699999998|        194.729998|\n",
            "+------------------+------------------+\n",
            "only showing top 20 rows\n",
            "\n"
          ]
        }
      ],
      "source": [
        "# Select and show 'Open' and 'Close' with 'Close < 500'\n",
        "selected_prices = df.filter(df[\"Close\"] < 500).select(\"Open\", \"Close\")\n",
        "selected_prices.show()"
      ]
    },
    {
      "cell_type": "code",
      "execution_count": 120,
      "metadata": {
        "id": "XG6g5JlecEwN",
        "outputId": "b449332f-5332-4d0b-8100-f26f22ba1136",
        "colab": {
          "base_uri": "https://localhost:8080/"
        }
      },
      "outputs": [
        {
          "output_type": "stream",
          "name": "stdout",
          "text": [
            "+------------------+------------------+\n",
            "|              Open|             Close|\n",
            "+------------------+------------------+\n",
            "|        213.429998|        214.009998|\n",
            "|        214.599998|        214.379993|\n",
            "|        214.379993|        210.969995|\n",
            "|            211.75|            210.58|\n",
            "|        210.299994|211.98000499999998|\n",
            "|212.79999700000002|210.11000299999998|\n",
            "|209.18999499999998|        207.720001|\n",
            "|        207.870005|        210.650002|\n",
            "|210.11000299999998|            209.43|\n",
            "|210.92999500000002|            205.93|\n",
            "|        208.330002|        215.039995|\n",
            "|        214.910006|            211.73|\n",
            "|        212.079994|        208.069996|\n",
            "|206.78000600000001|            197.75|\n",
            "|202.51000200000001|        203.070002|\n",
            "|205.95000100000001|        205.940001|\n",
            "|        206.849995|        207.880005|\n",
            "|        204.930004|        199.289995|\n",
            "|        201.079996|        192.060003|\n",
            "|192.36999699999998|        194.729998|\n",
            "+------------------+------------------+\n",
            "only showing top 20 rows\n",
            "\n"
          ]
        }
      ],
      "source": [
        "# Select and show 'Open' and 'Close' with 'Open < 500'\n",
        "selected_prices = df.filter(df[\"Open\"] < 500).select(\"Open\", \"Close\")\n",
        "selected_prices.show()"
      ]
    },
    {
      "cell_type": "code",
      "execution_count": 121,
      "metadata": {
        "scrolled": false,
        "id": "WVFn--ezcEwN",
        "outputId": "057d3e44-1609-4215-e0e8-3168dd40464a",
        "colab": {
          "base_uri": "https://localhost:8080/"
        }
      },
      "outputs": [
        {
          "output_type": "stream",
          "name": "stdout",
          "text": [
            "+---------+\n",
            "|   Volume|\n",
            "+---------+\n",
            "|123432400|\n",
            "|150476200|\n",
            "|138040000|\n",
            "|119282800|\n",
            "|111902700|\n",
            "|115557400|\n",
            "|148614900|\n",
            "|151473000|\n",
            "|108223500|\n",
            "|148516900|\n",
            "|182501900|\n",
            "|153038200|\n",
            "|152038600|\n",
            "|220441900|\n",
            "|266424900|\n",
            "|466777500|\n",
            "|430642100|\n",
            "|293375600|\n",
            "|311488100|\n",
            "|187469100|\n",
            "+---------+\n",
            "only showing top 20 rows\n",
            "\n"
          ]
        }
      ],
      "source": [
        "# Select and show 'Volume' with 'Close < 500'\n",
        "open_prices = y.select(\"Volume\")\n",
        "open_prices.show()"
      ]
    },
    {
      "cell_type": "code",
      "execution_count": 124,
      "metadata": {
        "id": "aqw1ErYfcEwN",
        "outputId": "2b1388f4-3187-4a2f-cc0f-30fb84f336d9",
        "colab": {
          "base_uri": "https://localhost:8080/"
        }
      },
      "outputs": [
        {
          "output_type": "stream",
          "name": "stdout",
          "text": [
            "+----------+------------------+----------+----------+----------+---------+------------------+\n",
            "|      Date|              Open|      High|       Low|     Close|   Volume|         Adj Close|\n",
            "+----------+------------------+----------+----------+----------+---------+------------------+\n",
            "|2010-01-22|206.78000600000001|207.499996|    197.16|    197.75|220441900|         25.620401|\n",
            "|2010-01-28|        204.930004|205.500004|198.699995|199.289995|293375600|25.819922000000002|\n",
            "|2010-01-29|        201.079996|202.199995|190.250002|192.060003|311488100|         24.883208|\n",
            "+----------+------------------+----------+----------+----------+---------+------------------+\n",
            "\n"
          ]
        }
      ],
      "source": [
        "# Multiple conditions 'Close' < 200  and 'Open' > 200\n",
        "filtered_df = df.filter((df[\"Close\"] < 200) & (df[\"Open\"] > 200))\n",
        "filtered_df.show()"
      ]
    },
    {
      "cell_type": "code",
      "execution_count": 125,
      "metadata": {
        "id": "yHhdkm0JcEwN",
        "outputId": "4db198d3-e06f-4650-d95c-28e84a608546",
        "colab": {
          "base_uri": "https://localhost:8080/"
        }
      },
      "outputs": [
        {
          "output_type": "stream",
          "name": "stdout",
          "text": [
            "+----------+------------------+------------------+------------------+------------------+---------+------------------+\n",
            "|      Date|              Open|              High|               Low|             Close|   Volume|         Adj Close|\n",
            "+----------+------------------+------------------+------------------+------------------+---------+------------------+\n",
            "|2010-02-01|192.36999699999998|             196.0|191.29999899999999|        194.729998|187469100|         25.229131|\n",
            "|2010-02-02|        195.909998|        196.319994|193.37999299999998|        195.859997|174585600|25.375532999999997|\n",
            "|2010-02-03|        195.169994|        200.200003|        194.420004|        199.229994|153832000|25.812148999999998|\n",
            "|2010-02-04|        196.730003|        198.370001|        191.570005|        192.050003|189413000|         24.881912|\n",
            "|2010-02-05|192.63000300000002|             196.0|        190.850002|        195.460001|212576700|25.323710000000002|\n",
            "|2010-02-08|        195.690006|197.88000300000002|        193.999994|194.11999699999998|119567700|           25.1501|\n",
            "|2010-02-09|        196.419996|        197.499994|        194.749998|196.19000400000002|158221700|         25.418289|\n",
            "|2010-02-10|        195.889997|             196.6|            194.26|195.12000700000002| 92590400|          25.27966|\n",
            "|2010-02-11|        194.880001|        199.750006|194.05999599999998|        198.669994|137586400|         25.739595|\n",
            "|2010-02-23|        199.999998|        201.330002|        195.709993|        197.059998|143773700|         25.531005|\n",
            "|2014-06-09|         92.699997|         93.879997|             91.75|         93.699997| 75415000|         88.906324|\n",
            "|2014-06-10|         94.730003|         95.050003|             93.57|             94.25| 62777000|         89.428189|\n",
            "|2014-06-11|         94.129997|         94.760002|         93.470001|         93.860001| 45681000|         89.058142|\n",
            "|2014-06-12|         94.040001|         94.120003|         91.900002|         92.290001| 54749000|         87.568463|\n",
            "|2014-06-13|         92.199997|         92.440002|         90.879997|         91.279999| 54525000|         86.610132|\n",
            "|2014-06-16|         91.510002|             92.75|         91.449997|         92.199997| 35561000|         87.483064|\n",
            "|2014-06-17|         92.309998|         92.699997|         91.800003| 92.08000200000001| 29726000| 87.36920699999999|\n",
            "|2014-06-18|         92.269997|         92.290001|         91.349998|             92.18| 33514000|          87.46409|\n",
            "|2014-06-19|         92.290001|         92.300003|         91.339996|         91.860001| 35528000|         87.160461|\n",
            "|2014-06-20|         91.849998|         92.550003|         90.900002|         90.910004|100898000|         86.259066|\n",
            "+----------+------------------+------------------+------------------+------------------+---------+------------------+\n",
            "only showing top 20 rows\n",
            "\n"
          ]
        }
      ],
      "source": [
        "# Multiple conditions 'Close' < 200  and 'Open' <= 200\n",
        "z= df.filter((df[\"Close\"] < 200) & (df[\"Open\"] <= 200))\n",
        "\n",
        "# Show the DataFrame with filtered rows\n",
        "z.show()"
      ]
    },
    {
      "cell_type": "code",
      "execution_count": 126,
      "metadata": {
        "id": "Htbm4bnZcEwN",
        "outputId": "c410b2c2-2067-4b00-cf3f-dd01f1e58271",
        "colab": {
          "base_uri": "https://localhost:8080/"
        }
      },
      "outputs": [
        {
          "output_type": "stream",
          "name": "stdout",
          "text": [
            "+----------+------------------+----------+------+------+---------+---------+\n",
            "|      Date|              Open|      High|   Low| Close|   Volume|Adj Close|\n",
            "+----------+------------------+----------+------+------+---------+---------+\n",
            "|2010-01-22|206.78000600000001|207.499996|197.16|197.75|220441900|25.620401|\n",
            "+----------+------------------+----------+------+------+---------+---------+\n",
            "\n"
          ]
        }
      ],
      "source": [
        "df.filter(df['Low'] == 197.16).show()"
      ]
    },
    {
      "cell_type": "markdown",
      "metadata": {
        "id": "0ddRJgvbcEwO"
      },
      "source": [
        "## GroupBy, Aggregate and Sorting Functions"
      ]
    },
    {
      "cell_type": "code",
      "execution_count": 127,
      "metadata": {
        "collapsed": true,
        "id": "tFt1dGBccEwO"
      },
      "outputs": [],
      "source": [
        "spark = SparkSession.builder.appName('aggs').getOrCreate()"
      ]
    },
    {
      "cell_type": "code",
      "source": [
        "from google.colab import files\n",
        "files.upload()"
      ],
      "metadata": {
        "id": "5RsG-hLVz5jQ",
        "outputId": "5660d719-f682-45a1-ee12-8e77cf56027c",
        "colab": {
          "base_uri": "https://localhost:8080/",
          "height": 90
        }
      },
      "execution_count": 128,
      "outputs": [
        {
          "output_type": "display_data",
          "data": {
            "text/plain": [
              "<IPython.core.display.HTML object>"
            ],
            "text/html": [
              "\n",
              "     <input type=\"file\" id=\"files-6158830d-8e9d-4145-bd0b-5624e1b1f8f4\" name=\"files[]\" multiple disabled\n",
              "        style=\"border:none\" />\n",
              "     <output id=\"result-6158830d-8e9d-4145-bd0b-5624e1b1f8f4\">\n",
              "      Upload widget is only available when the cell has been executed in the\n",
              "      current browser session. Please rerun this cell to enable.\n",
              "      </output>\n",
              "      <script>// Copyright 2017 Google LLC\n",
              "//\n",
              "// Licensed under the Apache License, Version 2.0 (the \"License\");\n",
              "// you may not use this file except in compliance with the License.\n",
              "// You may obtain a copy of the License at\n",
              "//\n",
              "//      http://www.apache.org/licenses/LICENSE-2.0\n",
              "//\n",
              "// Unless required by applicable law or agreed to in writing, software\n",
              "// distributed under the License is distributed on an \"AS IS\" BASIS,\n",
              "// WITHOUT WARRANTIES OR CONDITIONS OF ANY KIND, either express or implied.\n",
              "// See the License for the specific language governing permissions and\n",
              "// limitations under the License.\n",
              "\n",
              "/**\n",
              " * @fileoverview Helpers for google.colab Python module.\n",
              " */\n",
              "(function(scope) {\n",
              "function span(text, styleAttributes = {}) {\n",
              "  const element = document.createElement('span');\n",
              "  element.textContent = text;\n",
              "  for (const key of Object.keys(styleAttributes)) {\n",
              "    element.style[key] = styleAttributes[key];\n",
              "  }\n",
              "  return element;\n",
              "}\n",
              "\n",
              "// Max number of bytes which will be uploaded at a time.\n",
              "const MAX_PAYLOAD_SIZE = 100 * 1024;\n",
              "\n",
              "function _uploadFiles(inputId, outputId) {\n",
              "  const steps = uploadFilesStep(inputId, outputId);\n",
              "  const outputElement = document.getElementById(outputId);\n",
              "  // Cache steps on the outputElement to make it available for the next call\n",
              "  // to uploadFilesContinue from Python.\n",
              "  outputElement.steps = steps;\n",
              "\n",
              "  return _uploadFilesContinue(outputId);\n",
              "}\n",
              "\n",
              "// This is roughly an async generator (not supported in the browser yet),\n",
              "// where there are multiple asynchronous steps and the Python side is going\n",
              "// to poll for completion of each step.\n",
              "// This uses a Promise to block the python side on completion of each step,\n",
              "// then passes the result of the previous step as the input to the next step.\n",
              "function _uploadFilesContinue(outputId) {\n",
              "  const outputElement = document.getElementById(outputId);\n",
              "  const steps = outputElement.steps;\n",
              "\n",
              "  const next = steps.next(outputElement.lastPromiseValue);\n",
              "  return Promise.resolve(next.value.promise).then((value) => {\n",
              "    // Cache the last promise value to make it available to the next\n",
              "    // step of the generator.\n",
              "    outputElement.lastPromiseValue = value;\n",
              "    return next.value.response;\n",
              "  });\n",
              "}\n",
              "\n",
              "/**\n",
              " * Generator function which is called between each async step of the upload\n",
              " * process.\n",
              " * @param {string} inputId Element ID of the input file picker element.\n",
              " * @param {string} outputId Element ID of the output display.\n",
              " * @return {!Iterable<!Object>} Iterable of next steps.\n",
              " */\n",
              "function* uploadFilesStep(inputId, outputId) {\n",
              "  const inputElement = document.getElementById(inputId);\n",
              "  inputElement.disabled = false;\n",
              "\n",
              "  const outputElement = document.getElementById(outputId);\n",
              "  outputElement.innerHTML = '';\n",
              "\n",
              "  const pickedPromise = new Promise((resolve) => {\n",
              "    inputElement.addEventListener('change', (e) => {\n",
              "      resolve(e.target.files);\n",
              "    });\n",
              "  });\n",
              "\n",
              "  const cancel = document.createElement('button');\n",
              "  inputElement.parentElement.appendChild(cancel);\n",
              "  cancel.textContent = 'Cancel upload';\n",
              "  const cancelPromise = new Promise((resolve) => {\n",
              "    cancel.onclick = () => {\n",
              "      resolve(null);\n",
              "    };\n",
              "  });\n",
              "\n",
              "  // Wait for the user to pick the files.\n",
              "  const files = yield {\n",
              "    promise: Promise.race([pickedPromise, cancelPromise]),\n",
              "    response: {\n",
              "      action: 'starting',\n",
              "    }\n",
              "  };\n",
              "\n",
              "  cancel.remove();\n",
              "\n",
              "  // Disable the input element since further picks are not allowed.\n",
              "  inputElement.disabled = true;\n",
              "\n",
              "  if (!files) {\n",
              "    return {\n",
              "      response: {\n",
              "        action: 'complete',\n",
              "      }\n",
              "    };\n",
              "  }\n",
              "\n",
              "  for (const file of files) {\n",
              "    const li = document.createElement('li');\n",
              "    li.append(span(file.name, {fontWeight: 'bold'}));\n",
              "    li.append(span(\n",
              "        `(${file.type || 'n/a'}) - ${file.size} bytes, ` +\n",
              "        `last modified: ${\n",
              "            file.lastModifiedDate ? file.lastModifiedDate.toLocaleDateString() :\n",
              "                                    'n/a'} - `));\n",
              "    const percent = span('0% done');\n",
              "    li.appendChild(percent);\n",
              "\n",
              "    outputElement.appendChild(li);\n",
              "\n",
              "    const fileDataPromise = new Promise((resolve) => {\n",
              "      const reader = new FileReader();\n",
              "      reader.onload = (e) => {\n",
              "        resolve(e.target.result);\n",
              "      };\n",
              "      reader.readAsArrayBuffer(file);\n",
              "    });\n",
              "    // Wait for the data to be ready.\n",
              "    let fileData = yield {\n",
              "      promise: fileDataPromise,\n",
              "      response: {\n",
              "        action: 'continue',\n",
              "      }\n",
              "    };\n",
              "\n",
              "    // Use a chunked sending to avoid message size limits. See b/62115660.\n",
              "    let position = 0;\n",
              "    do {\n",
              "      const length = Math.min(fileData.byteLength - position, MAX_PAYLOAD_SIZE);\n",
              "      const chunk = new Uint8Array(fileData, position, length);\n",
              "      position += length;\n",
              "\n",
              "      const base64 = btoa(String.fromCharCode.apply(null, chunk));\n",
              "      yield {\n",
              "        response: {\n",
              "          action: 'append',\n",
              "          file: file.name,\n",
              "          data: base64,\n",
              "        },\n",
              "      };\n",
              "\n",
              "      let percentDone = fileData.byteLength === 0 ?\n",
              "          100 :\n",
              "          Math.round((position / fileData.byteLength) * 100);\n",
              "      percent.textContent = `${percentDone}% done`;\n",
              "\n",
              "    } while (position < fileData.byteLength);\n",
              "  }\n",
              "\n",
              "  // All done.\n",
              "  yield {\n",
              "    response: {\n",
              "      action: 'complete',\n",
              "    }\n",
              "  };\n",
              "}\n",
              "\n",
              "scope.google = scope.google || {};\n",
              "scope.google.colab = scope.google.colab || {};\n",
              "scope.google.colab._files = {\n",
              "  _uploadFiles,\n",
              "  _uploadFilesContinue,\n",
              "};\n",
              "})(self);\n",
              "</script> "
            ]
          },
          "metadata": {}
        },
        {
          "output_type": "stream",
          "name": "stdout",
          "text": [
            "Saving sales_info.csv to sales_info.csv\n"
          ]
        },
        {
          "output_type": "execute_result",
          "data": {
            "text/plain": [
              "{'sales_info.csv': b'Company,Person,Sales\\nGOOG,Sam,200\\nGOOG,Charlie,120\\nGOOG,Frank,340\\nMSFT,Tina,600\\nMSFT,Amy,124\\nMSFT,Vanessa,243\\nFB,Carl,870\\nFB,Sarah,350\\nAPPL,John,250\\nAPPL,Linda, 130\\nAPPL,Mike, 750\\nAPPL, Chris, 350'}"
            ]
          },
          "metadata": {},
          "execution_count": 128
        }
      ]
    },
    {
      "cell_type": "code",
      "execution_count": 129,
      "metadata": {
        "collapsed": true,
        "id": "m3q3SqHPcEwO"
      },
      "outputs": [],
      "source": [
        "df = spark.read.csv('sales_info.csv', inferSchema=True, header=True)"
      ]
    },
    {
      "cell_type": "code",
      "execution_count": 130,
      "metadata": {
        "id": "mxh5T1IHcEwO",
        "outputId": "70825d61-7114-48e1-eabe-ab902a61f522",
        "colab": {
          "base_uri": "https://localhost:8080/"
        }
      },
      "outputs": [
        {
          "output_type": "execute_result",
          "data": {
            "text/plain": [
              "12"
            ]
          },
          "metadata": {},
          "execution_count": 130
        }
      ],
      "source": [
        "df.count()"
      ]
    },
    {
      "cell_type": "code",
      "execution_count": 131,
      "metadata": {
        "id": "JFMcvfJWcEwO",
        "outputId": "d14e2232-265c-44f2-e854-4334fbc0c143",
        "colab": {
          "base_uri": "https://localhost:8080/"
        }
      },
      "outputs": [
        {
          "output_type": "stream",
          "name": "stdout",
          "text": [
            "root\n",
            " |-- Company: string (nullable = true)\n",
            " |-- Person: string (nullable = true)\n",
            " |-- Sales: double (nullable = true)\n",
            "\n"
          ]
        }
      ],
      "source": [
        "df.printSchema()"
      ]
    },
    {
      "cell_type": "code",
      "execution_count": 132,
      "metadata": {
        "id": "tnJRYsfBcEwO",
        "outputId": "6c932fe4-3719-407b-f757-b38670291f20",
        "colab": {
          "base_uri": "https://localhost:8080/"
        }
      },
      "outputs": [
        {
          "output_type": "stream",
          "name": "stdout",
          "text": [
            "+-------+-------+-----+\n",
            "|Company| Person|Sales|\n",
            "+-------+-------+-----+\n",
            "|   GOOG|    Sam|200.0|\n",
            "|   GOOG|Charlie|120.0|\n",
            "|   GOOG|  Frank|340.0|\n",
            "|   MSFT|   Tina|600.0|\n",
            "|   MSFT|    Amy|124.0|\n",
            "|   MSFT|Vanessa|243.0|\n",
            "|     FB|   Carl|870.0|\n",
            "|     FB|  Sarah|350.0|\n",
            "|   APPL|   John|250.0|\n",
            "|   APPL|  Linda|130.0|\n",
            "|   APPL|   Mike|750.0|\n",
            "|   APPL|  Chris|350.0|\n",
            "+-------+-------+-----+\n",
            "\n"
          ]
        }
      ],
      "source": [
        "df.show()"
      ]
    },
    {
      "cell_type": "code",
      "execution_count": 139,
      "metadata": {
        "id": "izjk5LhMcEwO",
        "outputId": "6bd24356-279c-4784-8191-632feb9372b2",
        "colab": {
          "base_uri": "https://localhost:8080/"
        }
      },
      "outputs": [
        {
          "output_type": "stream",
          "name": "stdout",
          "text": [
            "+-------+-----+\n",
            "|Company|Count|\n",
            "+-------+-----+\n",
            "|   APPL|    4|\n",
            "|   GOOG|    3|\n",
            "|     FB|    2|\n",
            "|   MSFT|    3|\n",
            "+-------+-----+\n",
            "\n"
          ]
        }
      ],
      "source": [
        "# groupBy 'Company'and show the counting\n",
        "from pyspark.sql import SparkSession\n",
        "from pyspark.sql.functions import count\n",
        "df1 = df.groupBy(\"Company\").agg(count(\"*\").alias(\"Count\"))\n",
        "df1.show()"
      ]
    },
    {
      "cell_type": "code",
      "execution_count": 151,
      "metadata": {
        "id": "X3e6aF6bcEwP",
        "outputId": "85eaeddb-bf17-4030-d0ec-d68820677022",
        "colab": {
          "base_uri": "https://localhost:8080/"
        }
      },
      "outputs": [
        {
          "output_type": "stream",
          "name": "stdout",
          "text": [
            "+-------+-----------------+\n",
            "|Company|       avg(Sales)|\n",
            "+-------+-----------------+\n",
            "|   APPL|            370.0|\n",
            "|   GOOG|            220.0|\n",
            "|     FB|            610.0|\n",
            "|   MSFT|322.3333333333333|\n",
            "+-------+-----------------+\n",
            "\n"
          ]
        }
      ],
      "source": [
        "# groupBy 'Company'and show the mean\n",
        "from pyspark.sql.functions import mean, max, min,sum\n",
        "from pyspark.sql.types import DoubleType\n",
        "df2 = df.groupBy(\"Company\").agg(mean(\"Sales\").alias(\"avg(Sales)\"))\n",
        "df2.show()"
      ]
    },
    {
      "cell_type": "code",
      "execution_count": 141,
      "metadata": {
        "id": "JmFO-YopcEwP",
        "outputId": "5f1d54bf-69c0-4d88-9480-7dc5cf610c3b",
        "colab": {
          "base_uri": "https://localhost:8080/"
        }
      },
      "outputs": [
        {
          "output_type": "stream",
          "name": "stdout",
          "text": [
            "+-------+----------+\n",
            "|Company|max(Sales)|\n",
            "+-------+----------+\n",
            "|   APPL|     750.0|\n",
            "|   GOOG|     340.0|\n",
            "|     FB|     870.0|\n",
            "|   MSFT|     600.0|\n",
            "+-------+----------+\n",
            "\n"
          ]
        }
      ],
      "source": [
        "# groupBy 'Company'and show the max\n",
        "df3 = df.groupBy(\"Company\").agg(max(\"Sales\").alias(\"max(Sales)\"))\n",
        "df3.show()"
      ]
    },
    {
      "cell_type": "code",
      "execution_count": 142,
      "metadata": {
        "id": "aOz3rnahcEwP",
        "outputId": "ebf71741-03e6-45f8-cc1b-cd749ca9c59e",
        "colab": {
          "base_uri": "https://localhost:8080/"
        }
      },
      "outputs": [
        {
          "output_type": "stream",
          "name": "stdout",
          "text": [
            "+-------+----------+\n",
            "|Company|min(Sales)|\n",
            "+-------+----------+\n",
            "|   APPL|     130.0|\n",
            "|   GOOG|     120.0|\n",
            "|     FB|     350.0|\n",
            "|   MSFT|     124.0|\n",
            "+-------+----------+\n",
            "\n"
          ]
        }
      ],
      "source": [
        "# groupBy 'Company'and show the min\n",
        "df4 = df.groupBy(\"Company\").agg(min(\"Sales\").alias(\"min(Sales)\"))\n",
        "df4.show()"
      ]
    },
    {
      "cell_type": "code",
      "source": [
        "average_sales_per_company = (\n",
        "    df.groupBy(\"Company\")\n",
        "    .agg(mean(\"Sales\").alias(\"Average_Sales\"))\n",
        "    .orderBy(\"Company\")\n",
        ")\n",
        "average_sales_per_company.show()"
      ],
      "metadata": {
        "id": "_z90WxAY1HI8",
        "outputId": "211be97f-873a-4541-ce76-623515a91036",
        "colab": {
          "base_uri": "https://localhost:8080/"
        }
      },
      "execution_count": 154,
      "outputs": [
        {
          "output_type": "stream",
          "name": "stdout",
          "text": [
            "+-------+-----------------+\n",
            "|Company|    Average_Sales|\n",
            "+-------+-----------------+\n",
            "|   APPL|            370.0|\n",
            "|     FB|            610.0|\n",
            "|   GOOG|            220.0|\n",
            "|   MSFT|322.3333333333333|\n",
            "+-------+-----------------+\n",
            "\n"
          ]
        }
      ]
    },
    {
      "cell_type": "code",
      "execution_count": 156,
      "metadata": {
        "id": "7N6pFmqkcEwP",
        "outputId": "083328c0-797b-4576-be74-0e00f5869d55",
        "colab": {
          "base_uri": "https://localhost:8080/"
        }
      },
      "outputs": [
        {
          "output_type": "stream",
          "name": "stdout",
          "text": [
            "Sum of Average Sales per Company:\n",
            "+--------------------+\n",
            "|Sum_Of_Average_Sales|\n",
            "+--------------------+\n",
            "|  1522.3333333333333|\n",
            "+--------------------+\n",
            "\n"
          ]
        }
      ],
      "source": [
        "## May be you dont need group by, you need something\n",
        "#like average sales per company\n",
        "sum_of_average_sales = average_sales_per_company.agg(sum(\"Average_Sales\").alias(\"Sum_Of_Average_Sales\"))\n",
        "\n",
        "# Show the resulting DataFrame\n",
        "print(\"Sum of Average Sales per Company:\")\n",
        "sum_of_average_sales.show()\n"
      ]
    },
    {
      "cell_type": "code",
      "execution_count": 157,
      "metadata": {
        "collapsed": true,
        "id": "JZkkta9gcEwV"
      },
      "outputs": [],
      "source": [
        "from pyspark.sql.functions import countDistinct, avg, stddev"
      ]
    },
    {
      "cell_type": "code",
      "execution_count": 159,
      "metadata": {
        "id": "4l2bMPgxcEwV",
        "outputId": "575ffc66-c295-46ea-a8e4-8b7338bf6038",
        "colab": {
          "base_uri": "https://localhost:8080/"
        }
      },
      "outputs": [
        {
          "output_type": "stream",
          "name": "stdout",
          "text": [
            "+---------------------+\n",
            "|count(DISTINCT Sales)|\n",
            "+---------------------+\n",
            "|                   11|\n",
            "+---------------------+\n",
            "\n"
          ]
        }
      ],
      "source": [
        "#Counts distinct sales value\n",
        "distinct_sales_count = df.agg(countDistinct(\"Sales\").alias(\"count(DISTINCT Sales)\"))\n",
        "distinct_sales_count.show()"
      ]
    },
    {
      "cell_type": "code",
      "execution_count": 160,
      "metadata": {
        "id": "RdScp2O-cEwV",
        "outputId": "6b174c07-87b9-4b97-bf9c-a9c9c3f8f0da",
        "colab": {
          "base_uri": "https://localhost:8080/"
        }
      },
      "outputs": [
        {
          "output_type": "stream",
          "name": "stdout",
          "text": [
            "+-----------------+\n",
            "|       avg(Sales)|\n",
            "+-----------------+\n",
            "|360.5833333333333|\n",
            "+-----------------+\n",
            "\n"
          ]
        }
      ],
      "source": [
        "df.select(avg('Sales')).show()"
      ]
    },
    {
      "cell_type": "code",
      "execution_count": 163,
      "metadata": {
        "id": "T4pm5prJcEwW",
        "outputId": "c293921a-7c1d-48f1-c60f-8c74b16b263d",
        "colab": {
          "base_uri": "https://localhost:8080/"
        }
      },
      "outputs": [
        {
          "output_type": "stream",
          "name": "stdout",
          "text": [
            "+-----------------+\n",
            "|    Average Sales|\n",
            "+-----------------+\n",
            "|360.5833333333333|\n",
            "+-----------------+\n",
            "\n"
          ]
        }
      ],
      "source": [
        "#Alias - Give the column name appropriate name\n",
        "average_sales = df.select(avg('Sales').alias(\"Average Sales\"))\n",
        "average_sales.show()"
      ]
    },
    {
      "cell_type": "code",
      "execution_count": 164,
      "metadata": {
        "id": "LCHaM9lWcEwW",
        "outputId": "f3a141cd-f887-43f4-ae6a-bbb6335707d4",
        "colab": {
          "base_uri": "https://localhost:8080/"
        }
      },
      "outputs": [
        {
          "output_type": "stream",
          "name": "stdout",
          "text": [
            "+------------------+\n",
            "|stddev_samp(Sales)|\n",
            "+------------------+\n",
            "|250.08742410799007|\n",
            "+------------------+\n",
            "\n"
          ]
        }
      ],
      "source": [
        "df.select(stddev('Sales')).show()"
      ]
    },
    {
      "cell_type": "code",
      "execution_count": 165,
      "metadata": {
        "collapsed": true,
        "id": "DABR993KcEwW"
      },
      "outputs": [],
      "source": [
        "#Formatting the number\n",
        "from pyspark.sql.functions import format_number"
      ]
    },
    {
      "cell_type": "code",
      "execution_count": 166,
      "metadata": {
        "collapsed": true,
        "id": "ZdRI6tElcEwW"
      },
      "outputs": [],
      "source": [
        "sales_std = df.select(stddev('Sales').alias('std'))"
      ]
    },
    {
      "cell_type": "code",
      "execution_count": 167,
      "metadata": {
        "id": "ESnI7UwlcEwW",
        "outputId": "66143314-3953-4f59-8348-9a4067718a4c",
        "colab": {
          "base_uri": "https://localhost:8080/"
        }
      },
      "outputs": [
        {
          "output_type": "stream",
          "name": "stdout",
          "text": [
            "+------------------+\n",
            "|               std|\n",
            "+------------------+\n",
            "|250.08742410799007|\n",
            "+------------------+\n",
            "\n"
          ]
        }
      ],
      "source": [
        "sales_std.show()"
      ]
    },
    {
      "cell_type": "code",
      "execution_count": 173,
      "metadata": {
        "id": "hEooMMPncEwW",
        "outputId": "41bb8243-33cc-4c52-b82c-8c04819c899b",
        "colab": {
          "base_uri": "https://localhost:8080/"
        }
      },
      "outputs": [
        {
          "output_type": "stream",
          "name": "stdout",
          "text": [
            "+---------------------+\n",
            "|format_number(std, 2)|\n",
            "+---------------------+\n",
            "|               250.09|\n",
            "+---------------------+\n",
            "\n"
          ]
        }
      ],
      "source": [
        "#number of decimal places I want to show\n",
        "formatted_sales_std = sales_std.select(format_number(\"std\", 2).alias(\"format_number(std, 2)\"))\n",
        "formatted_sales_std.show()"
      ]
    },
    {
      "cell_type": "code",
      "execution_count": null,
      "metadata": {
        "id": "kgjptQpbcEwW",
        "outputId": "69a27deb-f204-473f-c4cc-bf1cda570e73"
      },
      "outputs": [
        {
          "name": "stdout",
          "output_type": "stream",
          "text": [
            "+-------+-------+-----+\n",
            "|Company| Person|Sales|\n",
            "+-------+-------+-----+\n",
            "|   GOOG|Charlie|120.0|\n",
            "|   MSFT|    Amy|124.0|\n",
            "|   APPL|  Linda|130.0|\n",
            "|   GOOG|    Sam|200.0|\n",
            "|   MSFT|Vanessa|243.0|\n",
            "|   APPL|   John|250.0|\n",
            "|   GOOG|  Frank|340.0|\n",
            "|     FB|  Sarah|350.0|\n",
            "|   APPL|  Chris|350.0|\n",
            "|   MSFT|   Tina|600.0|\n",
            "|   APPL|   Mike|750.0|\n",
            "|     FB|   Carl|870.0|\n",
            "+-------+-------+-----+\n",
            "\n"
          ]
        }
      ],
      "source": [
        "#Ordering the columns, default is ascending order\n"
      ]
    },
    {
      "cell_type": "code",
      "execution_count": null,
      "metadata": {
        "id": "fWzANiKtcEwW",
        "outputId": "6e315ea0-1b32-408a-f600-4d4bda0417fc"
      },
      "outputs": [
        {
          "name": "stdout",
          "output_type": "stream",
          "text": [
            "+-------+-------+-----+\n",
            "|Company| Person|Sales|\n",
            "+-------+-------+-----+\n",
            "|     FB|   Carl|870.0|\n",
            "|   APPL|   Mike|750.0|\n",
            "|   MSFT|   Tina|600.0|\n",
            "|     FB|  Sarah|350.0|\n",
            "|   APPL|  Chris|350.0|\n",
            "|   GOOG|  Frank|340.0|\n",
            "|   APPL|   John|250.0|\n",
            "|   MSFT|Vanessa|243.0|\n",
            "|   GOOG|    Sam|200.0|\n",
            "|   APPL|  Linda|130.0|\n",
            "|   MSFT|    Amy|124.0|\n",
            "|   GOOG|Charlie|120.0|\n",
            "+-------+-------+-----+\n",
            "\n"
          ]
        }
      ],
      "source": [
        "#Ordering in descending\n"
      ]
    },
    {
      "cell_type": "markdown",
      "metadata": {
        "id": "t8nXTDGvcEwW"
      },
      "source": [
        "## Dealing with Missing Data in Spark"
      ]
    },
    {
      "cell_type": "code",
      "execution_count": 179,
      "metadata": {
        "collapsed": true,
        "id": "c6FExNyocEwW"
      },
      "outputs": [],
      "source": [
        "spark = SparkSession.builder.appName('miss').getOrCreate()"
      ]
    },
    {
      "cell_type": "code",
      "source": [
        "from google.colab import files\n",
        "files.upload()"
      ],
      "metadata": {
        "id": "CSwoY-OM424C",
        "outputId": "412eb07e-4334-4764-8b69-3e757f2aee36",
        "colab": {
          "base_uri": "https://localhost:8080/",
          "height": 90
        }
      },
      "execution_count": 180,
      "outputs": [
        {
          "output_type": "display_data",
          "data": {
            "text/plain": [
              "<IPython.core.display.HTML object>"
            ],
            "text/html": [
              "\n",
              "     <input type=\"file\" id=\"files-0cd2a325-939e-4110-9012-56aad98a7b32\" name=\"files[]\" multiple disabled\n",
              "        style=\"border:none\" />\n",
              "     <output id=\"result-0cd2a325-939e-4110-9012-56aad98a7b32\">\n",
              "      Upload widget is only available when the cell has been executed in the\n",
              "      current browser session. Please rerun this cell to enable.\n",
              "      </output>\n",
              "      <script>// Copyright 2017 Google LLC\n",
              "//\n",
              "// Licensed under the Apache License, Version 2.0 (the \"License\");\n",
              "// you may not use this file except in compliance with the License.\n",
              "// You may obtain a copy of the License at\n",
              "//\n",
              "//      http://www.apache.org/licenses/LICENSE-2.0\n",
              "//\n",
              "// Unless required by applicable law or agreed to in writing, software\n",
              "// distributed under the License is distributed on an \"AS IS\" BASIS,\n",
              "// WITHOUT WARRANTIES OR CONDITIONS OF ANY KIND, either express or implied.\n",
              "// See the License for the specific language governing permissions and\n",
              "// limitations under the License.\n",
              "\n",
              "/**\n",
              " * @fileoverview Helpers for google.colab Python module.\n",
              " */\n",
              "(function(scope) {\n",
              "function span(text, styleAttributes = {}) {\n",
              "  const element = document.createElement('span');\n",
              "  element.textContent = text;\n",
              "  for (const key of Object.keys(styleAttributes)) {\n",
              "    element.style[key] = styleAttributes[key];\n",
              "  }\n",
              "  return element;\n",
              "}\n",
              "\n",
              "// Max number of bytes which will be uploaded at a time.\n",
              "const MAX_PAYLOAD_SIZE = 100 * 1024;\n",
              "\n",
              "function _uploadFiles(inputId, outputId) {\n",
              "  const steps = uploadFilesStep(inputId, outputId);\n",
              "  const outputElement = document.getElementById(outputId);\n",
              "  // Cache steps on the outputElement to make it available for the next call\n",
              "  // to uploadFilesContinue from Python.\n",
              "  outputElement.steps = steps;\n",
              "\n",
              "  return _uploadFilesContinue(outputId);\n",
              "}\n",
              "\n",
              "// This is roughly an async generator (not supported in the browser yet),\n",
              "// where there are multiple asynchronous steps and the Python side is going\n",
              "// to poll for completion of each step.\n",
              "// This uses a Promise to block the python side on completion of each step,\n",
              "// then passes the result of the previous step as the input to the next step.\n",
              "function _uploadFilesContinue(outputId) {\n",
              "  const outputElement = document.getElementById(outputId);\n",
              "  const steps = outputElement.steps;\n",
              "\n",
              "  const next = steps.next(outputElement.lastPromiseValue);\n",
              "  return Promise.resolve(next.value.promise).then((value) => {\n",
              "    // Cache the last promise value to make it available to the next\n",
              "    // step of the generator.\n",
              "    outputElement.lastPromiseValue = value;\n",
              "    return next.value.response;\n",
              "  });\n",
              "}\n",
              "\n",
              "/**\n",
              " * Generator function which is called between each async step of the upload\n",
              " * process.\n",
              " * @param {string} inputId Element ID of the input file picker element.\n",
              " * @param {string} outputId Element ID of the output display.\n",
              " * @return {!Iterable<!Object>} Iterable of next steps.\n",
              " */\n",
              "function* uploadFilesStep(inputId, outputId) {\n",
              "  const inputElement = document.getElementById(inputId);\n",
              "  inputElement.disabled = false;\n",
              "\n",
              "  const outputElement = document.getElementById(outputId);\n",
              "  outputElement.innerHTML = '';\n",
              "\n",
              "  const pickedPromise = new Promise((resolve) => {\n",
              "    inputElement.addEventListener('change', (e) => {\n",
              "      resolve(e.target.files);\n",
              "    });\n",
              "  });\n",
              "\n",
              "  const cancel = document.createElement('button');\n",
              "  inputElement.parentElement.appendChild(cancel);\n",
              "  cancel.textContent = 'Cancel upload';\n",
              "  const cancelPromise = new Promise((resolve) => {\n",
              "    cancel.onclick = () => {\n",
              "      resolve(null);\n",
              "    };\n",
              "  });\n",
              "\n",
              "  // Wait for the user to pick the files.\n",
              "  const files = yield {\n",
              "    promise: Promise.race([pickedPromise, cancelPromise]),\n",
              "    response: {\n",
              "      action: 'starting',\n",
              "    }\n",
              "  };\n",
              "\n",
              "  cancel.remove();\n",
              "\n",
              "  // Disable the input element since further picks are not allowed.\n",
              "  inputElement.disabled = true;\n",
              "\n",
              "  if (!files) {\n",
              "    return {\n",
              "      response: {\n",
              "        action: 'complete',\n",
              "      }\n",
              "    };\n",
              "  }\n",
              "\n",
              "  for (const file of files) {\n",
              "    const li = document.createElement('li');\n",
              "    li.append(span(file.name, {fontWeight: 'bold'}));\n",
              "    li.append(span(\n",
              "        `(${file.type || 'n/a'}) - ${file.size} bytes, ` +\n",
              "        `last modified: ${\n",
              "            file.lastModifiedDate ? file.lastModifiedDate.toLocaleDateString() :\n",
              "                                    'n/a'} - `));\n",
              "    const percent = span('0% done');\n",
              "    li.appendChild(percent);\n",
              "\n",
              "    outputElement.appendChild(li);\n",
              "\n",
              "    const fileDataPromise = new Promise((resolve) => {\n",
              "      const reader = new FileReader();\n",
              "      reader.onload = (e) => {\n",
              "        resolve(e.target.result);\n",
              "      };\n",
              "      reader.readAsArrayBuffer(file);\n",
              "    });\n",
              "    // Wait for the data to be ready.\n",
              "    let fileData = yield {\n",
              "      promise: fileDataPromise,\n",
              "      response: {\n",
              "        action: 'continue',\n",
              "      }\n",
              "    };\n",
              "\n",
              "    // Use a chunked sending to avoid message size limits. See b/62115660.\n",
              "    let position = 0;\n",
              "    do {\n",
              "      const length = Math.min(fileData.byteLength - position, MAX_PAYLOAD_SIZE);\n",
              "      const chunk = new Uint8Array(fileData, position, length);\n",
              "      position += length;\n",
              "\n",
              "      const base64 = btoa(String.fromCharCode.apply(null, chunk));\n",
              "      yield {\n",
              "        response: {\n",
              "          action: 'append',\n",
              "          file: file.name,\n",
              "          data: base64,\n",
              "        },\n",
              "      };\n",
              "\n",
              "      let percentDone = fileData.byteLength === 0 ?\n",
              "          100 :\n",
              "          Math.round((position / fileData.byteLength) * 100);\n",
              "      percent.textContent = `${percentDone}% done`;\n",
              "\n",
              "    } while (position < fileData.byteLength);\n",
              "  }\n",
              "\n",
              "  // All done.\n",
              "  yield {\n",
              "    response: {\n",
              "      action: 'complete',\n",
              "    }\n",
              "  };\n",
              "}\n",
              "\n",
              "scope.google = scope.google || {};\n",
              "scope.google.colab = scope.google.colab || {};\n",
              "scope.google.colab._files = {\n",
              "  _uploadFiles,\n",
              "  _uploadFilesContinue,\n",
              "};\n",
              "})(self);\n",
              "</script> "
            ]
          },
          "metadata": {}
        },
        {
          "output_type": "stream",
          "name": "stdout",
          "text": [
            "Saving ContainsNull.csv to ContainsNull.csv\n"
          ]
        },
        {
          "output_type": "execute_result",
          "data": {
            "text/plain": [
              "{'ContainsNull.csv': b'Id,Name,Sales\\nemp1,John,\\nemp2,,\\nemp3,,345.0\\nemp4,Cindy,456.0\\n'}"
            ]
          },
          "metadata": {},
          "execution_count": 180
        }
      ]
    },
    {
      "cell_type": "code",
      "execution_count": 181,
      "metadata": {
        "collapsed": true,
        "id": "2YdLq1OucEwW"
      },
      "outputs": [],
      "source": [
        "df = spark.read.csv('ContainsNull.csv', header=True, inferSchema=True)"
      ]
    },
    {
      "cell_type": "code",
      "execution_count": 182,
      "metadata": {
        "id": "3qRrL2APcEwX",
        "outputId": "d5cab355-814a-4d00-d30a-eef11cf262b0",
        "colab": {
          "base_uri": "https://localhost:8080/"
        }
      },
      "outputs": [
        {
          "output_type": "stream",
          "name": "stdout",
          "text": [
            "+----+-----+-----+\n",
            "|  Id| Name|Sales|\n",
            "+----+-----+-----+\n",
            "|emp1| John| null|\n",
            "|emp2| null| null|\n",
            "|emp3| null|345.0|\n",
            "|emp4|Cindy|456.0|\n",
            "+----+-----+-----+\n",
            "\n"
          ]
        }
      ],
      "source": [
        "df.show()"
      ]
    },
    {
      "cell_type": "code",
      "execution_count": 184,
      "metadata": {
        "id": "J6h9VRK4cEwX",
        "outputId": "693c242c-1be5-46e1-e0e6-924a7e6cb00f",
        "colab": {
          "base_uri": "https://localhost:8080/"
        }
      },
      "outputs": [
        {
          "output_type": "stream",
          "name": "stdout",
          "text": [
            "+----+-----+-----+\n",
            "|  Id| Name|Sales|\n",
            "+----+-----+-----+\n",
            "|emp4|Cindy|456.0|\n",
            "+----+-----+-----+\n",
            "\n"
          ]
        }
      ],
      "source": [
        "#You can drop all the missing data\n",
        "df_no_missing_data = df.dropna()\n",
        "df_no_missing_data.show()"
      ]
    },
    {
      "cell_type": "code",
      "execution_count": 185,
      "metadata": {
        "id": "RcERUxZccEwX",
        "outputId": "3a88231b-79d3-4218-fc78-5b0c576ac206",
        "colab": {
          "base_uri": "https://localhost:8080/"
        }
      },
      "outputs": [
        {
          "output_type": "stream",
          "name": "stdout",
          "text": [
            "+----+-----+-----+\n",
            "|  Id| Name|Sales|\n",
            "+----+-----+-----+\n",
            "|emp1| John| null|\n",
            "|emp2| null| null|\n",
            "|emp3| null|345.0|\n",
            "|emp4|Cindy|456.0|\n",
            "+----+-----+-----+\n",
            "\n"
          ]
        }
      ],
      "source": [
        "df.show()"
      ]
    },
    {
      "cell_type": "code",
      "execution_count": 186,
      "metadata": {
        "id": "-mhSaWJ0cEwX",
        "outputId": "6774e097-4091-41a0-a7db-c413ea087d75",
        "colab": {
          "base_uri": "https://localhost:8080/"
        }
      },
      "outputs": [
        {
          "output_type": "stream",
          "name": "stdout",
          "text": [
            "+----+-----+-----+\n",
            "|  Id| Name|Sales|\n",
            "+----+-----+-----+\n",
            "|emp1| John| null|\n",
            "|emp3| null|345.0|\n",
            "|emp4|Cindy|456.0|\n",
            "+----+-----+-----+\n",
            "\n"
          ]
        }
      ],
      "source": [
        "#When we specify thresh=2, it looks at the row if it contains more than 2 non-null values, it drops\n",
        "df_thresh_2 = df.dropna(thresh=2)\n",
        "df_thresh_2.show()"
      ]
    },
    {
      "cell_type": "code",
      "execution_count": 188,
      "metadata": {
        "id": "ILs_YdbGcEwX",
        "outputId": "6f0c024a-0b6c-4864-dd24-25c048e34d9e",
        "colab": {
          "base_uri": "https://localhost:8080/"
        }
      },
      "outputs": [
        {
          "output_type": "stream",
          "name": "stdout",
          "text": [
            "+----+-----+-----+\n",
            "|  Id| Name|Sales|\n",
            "+----+-----+-----+\n",
            "|emp4|Cindy|456.0|\n",
            "+----+-----+-----+\n",
            "\n"
          ]
        }
      ],
      "source": [
        "#By default how is set to 'any', meaning drop if there are any null values\n",
        "df_no_missing_data.show()"
      ]
    },
    {
      "cell_type": "code",
      "execution_count": 189,
      "metadata": {
        "id": "BKi2cXEMcEwX",
        "outputId": "e58ca92f-9219-406c-85c8-32c5c0ed39e0",
        "colab": {
          "base_uri": "https://localhost:8080/"
        }
      },
      "outputs": [
        {
          "output_type": "stream",
          "name": "stdout",
          "text": [
            "+----+-----+-----+\n",
            "|  Id| Name|Sales|\n",
            "+----+-----+-----+\n",
            "|emp1| John| null|\n",
            "|emp2| null| null|\n",
            "|emp3| null|345.0|\n",
            "|emp4|Cindy|456.0|\n",
            "+----+-----+-----+\n",
            "\n"
          ]
        }
      ],
      "source": [
        "#We can change the how to 'all', if row has all null values only then drop\n",
        "\n",
        "df_drop_all_null = df.dropna(how='all')\n",
        "df_drop_all_null.show()\n"
      ]
    },
    {
      "cell_type": "code",
      "execution_count": 190,
      "metadata": {
        "id": "rfra4-TjcEwX",
        "outputId": "9b07cb78-4754-4d59-8938-fa2080693c22",
        "colab": {
          "base_uri": "https://localhost:8080/"
        }
      },
      "outputs": [
        {
          "output_type": "stream",
          "name": "stdout",
          "text": [
            "+----+-----+-----+\n",
            "|  Id| Name|Sales|\n",
            "+----+-----+-----+\n",
            "|emp3| null|345.0|\n",
            "|emp4|Cindy|456.0|\n",
            "+----+-----+-----+\n",
            "\n"
          ]
        }
      ],
      "source": [
        "#The subset method will only drop if Sales colum has null values\n",
        "df_drop_sales_null = df.dropna(subset=[\"Sales\"])\n",
        "df_drop_sales_null.show()"
      ]
    },
    {
      "cell_type": "code",
      "execution_count": 191,
      "metadata": {
        "id": "-eJQUoN-cEwX",
        "outputId": "700289a6-01ae-4d1c-cb31-6b2d9b8b22d2",
        "colab": {
          "base_uri": "https://localhost:8080/"
        }
      },
      "outputs": [
        {
          "output_type": "stream",
          "name": "stdout",
          "text": [
            "root\n",
            " |-- Id: string (nullable = true)\n",
            " |-- Name: string (nullable = true)\n",
            " |-- Sales: double (nullable = true)\n",
            "\n"
          ]
        }
      ],
      "source": [
        "df.printSchema()"
      ]
    },
    {
      "cell_type": "code",
      "source": [
        "df_filled = df.fillna(value='FILL VALUE', subset=[\"Sales\"])\n",
        "\n",
        "# Show the resulting DataFrame\n",
        "df_filled.show()"
      ],
      "metadata": {
        "id": "lhKNSBT-5pa6",
        "outputId": "c62b6194-3266-4dda-8092-c918513f1f89",
        "colab": {
          "base_uri": "https://localhost:8080/"
        }
      },
      "execution_count": 194,
      "outputs": [
        {
          "output_type": "stream",
          "name": "stdout",
          "text": [
            "+----+-----+-----+\n",
            "|  Id| Name|Sales|\n",
            "+----+-----+-----+\n",
            "|emp1| John| null|\n",
            "|emp2| null| null|\n",
            "|emp3| null|345.0|\n",
            "|emp4|Cindy|456.0|\n",
            "+----+-----+-----+\n",
            "\n"
          ]
        }
      ]
    },
    {
      "cell_type": "code",
      "execution_count": 195,
      "metadata": {
        "id": "ukK_EdUvcEwX",
        "outputId": "27dce326-b146-4708-8131-38da9e271093",
        "colab": {
          "base_uri": "https://localhost:8080/"
        }
      },
      "outputs": [
        {
          "output_type": "stream",
          "name": "stdout",
          "text": [
            "+----+-----+-----+\n",
            "|  Id| Name|Sales|\n",
            "+----+-----+-----+\n",
            "|emp1| John| null|\n",
            "|emp2| null| null|\n",
            "|emp3| null|345.0|\n",
            "|emp4|Cindy|456.0|\n",
            "+----+-----+-----+\n",
            "\n"
          ]
        }
      ],
      "source": [
        "#We can also fill NULL values\n",
        "df_filled = df.fillna(value=\"FILL VALUE\", subset=[\"Sales\"])\n",
        "\n",
        "# Show the resulting DataFrame\n",
        "df_filled.show()"
      ]
    },
    {
      "cell_type": "code",
      "execution_count": 196,
      "metadata": {
        "id": "Rbi93IdvcEwX",
        "outputId": "955d4166-1b73-49be-ab26-c2875b3a3fd9",
        "colab": {
          "base_uri": "https://localhost:8080/"
        }
      },
      "outputs": [
        {
          "output_type": "stream",
          "name": "stdout",
          "text": [
            "+----+-----+-----+\n",
            "|  Id| Name|Sales|\n",
            "+----+-----+-----+\n",
            "|emp1| John| null|\n",
            "|emp2| null| null|\n",
            "|emp3| null|345.0|\n",
            "|emp4|Cindy|456.0|\n",
            "+----+-----+-----+\n",
            "\n"
          ]
        }
      ],
      "source": [
        "#Spark is smart enough to recognize string datatype and only fill\n",
        "#in string datatype column, similar thing it does for numeric values\n",
        "df_filled.show()"
      ]
    },
    {
      "cell_type": "code",
      "execution_count": 197,
      "metadata": {
        "collapsed": true,
        "id": "fmALjYPXcEwY"
      },
      "outputs": [],
      "source": [
        "from pyspark.sql.functions import mean"
      ]
    },
    {
      "cell_type": "code",
      "execution_count": 198,
      "metadata": {
        "collapsed": true,
        "id": "OlnX2dJfcEwY"
      },
      "outputs": [],
      "source": [
        "mean_val = df.select(mean(df['Sales'])).collect()"
      ]
    },
    {
      "cell_type": "code",
      "execution_count": 199,
      "metadata": {
        "id": "HodCWQUpcEwY",
        "outputId": "dc7c6ff2-f797-4699-caef-60e0a1ee250e",
        "colab": {
          "base_uri": "https://localhost:8080/"
        }
      },
      "outputs": [
        {
          "output_type": "execute_result",
          "data": {
            "text/plain": [
              "Row(avg(Sales)=400.5)"
            ]
          },
          "metadata": {},
          "execution_count": 199
        }
      ],
      "source": [
        "mean_val[0]"
      ]
    },
    {
      "cell_type": "code",
      "execution_count": 200,
      "metadata": {
        "id": "I264p1xCcEwY",
        "outputId": "38676fe7-87c7-4e84-c146-b72e9f82edda",
        "colab": {
          "base_uri": "https://localhost:8080/"
        }
      },
      "outputs": [
        {
          "output_type": "execute_result",
          "data": {
            "text/plain": [
              "400.5"
            ]
          },
          "metadata": {},
          "execution_count": 200
        }
      ],
      "source": [
        "mean_val[0][0]"
      ]
    },
    {
      "cell_type": "code",
      "execution_count": 201,
      "metadata": {
        "collapsed": true,
        "id": "KNsBkDVpcEwY"
      },
      "outputs": [],
      "source": [
        "mean_sales = mean_val[0][0]"
      ]
    },
    {
      "cell_type": "code",
      "execution_count": 202,
      "metadata": {
        "id": "vnPlxfGccEwY",
        "outputId": "059c6f9b-5ec9-447c-92e0-6160eff22dfe",
        "colab": {
          "base_uri": "https://localhost:8080/"
        }
      },
      "outputs": [
        {
          "output_type": "stream",
          "name": "stdout",
          "text": [
            "+----+-----+-----+\n",
            "|  Id| Name|Sales|\n",
            "+----+-----+-----+\n",
            "|emp1| John|400.5|\n",
            "|emp2| null|400.5|\n",
            "|emp3| null|345.0|\n",
            "|emp4|Cindy|456.0|\n",
            "+----+-----+-----+\n",
            "\n"
          ]
        }
      ],
      "source": [
        "df.na.fill(mean_sales, ['Sales']).show()"
      ]
    },
    {
      "cell_type": "code",
      "execution_count": 203,
      "metadata": {
        "id": "mKHdBcLLcEwY",
        "outputId": "8c58924b-d008-4b2c-d1fa-9de5adff108b",
        "colab": {
          "base_uri": "https://localhost:8080/"
        }
      },
      "outputs": [
        {
          "output_type": "stream",
          "name": "stdout",
          "text": [
            "+----+-----+-----+\n",
            "|  Id| Name|Sales|\n",
            "+----+-----+-----+\n",
            "|emp1| John|400.5|\n",
            "|emp2| null|400.5|\n",
            "|emp3| null|345.0|\n",
            "|emp4|Cindy|456.0|\n",
            "+----+-----+-----+\n",
            "\n"
          ]
        }
      ],
      "source": [
        "#Doing all this in one line\n",
        "df.na.fill(mean_sales, ['Sales']).show()"
      ]
    },
    {
      "cell_type": "markdown",
      "metadata": {
        "id": "eL_ysRsFcEwY"
      },
      "source": [
        "## Dates and Timestamps"
      ]
    },
    {
      "cell_type": "code",
      "execution_count": 204,
      "metadata": {
        "collapsed": true,
        "id": "RcpnXMT1cEwY"
      },
      "outputs": [],
      "source": [
        "spark = SparkSession.builder.appName('dates').getOrCreate()"
      ]
    },
    {
      "cell_type": "code",
      "execution_count": 205,
      "metadata": {
        "collapsed": true,
        "id": "3CVbrrQEcEwY"
      },
      "outputs": [],
      "source": [
        "df = spark.read.csv('appl_stock.csv', header=True, inferSchema=True)"
      ]
    },
    {
      "cell_type": "code",
      "execution_count": 206,
      "metadata": {
        "id": "4R44xVW8cEwY",
        "outputId": "0a490b1d-4f5c-41cb-a246-12ce63efed0e",
        "colab": {
          "base_uri": "https://localhost:8080/"
        }
      },
      "outputs": [
        {
          "output_type": "execute_result",
          "data": {
            "text/plain": [
              "1762"
            ]
          },
          "metadata": {},
          "execution_count": 206
        }
      ],
      "source": [
        "df.count()"
      ]
    },
    {
      "cell_type": "code",
      "execution_count": 207,
      "metadata": {
        "id": "A6qmxSmScEwY",
        "outputId": "bdea83d6-6f8f-4cb4-cad4-d308d425243e",
        "colab": {
          "base_uri": "https://localhost:8080/"
        }
      },
      "outputs": [
        {
          "output_type": "execute_result",
          "data": {
            "text/plain": [
              "[Row(Date='2010-01-04', Open=213.429998, High=214.499996, Low=212.38000099999996, Close=214.009998, Volume=123432400, Adj Close=27.727039)]"
            ]
          },
          "metadata": {},
          "execution_count": 207
        }
      ],
      "source": [
        "df.head(1)\n",
        "#datetime object in Date column, this looks messy here"
      ]
    },
    {
      "cell_type": "code",
      "execution_count": 208,
      "metadata": {
        "id": "aQpcIJ4PcEwY",
        "outputId": "b9381340-c691-4048-d661-a60e0ed5476a",
        "colab": {
          "base_uri": "https://localhost:8080/"
        }
      },
      "outputs": [
        {
          "output_type": "stream",
          "name": "stdout",
          "text": [
            "+----------+------------------+\n",
            "|      Date|              Open|\n",
            "+----------+------------------+\n",
            "|2010-01-04|        213.429998|\n",
            "|2010-01-05|        214.599998|\n",
            "|2010-01-06|        214.379993|\n",
            "|2010-01-07|            211.75|\n",
            "|2010-01-08|        210.299994|\n",
            "|2010-01-11|212.79999700000002|\n",
            "|2010-01-12|209.18999499999998|\n",
            "|2010-01-13|        207.870005|\n",
            "|2010-01-14|210.11000299999998|\n",
            "|2010-01-15|210.92999500000002|\n",
            "|2010-01-19|        208.330002|\n",
            "|2010-01-20|        214.910006|\n",
            "|2010-01-21|        212.079994|\n",
            "|2010-01-22|206.78000600000001|\n",
            "|2010-01-25|202.51000200000001|\n",
            "|2010-01-26|205.95000100000001|\n",
            "|2010-01-27|        206.849995|\n",
            "|2010-01-28|        204.930004|\n",
            "|2010-01-29|        201.079996|\n",
            "|2010-02-01|192.36999699999998|\n",
            "+----------+------------------+\n",
            "only showing top 20 rows\n",
            "\n"
          ]
        }
      ],
      "source": [
        "df.select(['Date', 'Open']).show()"
      ]
    },
    {
      "cell_type": "code",
      "execution_count": 209,
      "metadata": {
        "collapsed": true,
        "id": "d9kjMwfPcEwY"
      },
      "outputs": [],
      "source": [
        "from pyspark.sql.functions import (dayofmonth, hour,\n",
        "                                   dayofyear, month,\n",
        "                                   year, weekofyear,\n",
        "                                  format_number, date_format)"
      ]
    },
    {
      "cell_type": "code",
      "execution_count": 210,
      "metadata": {
        "id": "lbIl60s5cEwZ",
        "outputId": "54a8ac52-9bfb-41c6-f49f-6f8fe482e466",
        "colab": {
          "base_uri": "https://localhost:8080/"
        }
      },
      "outputs": [
        {
          "output_type": "stream",
          "name": "stdout",
          "text": [
            "+----------------+\n",
            "|dayofmonth(Date)|\n",
            "+----------------+\n",
            "|               4|\n",
            "|               5|\n",
            "|               6|\n",
            "|               7|\n",
            "|               8|\n",
            "|              11|\n",
            "|              12|\n",
            "|              13|\n",
            "|              14|\n",
            "|              15|\n",
            "|              19|\n",
            "|              20|\n",
            "|              21|\n",
            "|              22|\n",
            "|              25|\n",
            "|              26|\n",
            "|              27|\n",
            "|              28|\n",
            "|              29|\n",
            "|               1|\n",
            "+----------------+\n",
            "only showing top 20 rows\n",
            "\n"
          ]
        }
      ],
      "source": [
        "#Whenever you are using any pyspark imported function,\n",
        "#you can directly use them in select on your column\n",
        "df.select(dayofmonth(df['Date'])).show()"
      ]
    },
    {
      "cell_type": "code",
      "execution_count": 211,
      "metadata": {
        "id": "G8lBgPEJcEwZ",
        "outputId": "28faaff5-2421-4276-ba68-77b64652aeb9",
        "colab": {
          "base_uri": "https://localhost:8080/"
        }
      },
      "outputs": [
        {
          "output_type": "stream",
          "name": "stdout",
          "text": [
            "+----------+\n",
            "|hour(Date)|\n",
            "+----------+\n",
            "|         0|\n",
            "|         0|\n",
            "|         0|\n",
            "|         0|\n",
            "|         0|\n",
            "|         0|\n",
            "|         0|\n",
            "|         0|\n",
            "|         0|\n",
            "|         0|\n",
            "|         0|\n",
            "|         0|\n",
            "|         0|\n",
            "|         0|\n",
            "|         0|\n",
            "|         0|\n",
            "|         0|\n",
            "|         0|\n",
            "|         0|\n",
            "|         0|\n",
            "+----------+\n",
            "only showing top 20 rows\n",
            "\n"
          ]
        }
      ],
      "source": [
        "df.select(hour(df['Date'])).show()"
      ]
    },
    {
      "cell_type": "code",
      "execution_count": 212,
      "metadata": {
        "id": "dX7TEADRcEwZ",
        "outputId": "edec6cc6-6bdf-447f-e8c8-26614b58d261",
        "colab": {
          "base_uri": "https://localhost:8080/"
        }
      },
      "outputs": [
        {
          "output_type": "stream",
          "name": "stdout",
          "text": [
            "+-----------+\n",
            "|month(Date)|\n",
            "+-----------+\n",
            "|          1|\n",
            "|          1|\n",
            "|          1|\n",
            "|          1|\n",
            "|          1|\n",
            "|          1|\n",
            "|          1|\n",
            "|          1|\n",
            "|          1|\n",
            "|          1|\n",
            "|          1|\n",
            "|          1|\n",
            "|          1|\n",
            "|          1|\n",
            "|          1|\n",
            "|          1|\n",
            "|          1|\n",
            "|          1|\n",
            "|          1|\n",
            "|          2|\n",
            "+-----------+\n",
            "only showing top 20 rows\n",
            "\n"
          ]
        }
      ],
      "source": [
        "df.select(month(df['Date'])).show()"
      ]
    },
    {
      "cell_type": "code",
      "source": [
        "df.show()"
      ],
      "metadata": {
        "id": "Jtgzjswc7Tu_",
        "outputId": "dc6863c5-5821-41b7-aa2f-6df3dcf17227",
        "colab": {
          "base_uri": "https://localhost:8080/"
        }
      },
      "execution_count": 217,
      "outputs": [
        {
          "output_type": "stream",
          "name": "stdout",
          "text": [
            "+----------+------------------+------------------+------------------+------------------+---------+------------------+\n",
            "|      Date|              Open|              High|               Low|             Close|   Volume|         Adj Close|\n",
            "+----------+------------------+------------------+------------------+------------------+---------+------------------+\n",
            "|2010-01-04|        213.429998|        214.499996|212.38000099999996|        214.009998|123432400|         27.727039|\n",
            "|2010-01-05|        214.599998|        215.589994|        213.249994|        214.379993|150476200|27.774976000000002|\n",
            "|2010-01-06|        214.379993|            215.23|        210.750004|        210.969995|138040000|27.333178000000004|\n",
            "|2010-01-07|            211.75|        212.000006|        209.050005|            210.58|119282800|          27.28265|\n",
            "|2010-01-08|        210.299994|        212.000006|209.06000500000002|211.98000499999998|111902700|         27.464034|\n",
            "|2010-01-11|212.79999700000002|        213.000002|        208.450005|210.11000299999998|115557400|         27.221758|\n",
            "|2010-01-12|209.18999499999998|209.76999500000002|        206.419998|        207.720001|148614900|          26.91211|\n",
            "|2010-01-13|        207.870005|210.92999500000002|        204.099998|        210.650002|151473000|          27.29172|\n",
            "|2010-01-14|210.11000299999998|210.45999700000002|        209.020004|            209.43|108223500|         27.133657|\n",
            "|2010-01-15|210.92999500000002|211.59999700000003|        205.869999|            205.93|148516900|26.680197999999997|\n",
            "|2010-01-19|        208.330002|215.18999900000003|        207.240004|        215.039995|182501900|27.860484999999997|\n",
            "|2010-01-20|        214.910006|        215.549994|        209.500002|            211.73|153038200|         27.431644|\n",
            "|2010-01-21|        212.079994|213.30999599999998|        207.210003|        208.069996|152038600|         26.957455|\n",
            "|2010-01-22|206.78000600000001|        207.499996|            197.16|            197.75|220441900|         25.620401|\n",
            "|2010-01-25|202.51000200000001|        204.699999|        200.190002|        203.070002|266424900|26.309658000000002|\n",
            "|2010-01-26|205.95000100000001|        213.710005|        202.580004|        205.940001|466777500|         26.681494|\n",
            "|2010-01-27|        206.849995|            210.58|        199.530001|        207.880005|430642100|26.932840000000002|\n",
            "|2010-01-28|        204.930004|        205.500004|        198.699995|        199.289995|293375600|25.819922000000002|\n",
            "|2010-01-29|        201.079996|        202.199995|        190.250002|        192.060003|311488100|         24.883208|\n",
            "|2010-02-01|192.36999699999998|             196.0|191.29999899999999|        194.729998|187469100|         25.229131|\n",
            "+----------+------------------+------------------+------------------+------------------+---------+------------------+\n",
            "only showing top 20 rows\n",
            "\n"
          ]
        }
      ]
    },
    {
      "cell_type": "code",
      "source": [
        "from pyspark.sql.functions import col, year, avg\n",
        "\n",
        "columns = [\"Date\", \"Close\"]\n",
        "\n",
        "# Convert the \"Date\" column to a date type\n",
        "df = df.withColumn(\"Date\", col(\"Date\").cast(\"date\"))\n",
        "\n",
        "# Extract the year from the \"Date\" column using the year function\n",
        "df = df.withColumn(\"Year\", year(\"Date\"))\n",
        "\n",
        "# Group by year and calculate the average closing price per year\n",
        "average_closing_per_year = (\n",
        "    df.groupBy(\"Year\")\n",
        "    .agg(avg(\"Close\").alias(\"AverageClosingPrice\"))\n",
        "    .orderBy(\"Year\")\n",
        ")\n",
        "\n",
        "# Show the resulting DataFrame\n",
        "average_closing_per_year.show()"
      ],
      "metadata": {
        "id": "S-1064lr7fCn",
        "outputId": "ca9cc508-c995-424c-cc63-8c657d8afa1a",
        "colab": {
          "base_uri": "https://localhost:8080/"
        }
      },
      "execution_count": 222,
      "outputs": [
        {
          "output_type": "stream",
          "name": "stdout",
          "text": [
            "+----+-------------------+\n",
            "|Year|AverageClosingPrice|\n",
            "+----+-------------------+\n",
            "|2010|  259.8424600000002|\n",
            "|2011| 364.00432532142867|\n",
            "|2012|  576.0497195640002|\n",
            "|2013|  472.6348802857143|\n",
            "|2014|  295.4023416507935|\n",
            "|2015| 120.03999980555547|\n",
            "|2016| 104.60400786904763|\n",
            "+----+-------------------+\n",
            "\n"
          ]
        }
      ]
    },
    {
      "cell_type": "code",
      "execution_count": 224,
      "metadata": {
        "id": "5Fiw0pTicEwZ",
        "outputId": "c252f0dd-4f57-41aa-fbd5-a9f4b5c31d37",
        "colab": {
          "base_uri": "https://localhost:8080/"
        }
      },
      "outputs": [
        {
          "output_type": "stream",
          "name": "stdout",
          "text": [
            "+----+------------------+\n",
            "|Year|        year(Date)|\n",
            "+----+------------------+\n",
            "|2010| 259.8424600000002|\n",
            "|2011|364.00432532142867|\n",
            "|2012| 576.0497195640002|\n",
            "|2013| 472.6348802857143|\n",
            "|2014| 295.4023416507935|\n",
            "|2015|120.03999980555547|\n",
            "|2016|104.60400786904763|\n",
            "+----+------------------+\n",
            "\n"
          ]
        }
      ],
      "source": [
        "## May be you want to know average closing price per year\n",
        "from pyspark.sql.functions import col, year, avg\n",
        "columns = [\"Date\", \"Close\"]\n",
        "df = df.withColumn(\"Date\", col(\"Date\").cast(\"date\"))\n",
        "df = df.withColumn(\"Year\", year(\"Date\"))\n",
        "average_closing_per_year = (\n",
        "    df.groupBy(\"Year\")\n",
        "    .agg(avg(\"Close\").alias(\"year(Date)\"))\n",
        "    .orderBy(\"Year\")\n",
        ")\n",
        "average_closing_per_year.show()\n"
      ]
    },
    {
      "cell_type": "code",
      "execution_count": 226,
      "metadata": {
        "id": "TBVBVlGScEwZ",
        "outputId": "5ebeef08-99a2-44d9-88ab-3ae61fb3f820",
        "colab": {
          "base_uri": "https://localhost:8080/"
        }
      },
      "outputs": [
        {
          "output_type": "stream",
          "name": "stdout",
          "text": [
            "+----------+------------------+------------------+------------------+------------------+---------+------------------+----+\n",
            "|      Date|              Open|              High|               Low|             Close|   Volume|         Adj Close|Year|\n",
            "+----------+------------------+------------------+------------------+------------------+---------+------------------+----+\n",
            "|2010-01-04|        213.429998|        214.499996|212.38000099999996|        214.009998|123432400|         27.727039|2010|\n",
            "|2010-01-05|        214.599998|        215.589994|        213.249994|        214.379993|150476200|27.774976000000002|2010|\n",
            "|2010-01-06|        214.379993|            215.23|        210.750004|        210.969995|138040000|27.333178000000004|2010|\n",
            "|2010-01-07|            211.75|        212.000006|        209.050005|            210.58|119282800|          27.28265|2010|\n",
            "|2010-01-08|        210.299994|        212.000006|209.06000500000002|211.98000499999998|111902700|         27.464034|2010|\n",
            "|2010-01-11|212.79999700000002|        213.000002|        208.450005|210.11000299999998|115557400|         27.221758|2010|\n",
            "|2010-01-12|209.18999499999998|209.76999500000002|        206.419998|        207.720001|148614900|          26.91211|2010|\n",
            "|2010-01-13|        207.870005|210.92999500000002|        204.099998|        210.650002|151473000|          27.29172|2010|\n",
            "|2010-01-14|210.11000299999998|210.45999700000002|        209.020004|            209.43|108223500|         27.133657|2010|\n",
            "|2010-01-15|210.92999500000002|211.59999700000003|        205.869999|            205.93|148516900|26.680197999999997|2010|\n",
            "|2010-01-19|        208.330002|215.18999900000003|        207.240004|        215.039995|182501900|27.860484999999997|2010|\n",
            "|2010-01-20|        214.910006|        215.549994|        209.500002|            211.73|153038200|         27.431644|2010|\n",
            "|2010-01-21|        212.079994|213.30999599999998|        207.210003|        208.069996|152038600|         26.957455|2010|\n",
            "|2010-01-22|206.78000600000001|        207.499996|            197.16|            197.75|220441900|         25.620401|2010|\n",
            "|2010-01-25|202.51000200000001|        204.699999|        200.190002|        203.070002|266424900|26.309658000000002|2010|\n",
            "|2010-01-26|205.95000100000001|        213.710005|        202.580004|        205.940001|466777500|         26.681494|2010|\n",
            "|2010-01-27|        206.849995|            210.58|        199.530001|        207.880005|430642100|26.932840000000002|2010|\n",
            "|2010-01-28|        204.930004|        205.500004|        198.699995|        199.289995|293375600|25.819922000000002|2010|\n",
            "|2010-01-29|        201.079996|        202.199995|        190.250002|        192.060003|311488100|         24.883208|2010|\n",
            "|2010-02-01|192.36999699999998|             196.0|191.29999899999999|        194.729998|187469100|         25.229131|2010|\n",
            "+----------+------------------+------------------+------------------+------------------+---------+------------------+----+\n",
            "only showing top 20 rows\n",
            "\n"
          ]
        }
      ],
      "source": [
        "# Take the year\n",
        "df.show()"
      ]
    },
    {
      "cell_type": "code",
      "source": [
        "df = df.withColumn(\"Year\", year(\"Date\"))\n",
        "\n",
        "# Group by year and calculate the average values\n",
        "average_per_year = (\n",
        "    df.groupBy(\"Year\")\n",
        "    .agg(\n",
        "        avg(\"Open\").alias(\"avg(Open)\"),\n",
        "        avg(\"High\").alias(\"avg(High)\"),\n",
        "        avg(\"Low\").alias(\"avg(Low)\"),\n",
        "        avg(\"Close\").alias(\"avg(Close)\"),\n",
        "        avg(\"Volume\").alias(\"avg(Volume)\"),\n",
        "        avg(\"Adj Close\").alias(\"avg(Adj Close)\"),\n",
        "        avg(\"Year\").alias(\"avg(Year)\")\n",
        "    )\n",
        "    .orderBy(\"Year\")\n",
        ")\n",
        "\n",
        "# Show the resulting DataFrame\n",
        "average_per_year.show(truncate=False)"
      ],
      "metadata": {
        "id": "n5HuZFFd8nA-",
        "outputId": "1b555c80-1c3c-452c-caaa-2918f96c67ea",
        "colab": {
          "base_uri": "https://localhost:8080/"
        }
      },
      "execution_count": 230,
      "outputs": [
        {
          "output_type": "stream",
          "name": "stdout",
          "text": [
            "+----+------------------+------------------+------------------+------------------+--------------------+------------------+---------+\n",
            "|Year|avg(Open)         |avg(High)         |avg(Low)          |avg(Close)        |avg(Volume)         |avg(Adj Close)    |avg(Year)|\n",
            "+----+------------------+------------------+------------------+------------------+--------------------+------------------+---------+\n",
            "|2010|259.9576190992064 |262.36880881349214|256.84761791269847|259.8424600000002 |1.4982631666666666E8|33.665072424603196|2010.0   |\n",
            "|2011|364.06142773412705|367.4235704880951 |360.29769878174613|364.00432532142867|1.2307474166666667E8|47.16023692063492 |2011.0   |\n",
            "|2012|576.652720788     |581.8254008040001 |569.9211606079999 |576.0497195640002 |1.319642044E8       |74.81383696800002 |2012.0   |\n",
            "|2013|473.1281355634922 |477.6389272301587 |468.24710264682557|472.6348802857143 |1.016087E8          |62.61798788492063 |2013.0   |\n",
            "|2014|295.1426195357143 |297.56103184523823|292.9949599801587 |295.4023416507935 |6.315273055555555E7 |87.63583323809523 |2014.0   |\n",
            "|2015|120.17575393253965|121.24452385714291|118.8630954325397 |120.03999980555547|5.18378869047619E7  |115.96740080555561|2015.0   |\n",
            "|2016|104.50777772619044|105.4271825436508 |103.69027771825397|104.60400786904763|3.84153623015873E7  |103.15032854761901|2016.0   |\n",
            "+----+------------------+------------------+------------------+------------------+--------------------+------------------+---------+\n",
            "\n"
          ]
        }
      ]
    },
    {
      "cell_type": "code",
      "execution_count": 231,
      "metadata": {
        "id": "Y-0uPyS0cEwZ",
        "outputId": "03b17f95-e29e-4cd3-bb37-c22e77d2e0a7",
        "colab": {
          "base_uri": "https://localhost:8080/"
        }
      },
      "outputs": [
        {
          "output_type": "stream",
          "name": "stdout",
          "text": [
            "+----+------------------+------------------+------------------+------------------+--------------------+------------------+---------+\n",
            "|Year|avg(Open)         |avg(High)         |avg(Low)          |avg(Close)        |avg(Volume)         |avg(Adj Close)    |avg(Year)|\n",
            "+----+------------------+------------------+------------------+------------------+--------------------+------------------+---------+\n",
            "|2010|259.9576190992064 |262.36880881349214|256.84761791269847|259.8424600000002 |1.4982631666666666E8|33.665072424603196|2010.0   |\n",
            "|2011|364.06142773412705|367.4235704880951 |360.29769878174613|364.00432532142867|1.2307474166666667E8|47.16023692063492 |2011.0   |\n",
            "|2012|576.652720788     |581.8254008040001 |569.9211606079999 |576.0497195640002 |1.319642044E8       |74.81383696800002 |2012.0   |\n",
            "|2013|473.1281355634922 |477.6389272301587 |468.24710264682557|472.6348802857143 |1.016087E8          |62.61798788492063 |2013.0   |\n",
            "|2014|295.1426195357143 |297.56103184523823|292.9949599801587 |295.4023416507935 |6.315273055555555E7 |87.63583323809523 |2014.0   |\n",
            "|2015|120.17575393253965|121.24452385714291|118.8630954325397 |120.03999980555547|5.18378869047619E7  |115.96740080555561|2015.0   |\n",
            "|2016|104.50777772619044|105.4271825436508 |103.69027771825397|104.60400786904763|3.84153623015873E7  |103.15032854761901|2016.0   |\n",
            "+----+------------------+------------------+------------------+------------------+--------------------+------------------+---------+\n",
            "\n"
          ]
        }
      ],
      "source": [
        "# Create new column `Year`\n",
        "df = df.withColumn(\"Year\", year(\"Date\"))\n",
        "average_per_year = (\n",
        "    df.groupBy(\"Year\")\n",
        "    .agg(\n",
        "        avg(\"Open\").alias(\"avg(Open)\"),\n",
        "        avg(\"High\").alias(\"avg(High)\"),\n",
        "        avg(\"Low\").alias(\"avg(Low)\"),\n",
        "        avg(\"Close\").alias(\"avg(Close)\"),\n",
        "        avg(\"Volume\").alias(\"avg(Volume)\"),\n",
        "        avg(\"Adj Close\").alias(\"avg(Adj Close)\"),\n",
        "        avg(\"Year\").alias(\"avg(Year)\")\n",
        "    )\n",
        "    .orderBy(\"Year\")\n",
        ")\n",
        "\n",
        "# Show the resulting DataFrame\n",
        "average_per_year.show(truncate=False)"
      ]
    },
    {
      "cell_type": "code",
      "execution_count": 229,
      "metadata": {
        "id": "502LzjHLcEwZ",
        "outputId": "c0d17dd0-fb83-4b3e-9b64-36fa1b649e6d",
        "colab": {
          "base_uri": "https://localhost:8080/"
        }
      },
      "outputs": [
        {
          "output_type": "stream",
          "name": "stdout",
          "text": [
            "+----+-------------------+\n",
            "|Year|AverageClosingPrice|\n",
            "+----+-------------------+\n",
            "|2010|  259.8424600000002|\n",
            "|2011| 364.00432532142867|\n",
            "|2012|  576.0497195640002|\n",
            "|2013|  472.6348802857143|\n",
            "|2014|  295.4023416507935|\n",
            "|2015| 120.03999980555547|\n",
            "|2016| 104.60400786904763|\n",
            "+----+-------------------+\n",
            "\n"
          ]
        }
      ],
      "source": [
        "# Groupby `Year` and average the Close price\n",
        "average_closing_per_year.show()\n"
      ]
    },
    {
      "cell_type": "markdown",
      "metadata": {
        "id": "PdDMLqQUcEwa"
      },
      "source": [
        "## Thank you!"
      ]
    }
  ],
  "metadata": {
    "kernelspec": {
      "display_name": "Python 3",
      "language": "python",
      "name": "python3"
    },
    "language_info": {
      "codemirror_mode": {
        "name": "ipython",
        "version": 3
      },
      "file_extension": ".py",
      "mimetype": "text/x-python",
      "name": "python",
      "nbconvert_exporter": "python",
      "pygments_lexer": "ipython3",
      "version": "3.6.0"
    },
    "colab": {
      "provenance": []
    }
  },
  "nbformat": 4,
  "nbformat_minor": 0
}